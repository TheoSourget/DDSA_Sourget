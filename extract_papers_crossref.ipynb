{
 "cells": [
  {
   "attachments": {},
   "cell_type": "markdown",
   "metadata": {},
   "source": [
    "## Extract dataset used by a paper with Crossref API"
   ]
  },
  {
   "attachments": {},
   "cell_type": "markdown",
   "metadata": {},
   "source": [
    "Exemple of request for the paper \"Exploring Soothness...\": http://api.crossref.org/works/10.1007/978-3-031-16443-9_4"
   ]
  },
  {
   "cell_type": "code",
   "execution_count": 7,
   "metadata": {},
   "outputs": [],
   "source": [
    "import requests\n",
    "\n",
    "#Dictionnary of papers with names as key and DOIs as value\n",
    "papers = {\n",
    "    \"Exploring Smoothness and Class-Separation for Semi-supervised Medical Image Segmentation\":\"10.1007/978-3-031-16443-9_4\",\n",
    "    \"MaxStyle: Adversarial Style Composition for Robust Medical Image Segmentation\":\"10.1007/978-3-031-16443-9_15\",\n",
    "    \"Swin-Unet: Unet-like Pure Transformer for Medical Image Segmentation\":\"10.1007/978-3-031-25066-8_9\",\n",
    "    \"nnFormer: Volumetric Medical Image Segmentation via a 3D Transformer\":\"10.48550/arXiv.2109.03201\",\n",
    "    \"TransUNet: Transformers Make Strong Encoders for Medical Image Segmentation\":\"10.48550/arXiv.2102.04306\"\n",
    "}\n",
    "\n",
    "#Dictionnary with dataset names as key and DOI as value\n",
    "datasets = {\n",
    "    \"ACDC\":\"10.1109/TMI.2018.2837502\",\n",
    "    \"LA\":\"10.1016/j.media.2020.101832\",\n",
    "    \"PROMISE12\":\"10.1016/j.media.2013.12.002\",\n",
    "    \"MSCMRSeg\":\"10.48550/arxiv.2006.12434\",\n",
    "    \"M&Ms\":\"10.1109/tmi.2021.3090082\",\n",
    "    \"Medical Decathlon\":\"10.1038/s41467-022-30695-9\",\n",
    "    \"I2CVB\":\"10.1016/j.compbiomed.2015.02.009\",\n",
    "    \"BRATS\":\"10.1109/tmi.2014.2377694\"\n",
    "}"
   ]
  },
  {
   "cell_type": "code",
   "execution_count": 8,
   "metadata": {},
   "outputs": [
    {
     "name": "stdout",
     "output_type": "stream",
     "text": [
      "nnFormer: Volumetric Medical Image Segmentation via a 3D Transformer not found\n",
      "TransUNet: Transformers Make Strong Encoders for Medical Image Segmentation not found\n"
     ]
    },
    {
     "data": {
      "text/plain": [
       "{'Exploring Smoothness and Class-Separation for Semi-supervised Medical Image Segmentation': ['ACDC',\n",
       "  'LA'],\n",
       " 'MaxStyle: Adversarial Style Composition for Robust Medical Image Segmentation': ['I2CVB',\n",
       "  'PROMISE12'],\n",
       " 'Swin-Unet: Unet-like Pure Transformer for Medical Image Segmentation': [],\n",
       " 'nnFormer: Volumetric Medical Image Segmentation via a 3D Transformer': [],\n",
       " 'TransUNet: Transformers Make Strong Encoders for Medical Image Segmentation': []}"
      ]
     },
     "execution_count": 8,
     "metadata": {},
     "output_type": "execute_result"
    }
   ],
   "source": [
    "#Base url for the request\n",
    "base_url = \"http://api.crossref.org/works/\"\n",
    "\n",
    "#To only get the field of referenced works in the response\n",
    "query_param = {\n",
    "    \"select\":\"referenced_works\"\n",
    "}\n",
    "\n",
    "\n",
    "#Will be filled with datasets found in the \"referenced works\" response of each paper\n",
    "datasets_used = {p:[] for p in papers}\n",
    "\n",
    "for paper_name in papers:\n",
    "    request_url = base_url + papers[paper_name]\n",
    "    request = requests.get(request_url)\n",
    "    if request.status_code == 200:\n",
    "        json_response = request.json()\n",
    "        for ref in json_response[\"message\"][\"reference\"]:\n",
    "            if \"DOI\" in ref:\n",
    "                for ds in datasets:\n",
    "                    if ref[\"DOI\"] == datasets[ds]:\n",
    "                        datasets_used[paper_name].append(ds)\n",
    "    else:\n",
    "        print(f\"{paper_name} not found\")\n",
    "datasets_used"
   ]
  }
 ],
 "metadata": {
  "kernelspec": {
   "display_name": "Python 3",
   "language": "python",
   "name": "python3"
  },
  "language_info": {
   "codemirror_mode": {
    "name": "ipython",
    "version": 3
   },
   "file_extension": ".py",
   "mimetype": "text/x-python",
   "name": "python",
   "nbconvert_exporter": "python",
   "pygments_lexer": "ipython3",
   "version": "3.10.6"
  },
  "orig_nbformat": 4,
  "vscode": {
   "interpreter": {
    "hash": "916dbcbb3f70747c44a77c7bcd40155683ae19c65e1c03b4aa3499c5328201f1"
   }
  }
 },
 "nbformat": 4,
 "nbformat_minor": 2
}
