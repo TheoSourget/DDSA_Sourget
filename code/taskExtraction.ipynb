{
 "cells": [
  {
   "attachments": {},
   "cell_type": "markdown",
   "metadata": {},
   "source": [
    "# Task Extraction\n",
    "Aim to get the task of paper by searching for key words in abstract"
   ]
  },
  {
   "cell_type": "code",
   "execution_count": 27,
   "metadata": {},
   "outputs": [
    {
     "name": "stdout",
     "output_type": "stream",
     "text": [
      "2020\n",
      "2021\n",
      "2022\n",
      "2023\n"
     ]
    }
   ],
   "source": [
    "import requests\n",
    "with open(\"../data/keywords.csv\",\"r\") as kw_file:\n",
    "    keywords = next(kw_file)\n",
    "    keywords = keywords.split(\",\")\n",
    "\n",
    "query_url = \"https://api.openalex.org/works\"\n",
    "with open(\"keywordsHist.info\",\"w\") as kw_hist:\n",
    "    for year in range(2020,2024):\n",
    "        print(year)\n",
    "        next_page = True\n",
    "        page_number = 1\n",
    "        while next_page:\n",
    "            query_param = {\n",
    "                'page':page_number,\n",
    "                'filter':f\"concepts.id:C89600930,concepts.id:C119857082,has_abstract:true,publication_year:{year}\"\n",
    "            }\n",
    "            r_year = requests.get(query_url,params=query_param)\n",
    "            if r_year.status_code == 200:\n",
    "                r_json = r_year.json()\n",
    "                if not r_json[\"results\"]:\n",
    "                    next_page = False\n",
    "                else:\n",
    "                    for paper in r_json[\"results\"]:\n",
    "                        hist = [0 for w in keywords]\n",
    "                        for i,word in enumerate(keywords):\n",
    "                            if word in paper[\"abstract_inverted_index\"]:\n",
    "                                hist[i] = len(paper[\"abstract_inverted_index\"][word])\n",
    "                        kw_hist.write(f\"{paper['doi']},{year},{hist}\\n\")\n",
    "                    page_number += 1\n",
    "            else:\n",
    "                next_page=False\n",
    "            "
   ]
  }
 ],
 "metadata": {
  "kernelspec": {
   "display_name": "Python 3",
   "language": "python",
   "name": "python3"
  },
  "language_info": {
   "codemirror_mode": {
    "name": "ipython",
    "version": 3
   },
   "file_extension": ".py",
   "mimetype": "text/x-python",
   "name": "python",
   "nbconvert_exporter": "python",
   "pygments_lexer": "ipython3",
   "version": "3.10.6"
  },
  "orig_nbformat": 4,
  "vscode": {
   "interpreter": {
    "hash": "916dbcbb3f70747c44a77c7bcd40155683ae19c65e1c03b4aa3499c5328201f1"
   }
  }
 },
 "nbformat": 4,
 "nbformat_minor": 2
}
