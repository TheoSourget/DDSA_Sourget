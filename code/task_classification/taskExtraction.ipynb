{
 "cells": [
  {
   "attachments": {},
   "cell_type": "markdown",
   "metadata": {},
   "source": [
    "# Keywords generation\n",
    "The goal is to use the abstract from papers we know reference ACDC to get the list of most present word and use this as keywords for other papers"
   ]
  },
  {
   "cell_type": "code",
   "execution_count": 2,
   "metadata": {},
   "outputs": [
    {
     "name": "stderr",
     "output_type": "stream",
     "text": [
      "[nltk_data] Downloading package stopwords to /home/theo/nltk_data...\n",
      "[nltk_data]   Package stopwords is already up-to-date!\n"
     ]
    }
   ],
   "source": [
    "import pandas as pd\n",
    "import matplotlib.pyplot as plt\n",
    "from collections import Counter\n",
    "import requests\n",
    "from sklearn.decomposition import PCA\n",
    "from ast import literal_eval\n",
    "from sklearn.cluster import KMeans\n",
    "from sklearn.preprocessing import normalize\n",
    "import math\n",
    "import numpy as np\n",
    "\n",
    "from sklearn.neighbors import KernelDensity\n",
    "from sklearn.model_selection import train_test_split\n",
    "\n",
    "import nltk\n",
    "nltk.download(\"stopwords\")\n",
    "\n",
    "from nltk.corpus import stopwords\n",
    "#Remove stopwords for easier parsing afterwards\n",
    "stop_words = set(stopwords.words(\"english\"))\n",
    "\n",
    "datasets =[\"ACDC\",\"I2CVB\",\"BRATS\",\"M&Ms\"]\n",
    "df = pd.read_csv(\"../../results/extracted_csv/paper_openalex.csv\")"
   ]
  },
  {
   "attachments": {},
   "cell_type": "markdown",
   "metadata": {},
   "source": [
    "Get for each dataset the count of papers with a word in their abstract"
   ]
  },
  {
   "cell_type": "code",
   "execution_count": 3,
   "metadata": {},
   "outputs": [],
   "source": [
    "query_url = \"https://api.openalex.org/works/doi\"\n",
    "\n",
    "counters = []\n",
    "for d in datasets:\n",
    "    word_count = Counter()\n",
    "    df_dataset = df[df[\"dataset_used\"] == d]\n",
    "    for doi in df_dataset['DOI']:\n",
    "        r = requests.get(query_url+doi)\n",
    "        if r.status_code == 200:\n",
    "            r_json = r.json()\n",
    "            if r_json[\"abstract_inverted_index\"]:\n",
    "                for w in r_json[\"abstract_inverted_index\"]:\n",
    "                    w_clean = ''.join(filter(str.isalnum, w)).lower()\n",
    "                    if w_clean not in stop_words:\n",
    "                        word_count[w_clean] += 1\n",
    "        else:\n",
    "            print(f\"Error {r.status_code} for {doi}\")\n",
    "            break\n",
    "    counters.append(word_count)"
   ]
  },
  {
   "attachments": {},
   "cell_type": "markdown",
   "metadata": {},
   "source": [
    "Apply tf-idf to make discrimative word more important"
   ]
  },
  {
   "cell_type": "code",
   "execution_count": 4,
   "metadata": {},
   "outputs": [],
   "source": [
    "tf_idf_counters = []\n",
    "for i,dataset_count in enumerate(counters):\n",
    "    tf_idf_c = Counter()\n",
    "    N = sum([len(df[df[\"dataset_used\"] == d]) for d in datasets])\n",
    "    for w in dataset_count:\n",
    "        tf_num = dataset_count[w]/len(df[df[\"dataset_used\"] == datasets[i]])\n",
    "        dfx = sum([dc[w] for dc in counters])\n",
    "        tf_idf_c[w] =tf_num*math.log(N/dfx)\n",
    "    tf_idf_counters.append(tf_idf_c)"
   ]
  },
  {
   "cell_type": "code",
   "execution_count": 35,
   "metadata": {},
   "outputs": [],
   "source": [
    "for i,count in enumerate(counters):\n",
    "    df_wc = pd.DataFrame.from_dict([count]).T\n",
    "    df_wc = df_wc.sort_values(by=0,ascending=False)\n",
    "    df_wc.to_csv(f\"../../results/classification/wordcount_{datasets[i]}.csv\")\n",
    "\n",
    "for i,count in enumerate(tf_idf_counters):\n",
    "    df_wc = pd.DataFrame.from_dict([count]).T\n",
    "    df_wc = df_wc.sort_values(by=0,ascending=False)\n",
    "    df_wc.to_csv(f\"../../results/classification/wordcount_tfidf_{datasets[i]}.csv\")"
   ]
  },
  {
   "attachments": {},
   "cell_type": "markdown",
   "metadata": {},
   "source": [
    "# Task Extraction\n",
    "The goal is to classify the task of a paper using a list of keywords\n"
   ]
  },
  {
   "cell_type": "code",
   "execution_count": 36,
   "metadata": {},
   "outputs": [],
   "source": [
    "with open(\"../../data/keywords.csv\",\"r\") as kw_file:\n",
    "    keywords = next(kw_file)\n",
    "    keywords = keywords.split(\",\")"
   ]
  },
  {
   "attachments": {},
   "cell_type": "markdown",
   "metadata": {},
   "source": [
    "## Keywords histogram extraction\n",
    "Compute keywords histogram for papers from OpenAlex that references ACDC.\n"
   ]
  },
  {
   "cell_type": "code",
   "execution_count": 39,
   "metadata": {},
   "outputs": [],
   "source": [
    "query_url = \"https://api.openalex.org/works/doi\"\n",
    "\n",
    "df_acdc = df[df[\"dataset_used\"] == \"ACDC\"]\n",
    "with open('../../results/classification/keywordsHist_ACDC.csv',\"w\") as kw_hist:\n",
    "    kw_hist.write(f'doi,hist\\n')\n",
    "    for doi in df_acdc['DOI']:\n",
    "        r = requests.get(query_url+doi)\n",
    "        if r.status_code == 200:\n",
    "            r_json = r.json()\n",
    "            if r_json[\"abstract_inverted_index\"]:\n",
    "                hist = [0 for w in keywords]\n",
    "                for i,word in enumerate(keywords):\n",
    "                    clean_abstract = {''.join(filter(str.isalnum, w)).lower():r_json[\"abstract_inverted_index\"][w] for w in r_json[\"abstract_inverted_index\"]}\n",
    "                    if word in clean_abstract:\n",
    "                        hist[i] = len(clean_abstract[word])\n",
    "                kw_hist.write(f'{doi},\"{hist}\"\\n')\n",
    "\n",
    "        else:\n",
    "            print(f\"Error {r.status_code} for {doi}\")\n",
    "            break\n"
   ]
  },
  {
   "attachments": {},
   "cell_type": "markdown",
   "metadata": {},
   "source": [
    "Compute keywords histogram for papers from OpenAlex with an abstract and which are tag with \"Machine Learning\" and \"Segmentation\" concepts."
   ]
  },
  {
   "cell_type": "code",
   "execution_count": 7,
   "metadata": {},
   "outputs": [
    {
     "name": "stdout",
     "output_type": "stream",
     "text": [
      "2014\n",
      "2015\n",
      "2016\n",
      "2017\n",
      "2018\n",
      "2019\n",
      "2020\n",
      "2021\n",
      "2022\n",
      "2023\n"
     ]
    }
   ],
   "source": [
    "query_url = \"https://api.openalex.org/works\"\n",
    "with open('../../results/classification/keywordsHist.csv',\"w\") as kw_hist:\n",
    "    kw_hist.write(f'doi,year,hist\\n')\n",
    "    for year in range(2014,2024):\n",
    "        print(year)\n",
    "        next_page = True\n",
    "        page_number = 1\n",
    "        while next_page:\n",
    "            query_param = {\n",
    "                'page':page_number,\n",
    "                'filter':f\"concepts.id:C89600930,concepts.id:C154945302,has_abstract:true,publication_year:{year}\"\n",
    "            }\n",
    "            r_year = requests.get(query_url,params=query_param)\n",
    "            if r_year.status_code == 200:\n",
    "                r_json = r_year.json()\n",
    "                if not r_json[\"results\"]:\n",
    "                    next_page = False\n",
    "                else:\n",
    "                    for paper in r_json[\"results\"]:\n",
    "                        hist = [0 for w in keywords]\n",
    "                        for i,word in enumerate(keywords):\n",
    "                            clean_abstract = {''.join(filter(str.isalnum, w)).lower():paper[\"abstract_inverted_index\"][w] for w in paper[\"abstract_inverted_index\"]}\n",
    "                            if word in clean_abstract:\n",
    "                                hist[i] = len(clean_abstract[word])\n",
    "                        kw_hist.write(f'{paper[\"doi\"]},{year},\"{hist}\"\\n')\n",
    "                    page_number += 1\n",
    "            else:\n",
    "                next_page=False\n",
    "            "
   ]
  },
  {
   "attachments": {},
   "cell_type": "markdown",
   "metadata": {},
   "source": [
    "## Paper classification\n",
    "Assign a task to a paper using its histogram of keywords using clustering"
   ]
  },
  {
   "cell_type": "code",
   "execution_count": 60,
   "metadata": {},
   "outputs": [
    {
     "name": "stdout",
     "output_type": "stream",
     "text": [
      "0.7782110727415195\n"
     ]
    },
    {
     "name": "stderr",
     "output_type": "stream",
     "text": [
      "/home/theo/.local/lib/python3.10/site-packages/sklearn/cluster/_kmeans.py:870: FutureWarning: The default value of `n_init` will change from 10 to 'auto' in 1.4. Set the value of `n_init` explicitly to suppress the warning\n",
      "  warnings.warn(\n"
     ]
    }
   ],
   "source": [
    "with open('../../results/classification/keywordsHist.csv','r') as f:\n",
    "    df_hist = pd.read_csv(f)\n",
    "    df_hist[\"hist\"] = df_hist[\"hist\"].apply(literal_eval)\n",
    "\n",
    "hists = []\n",
    "for d in df_hist[\"hist\"].to_numpy():\n",
    "    hists.append(d)\n",
    "hist_norm = normalize(hists,axis=1)\n",
    "pca = PCA(n_components=9)\n",
    "hist_pca = pca.fit_transform(hist_norm)\n",
    "print(sum(pca.explained_variance_ratio_))\n",
    "\n",
    "\n",
    "kmeans = KMeans(n_clusters=2)\n",
    "hist_cluster = kmeans.fit_predict(hist_pca)\n",
    "\n",
    "df_hist[\"cluster\"] = hist_cluster\n",
    "df_hist.to_csv('../../results/classification/clusterisation_hist.csv')"
   ]
  },
  {
   "cell_type": "code",
   "execution_count": 64,
   "metadata": {},
   "outputs": [
    {
     "name": "stdout",
     "output_type": "stream",
     "text": [
      "456\n"
     ]
    },
    {
     "data": {
      "text/html": [
       "<div>\n",
       "<style scoped>\n",
       "    .dataframe tbody tr th:only-of-type {\n",
       "        vertical-align: middle;\n",
       "    }\n",
       "\n",
       "    .dataframe tbody tr th {\n",
       "        vertical-align: top;\n",
       "    }\n",
       "\n",
       "    .dataframe thead th {\n",
       "        text-align: right;\n",
       "    }\n",
       "</style>\n",
       "<table border=\"1\" class=\"dataframe\">\n",
       "  <thead>\n",
       "    <tr style=\"text-align: right;\">\n",
       "      <th></th>\n",
       "      <th>doi</th>\n",
       "      <th>year</th>\n",
       "      <th>hist</th>\n",
       "      <th>cluster</th>\n",
       "    </tr>\n",
       "  </thead>\n",
       "  <tbody>\n",
       "    <tr>\n",
       "      <th>145</th>\n",
       "      <td>https://doi.org/10.1109/isbi.2014.6867948</td>\n",
       "      <td>2014</td>\n",
       "      <td>[0, 0, 0, 0, 1, 0, 0, 0, 0, 0, 0, 0, 0, 0, 0, ...</td>\n",
       "      <td>1</td>\n",
       "    </tr>\n",
       "    <tr>\n",
       "      <th>178</th>\n",
       "      <td>https://doi.org/10.1007/978-3-319-09994-1_22</td>\n",
       "      <td>2014</td>\n",
       "      <td>[3, 0, 0, 1, 2, 0, 0, 0, 0, 0, 0, 0, 0, 0, 0, ...</td>\n",
       "      <td>1</td>\n",
       "    </tr>\n",
       "    <tr>\n",
       "      <th>188</th>\n",
       "      <td>https://doi.org/10.4038/icter.v6i2.7150</td>\n",
       "      <td>2014</td>\n",
       "      <td>[0, 0, 0, 0, 1, 0, 0, 0, 0, 0, 0, 0, 0, 0, 0, ...</td>\n",
       "      <td>1</td>\n",
       "    </tr>\n",
       "    <tr>\n",
       "      <th>236</th>\n",
       "      <td>None</td>\n",
       "      <td>2014</td>\n",
       "      <td>[1, 0, 0, 0, 1, 0, 0, 0, 0, 0, 0, 0, 0, 0, 0, ...</td>\n",
       "      <td>1</td>\n",
       "    </tr>\n",
       "    <tr>\n",
       "      <th>294</th>\n",
       "      <td>https://doi.org/10.1109/isbi.2014.6868013</td>\n",
       "      <td>2014</td>\n",
       "      <td>[1, 0, 0, 0, 0, 0, 1, 0, 0, 0, 0, 0, 0, 0, 0, ...</td>\n",
       "      <td>1</td>\n",
       "    </tr>\n",
       "    <tr>\n",
       "      <th>...</th>\n",
       "      <td>...</td>\n",
       "      <td>...</td>\n",
       "      <td>...</td>\n",
       "      <td>...</td>\n",
       "    </tr>\n",
       "    <tr>\n",
       "      <th>19668</th>\n",
       "      <td>https://doi.org/10.36828/szxf7275</td>\n",
       "      <td>2023</td>\n",
       "      <td>[1, 0, 0, 1, 2, 0, 0, 1, 0, 0, 0, 0, 0, 0, 0, ...</td>\n",
       "      <td>1</td>\n",
       "    </tr>\n",
       "    <tr>\n",
       "      <th>19684</th>\n",
       "      <td>https://doi.org/10.21203/rs.3.rs-2590069/v1</td>\n",
       "      <td>2023</td>\n",
       "      <td>[3, 0, 1, 1, 1, 0, 0, 1, 2, 0, 0, 0, 0, 0, 0, ...</td>\n",
       "      <td>1</td>\n",
       "    </tr>\n",
       "    <tr>\n",
       "      <th>19716</th>\n",
       "      <td>https://doi.org/10.1002/mp.16338</td>\n",
       "      <td>2023</td>\n",
       "      <td>[2, 0, 0, 0, 0, 0, 0, 0, 0, 0, 0, 0, 0, 0, 0, ...</td>\n",
       "      <td>1</td>\n",
       "    </tr>\n",
       "    <tr>\n",
       "      <th>19735</th>\n",
       "      <td>https://doi.org/10.1117/12.2669932</td>\n",
       "      <td>2023</td>\n",
       "      <td>[4, 0, 0, 0, 0, 0, 0, 0, 1, 0, 0, 0, 0, 0, 0, ...</td>\n",
       "      <td>1</td>\n",
       "    </tr>\n",
       "    <tr>\n",
       "      <th>19748</th>\n",
       "      <td>https://doi.org/10.48550/arxiv.2303.01710</td>\n",
       "      <td>2023</td>\n",
       "      <td>[1, 0, 0, 0, 0, 0, 0, 0, 0, 0, 0, 0, 0, 0, 0, ...</td>\n",
       "      <td>1</td>\n",
       "    </tr>\n",
       "  </tbody>\n",
       "</table>\n",
       "<p>456 rows × 4 columns</p>\n",
       "</div>"
      ],
      "text/plain": [
       "                                                doi  year  \\\n",
       "145       https://doi.org/10.1109/isbi.2014.6867948  2014   \n",
       "178    https://doi.org/10.1007/978-3-319-09994-1_22  2014   \n",
       "188         https://doi.org/10.4038/icter.v6i2.7150  2014   \n",
       "236                                            None  2014   \n",
       "294       https://doi.org/10.1109/isbi.2014.6868013  2014   \n",
       "...                                             ...   ...   \n",
       "19668             https://doi.org/10.36828/szxf7275  2023   \n",
       "19684   https://doi.org/10.21203/rs.3.rs-2590069/v1  2023   \n",
       "19716              https://doi.org/10.1002/mp.16338  2023   \n",
       "19735            https://doi.org/10.1117/12.2669932  2023   \n",
       "19748     https://doi.org/10.48550/arxiv.2303.01710  2023   \n",
       "\n",
       "                                                    hist  cluster  \n",
       "145    [0, 0, 0, 0, 1, 0, 0, 0, 0, 0, 0, 0, 0, 0, 0, ...        1  \n",
       "178    [3, 0, 0, 1, 2, 0, 0, 0, 0, 0, 0, 0, 0, 0, 0, ...        1  \n",
       "188    [0, 0, 0, 0, 1, 0, 0, 0, 0, 0, 0, 0, 0, 0, 0, ...        1  \n",
       "236    [1, 0, 0, 0, 1, 0, 0, 0, 0, 0, 0, 0, 0, 0, 0, ...        1  \n",
       "294    [1, 0, 0, 0, 0, 0, 1, 0, 0, 0, 0, 0, 0, 0, 0, ...        1  \n",
       "...                                                  ...      ...  \n",
       "19668  [1, 0, 0, 1, 2, 0, 0, 1, 0, 0, 0, 0, 0, 0, 0, ...        1  \n",
       "19684  [3, 0, 1, 1, 1, 0, 0, 1, 2, 0, 0, 0, 0, 0, 0, ...        1  \n",
       "19716  [2, 0, 0, 0, 0, 0, 0, 0, 0, 0, 0, 0, 0, 0, 0, ...        1  \n",
       "19735  [4, 0, 0, 0, 0, 0, 0, 0, 1, 0, 0, 0, 0, 0, 0, ...        1  \n",
       "19748  [1, 0, 0, 0, 0, 0, 0, 0, 0, 0, 0, 0, 0, 0, 0, ...        1  \n",
       "\n",
       "[456 rows x 4 columns]"
      ]
     },
     "execution_count": 64,
     "metadata": {},
     "output_type": "execute_result"
    }
   ],
   "source": [
    "print(len(df_hist[df_hist['cluster'] == 1]))\n",
    "df_hist[df_hist['cluster'] == 1]"
   ]
  },
  {
   "attachments": {},
   "cell_type": "markdown",
   "metadata": {},
   "source": [
    "### Using KDE"
   ]
  },
  {
   "cell_type": "code",
   "execution_count": 87,
   "metadata": {},
   "outputs": [
    {
     "data": {
      "text/plain": [
       "array([-35.65458457, -36.03252364])"
      ]
     },
     "execution_count": 87,
     "metadata": {},
     "output_type": "execute_result"
    }
   ],
   "source": [
    "with open('../../results/classification/keywordsHist_ACDC.csv','r') as f:\n",
    "    df_hist = pd.read_csv(f)\n",
    "    #df_hist = df_hist[df_hist[\"hist\"] != \"[0, 0, 0, 0, 0, 0, 0, 0, 0, 0, 0, 0, 0, 0, 0, 0, 0, 0, 0, 0, 0, 0, 0, 0, 0, 0, 0, 0, 0, 0, 0, 0, 0, 0, 0, 0, 0, 0, 0, 0, 0, 0, 0, 0, 0, 0, 0]\"]\n",
    "    df_hist[\"hist\"] = df_hist[\"hist\"].apply(literal_eval)\n",
    "data = []\n",
    "for d in df_hist[\"hist\"].to_numpy():\n",
    "    data.append(d)\n",
    "data = np.array(data)\n",
    "\n",
    "\n",
    "data_norm = normalize(data,axis=1)\n",
    "\n",
    "X_train, X_test = train_test_split(data_norm, test_size=0.1, random_state=1907)\n",
    "    \n",
    "kde = KernelDensity(kernel='gaussian', bandwidth=\"silverman\")\n",
    "kde.fit(X_train)\n",
    "\n",
    "test_x1 = np.array([0, 0, 0, 0, 0, 0, 0, 0, 0, 0, 0, 0, 0, 0, 0, 0, 0, 0, 0, 0, 0, 0, 0, 0, 0, 0, 0, 0, 0, 0, 0, 0, 0, 0, 0, 0, 0, 0, 0, 0, 0, 0, 0, 0, 0, 0, 0])\n",
    "test_x2 = np.array([1, 1, 1, 1, 2, 1, 0, 1, 0, 0, 0, 1, 0, 0, 1, 0, 1, 1, 0, 0, 0, 1, 0, 0, 0, 0, 0, 0, 0, 0, 0, 0, 0, 0, 0, 0, 0, 0, 0, 0, 0, 0, 0, 0, 0, 0, 0])\n",
    "test_x = normalize([test_x1,test_x2],axis=1)\n",
    "\n",
    "kde.score_samples(test_x)\n"
   ]
  },
  {
   "cell_type": "code",
   "execution_count": 2,
   "metadata": {},
   "outputs": [
    {
     "name": "stdout",
     "output_type": "stream",
     "text": [
      "554\n",
      "Count of zeros in column  0  is :  215\n",
      "Count of zeros in column  1  is :  472\n",
      "Count of zeros in column  2  is :  473\n",
      "Count of zeros in column  3  is :  445\n",
      "Count of zeros in column  4  is :  449\n",
      "Count of zeros in column  5  is :  450\n",
      "Count of zeros in column  6  is :  459\n",
      "Count of zeros in column  7  is :  458\n",
      "Count of zeros in column  8  is :  472\n",
      "Count of zeros in column  9  is :  478\n",
      "Count of zeros in column  10  is :  514\n",
      "Count of zeros in column  11  is :  522\n",
      "Count of zeros in column  12  is :  523\n",
      "Count of zeros in column  13  is :  538\n",
      "Count of zeros in column  14  is :  527\n",
      "Count of zeros in column  15  is :  540\n",
      "Count of zeros in column  16  is :  537\n",
      "Count of zeros in column  17  is :  541\n",
      "Count of zeros in column  18  is :  536\n",
      "Count of zeros in column  19  is :  532\n",
      "Count of zeros in column  20  is :  537\n",
      "Count of zeros in column  21  is :  538\n",
      "Count of zeros in column  22  is :  543\n",
      "Count of zeros in column  23  is :  541\n",
      "Count of zeros in column  24  is :  544\n",
      "Count of zeros in column  25  is :  539\n",
      "Count of zeros in column  26  is :  541\n",
      "Count of zeros in column  27  is :  539\n",
      "Count of zeros in column  28  is :  544\n",
      "Count of zeros in column  29  is :  541\n",
      "Count of zeros in column  30  is :  540\n",
      "Count of zeros in column  31  is :  542\n",
      "Count of zeros in column  32  is :  546\n",
      "Count of zeros in column  33  is :  544\n",
      "Count of zeros in column  34  is :  546\n",
      "Count of zeros in column  35  is :  545\n",
      "Count of zeros in column  36  is :  545\n",
      "Count of zeros in column  37  is :  549\n",
      "Count of zeros in column  38  is :  549\n",
      "Count of zeros in column  39  is :  549\n",
      "Count of zeros in column  40  is :  547\n",
      "Count of zeros in column  41  is :  547\n",
      "Count of zeros in column  42  is :  548\n",
      "Count of zeros in column  43  is :  547\n",
      "Count of zeros in column  44  is :  548\n",
      "Count of zeros in column  45  is :  549\n",
      "Count of zeros in column  46  is :  551\n"
     ]
    }
   ],
   "source": [
    "with open('../../results/classification/keywordsHist_ACDC.csv','r') as f:\n",
    "    df_hist = pd.read_csv(f)\n",
    "    df_hist[\"hist\"] = df_hist[\"hist\"].apply(literal_eval)\n",
    "data = []\n",
    "for d in df_hist[\"hist\"].to_numpy():\n",
    "    data.append(d)\n",
    "data = np.array(data)\n",
    "\n",
    "df = pd.DataFrame(data)\n",
    "describe = df.mean().sort_values(ascending=False)\n",
    "\n",
    "print(len(df))\n",
    "for column_name in df.columns:\n",
    "    column = df[column_name]\n",
    "    # Get the count of Zeros in column \n",
    "    count = (column == 0).sum()\n",
    "    print('Count of zeros in column ', column_name, ' is : ', count)"
   ]
  },
  {
   "cell_type": "code",
   "execution_count": 36,
   "metadata": {},
   "outputs": [
    {
     "data": {
      "text/plain": [
       "Text(0.5, 0, 'Year')"
      ]
     },
     "execution_count": 36,
     "metadata": {},
     "output_type": "execute_result"
    },
    {
     "data": {
      "image/png": "[encoded data removed]",
      "text/plain": [
       "<Figure size 640x480 with 1 Axes>"
      ]
     },
     "metadata": {},
     "output_type": "display_data"
    }
   ],
   "source": [
    "plt.figure()\n",
    "ax = df_acdc.groupby([\"publication_year\"]).count()[\"dataset_used\"].plot(style='-o')\n",
    "for y in df_acdc.groupby([\"publication_year\"]).count().iterrows(): \n",
    "    ax.annotate(y[1][0],(y[0]+0.1, y[1][0]-6))\n",
    "plt.title(\"Number of papers citing ACDC per year\")\n",
    "plt.ylabel(\"Number of citations\")\n",
    "plt.xlabel(\"Year\")\n",
    "plt"
   ]
  }
 ],
 "metadata": {
  "kernelspec": {
   "display_name": "Python 3",
   "language": "python",
   "name": "python3"
  },
  "language_info": {
   "codemirror_mode": {
    "name": "ipython",
    "version": 3
   },
   "file_extension": ".py",
   "mimetype": "text/x-python",
   "name": "python",
   "nbconvert_exporter": "python",
   "pygments_lexer": "ipython3",
   "version": "3.10.6"
  },
  "orig_nbformat": 4,
  "vscode": {
   "interpreter": {
    "hash": "916dbcbb3f70747c44a77c7bcd40155683ae19c65e1c03b4aa3499c5328201f1"
   }
  }
 },
 "nbformat": 4,
 "nbformat_minor": 2
}
