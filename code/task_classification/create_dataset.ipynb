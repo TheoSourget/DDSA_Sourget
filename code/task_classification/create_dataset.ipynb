{
 "cells": [
  {
   "attachments": {},
   "cell_type": "markdown",
   "metadata": {},
   "source": [
    "# Create Dataset\n",
    "Aim to create the dataset of abstract for task classification.\n",
    "From OpenAlex inverted_abstract will create a reconstructed string version of the abstract and classify this task in regard of the dataset the paper references"
   ]
  },
  {
   "cell_type": "code",
   "execution_count": 3,
   "metadata": {},
   "outputs": [
    {
     "name": "stdout",
     "output_type": "stream",
     "text": [
      "{'ACDC': 'Cardiac', 'LA': 'Cardiac', 'PROMISE12': 'Cardiac', 'MSCMRSeg': 'Cardiac', 'M&Ms': 'Cardiac', 'Medical Decathlon': 'Prostate', 'I2CVB': 'Prostate', 'BRATS': 'Brain', 'Synapse': 'Multi-organ'}\n"
     ]
    }
   ],
   "source": [
    "import pandas as pd\n",
    "import requests\n",
    "import numpy as np\n",
    "import csv\n",
    "\n",
    "\n",
    "datasets_context = {}\n",
    "ds_reader = csv.DictReader(open('../../data/datasets.csv'))\n",
    "for ds in ds_reader:\n",
    "    datasets_context[ds[\"name\"]] = ds[\"context\"]\n",
    "    \n",
    "df = pd.read_csv(\"../../results/extracted_csv/paper_openalex.csv\")"
   ]
  },
  {
   "cell_type": "code",
   "execution_count": 66,
   "metadata": {},
   "outputs": [],
   "source": [
    "query_url = \"https://api.openalex.org/works/doi\"\n",
    "\n",
    "paper_abstract = {}\n",
    "with open(\"../../results/extracted_csv/paper_openalex.csv\",\"r\") as paper_csv:\n",
    "    with open(\"../../data/abstract_dataset.csv\",\"w\") as abstract_file:\n",
    "        text = csv.reader(paper_csv,)\n",
    "        header=next(text)\n",
    "        for i,l in enumerate(text):\n",
    "            ds = datasets_context[l[-1]]\n",
    "            if not paper_abstract.get(l[1],None):\n",
    "                r = requests.get(query_url+l[1])\n",
    "                if r.status_code == 200:\n",
    "                    r_json = r.json()\n",
    "                    if r_json[\"abstract_inverted_index\"]:\n",
    "                        abstract = np.full(1000,\"\",dtype=object)\n",
    "                        for w in r_json[\"abstract_inverted_index\"]:\n",
    "                            for indices in r_json[\"abstract_inverted_index\"][w]:\n",
    "                                abstract[indices] = ''.join(filter(str.isalnum, w)).lower()\n",
    "                        abstract = abstract[abstract != \"\"]\n",
    "                        str_abstract = ' '.join(abstract)\n",
    "                        paper_abstract[l[1]] = str_abstract\n",
    "                        abstract_file.write(f'\\n{l[0]},{l[1]},\"{paper_abstract[l[1]]}\",{ds}')\n",
    "            else:\n",
    "                abstract_file.write(f'\\n{l[0]},{l[1]},\"{paper_abstract[l[1]]}\",{ds}')\n"
   ]
  }
 ],
 "metadata": {
  "kernelspec": {
   "display_name": "Python 3",
   "language": "python",
   "name": "python3"
  },
  "language_info": {
   "codemirror_mode": {
    "name": "ipython",
    "version": 3
   },
   "file_extension": ".py",
   "mimetype": "text/x-python",
   "name": "python",
   "nbconvert_exporter": "python",
   "pygments_lexer": "ipython3",
   "version": "3.10.6"
  },
  "orig_nbformat": 4
 },
 "nbformat": 4,
 "nbformat_minor": 2
}
