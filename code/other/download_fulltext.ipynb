{
 "cells": [
  {
   "attachments": {},
   "cell_type": "markdown",
   "metadata": {},
   "source": [
    "# Get list of papers from venue that cites a dataset"
   ]
  },
  {
   "attachments": {},
   "cell_type": "markdown",
   "metadata": {},
   "source": [
    "## Import libs"
   ]
  },
  {
   "cell_type": "code",
   "execution_count": 42,
   "metadata": {},
   "outputs": [],
   "source": [
    "# To request OpenAlex\n",
    "import requests\n",
    "import numpy as np\n",
    "from tqdm import tqdm\n",
    "\n",
    "#Better print of dict\n",
    "from pprint import pprint\n",
    "\n",
    "\n",
    "#To load data\n",
    "import csv\n",
    "import pandas as pd\n",
    "\n",
    "#To filter invalid pdf\n",
    "from pypdf import PdfReader\n",
    "from pypdf.errors import PdfReadError\n",
    "\n",
    "#To handle files\n",
    "import glob\n",
    "import os\n",
    "\n",
    "#To extract images from pdf\n",
    "import fitz\n",
    "\n",
    "#To extract tables from pdf\n",
    "import camelot\n",
    "import ghostscript"
   ]
  },
  {
   "attachments": {},
   "cell_type": "markdown",
   "metadata": {},
   "source": [
    "## Load list of datasets and list of venues\n",
    "We will search for paper from venue contained in [venues.csv](../../data/venues.csv) referencing one or more of the datasets contained in [datasets.csv](../../data/datasets.csv)"
   ]
  },
  {
   "cell_type": "code",
   "execution_count": 2,
   "metadata": {},
   "outputs": [],
   "source": [
    "#Dictionnary with dataset's name as key and DOI as value\n",
    "datasets_doi = {}\n",
    "ds_reader = csv.DictReader(open('../../data/datasets.csv'))\n",
    "for ds in ds_reader:\n",
    "    datasets_doi[ds[\"name\"]] = ds[\"DOI\"]\n",
    "\n",
    "#Dictionnary with venues name as key and openalex id as value loaded from venues.csv\n",
    "venue_id = {}\n",
    "ds_reader = csv.DictReader(open('../../data/venues.csv'))\n",
    "for ds in ds_reader:\n",
    "    venue_id[ds[\"name\"]] = ds[\"openalex_id\"]"
   ]
  },
  {
   "cell_type": "code",
   "execution_count": 3,
   "metadata": {},
   "outputs": [
    {
     "name": "stdout",
     "output_type": "stream",
     "text": [
      "Datasets:\n",
      "{'ACDC': '10.1109/TMI.2018.2837502',\n",
      " 'BRATS': '10.1109/tmi.2014.2377694',\n",
      " 'I2CVB': '10.1016/j.compbiomed.2015.02.009',\n",
      " 'LA': '10.1016/j.media.2020.101832',\n",
      " 'M&Ms': '10.1109/tmi.2021.3090082',\n",
      " 'MSCMRSeg': '10.48550/arxiv.2006.12434',\n",
      " 'Medical Decathlon': '10.1038/s41467-022-30695-9',\n",
      " 'PROMISE12': '10.1016/j.media.2013.12.002',\n",
      " 'Synapse': '10.7303/syn3193805'}\n",
      "\n",
      "Venues:\n",
      "{'LNCS': 'S106296714'}\n"
     ]
    }
   ],
   "source": [
    "print(\"Datasets:\")\n",
    "pprint(datasets_doi)\n",
    "print(\"\\nVenues:\")\n",
    "pprint(venue_id)"
   ]
  },
  {
   "attachments": {},
   "cell_type": "markdown",
   "metadata": {},
   "source": [
    "## Try to convert DOI to OpenAlex ID"
   ]
  },
  {
   "cell_type": "code",
   "execution_count": 4,
   "metadata": {},
   "outputs": [
    {
     "name": "stdout",
     "output_type": "stream",
     "text": [
      "Couldn't convert DOI for Synapse into OpenAlex ID\n"
     ]
    }
   ],
   "source": [
    "\"\"\"\n",
    "Convert a DOI to OpenAlex ID used as value in some API field such as \"referenced_works\"\n",
    "@param\n",
    "    - DOI: the doi we want to convert\n",
    "@return\n",
    "    The OpenAlex ID if the DOI is in OpenAlex database, None otherwise\n",
    "\"\"\"\n",
    "def doi_to_OpenAlexId(doi):\n",
    "    base_url = f\"https://api.openalex.org/works/doi:{doi}\"\n",
    "    r = requests.get(base_url)\n",
    "    if r.status_code == 200:\n",
    "        r_json = r.json()\n",
    "        return r_json[\"id\"]\n",
    "    else:\n",
    "        return None\n",
    "\n",
    "#Dictionnary with dataset names as key and openalex id as value. We associate an openalex ID because it's the value in the \"referenced_works\" field given by the API.\n",
    "datasets_id = {}\n",
    "\n",
    "#Convert DOI to OpenAlexID\n",
    "for ds  in datasets_doi:\n",
    "    openalex_id = doi_to_OpenAlexId(datasets_doi[ds])\n",
    "    if not openalex_id:\n",
    "        print(f\"Couldn't convert DOI for {ds} into OpenAlex ID\")\n",
    "    datasets_id[ds]=openalex_id"
   ]
  },
  {
   "cell_type": "code",
   "execution_count": 5,
   "metadata": {},
   "outputs": [
    {
     "name": "stdout",
     "output_type": "stream",
     "text": [
      "{'ACDC': 'https://openalex.org/W2804047627',\n",
      " 'BRATS': 'https://openalex.org/W1641498739',\n",
      " 'I2CVB': 'https://openalex.org/W2049522781',\n",
      " 'LA': 'https://openalex.org/W3093394156',\n",
      " 'M&Ms': 'https://openalex.org/W4226199676',\n",
      " 'MSCMRSeg': 'https://openalex.org/W4312016581',\n",
      " 'Medical Decathlon': 'https://openalex.org/W3172681723',\n",
      " 'PROMISE12': 'https://openalex.org/W2106033751',\n",
      " 'Synapse': None}\n"
     ]
    }
   ],
   "source": [
    "pprint(datasets_id)"
   ]
  },
  {
   "attachments": {},
   "cell_type": "markdown",
   "metadata": {},
   "source": [
    "note: Synapse value is None meaning it's note in OpenAlex database, therefore we won't be able to find references to it."
   ]
  },
  {
   "attachments": {},
   "cell_type": "markdown",
   "metadata": {},
   "source": [
    "## Get list of papers from each venues citing at least one of the dataset"
   ]
  },
  {
   "attachments": {},
   "cell_type": "markdown",
   "metadata": {},
   "source": [
    "Query OpenAlex filtering on the dataset and the venue"
   ]
  },
  {
   "cell_type": "code",
   "execution_count": 27,
   "metadata": {},
   "outputs": [],
   "source": [
    "#Dictionnary containing with dataset as key and a list of papers referencing the dataset as value\n",
    "paper_referencing = {ds:[] for ds in datasets_id}\n",
    "\n",
    "\n",
    "for ds in datasets_id:\n",
    "    for venue in venue_id:\n",
    "        #The list of paper referencing the dataset is decomposed in multiple pages so we have to iterate with the query parameter \"page\" to get them all.\n",
    "        next_page = True\n",
    "        page_number = 1\n",
    "        while next_page:\n",
    "            #Definition of the request\n",
    "            base_url = \"https://api.openalex.org/works\"\n",
    "            query_param = {\n",
    "                \"filter\":f\"cites:{datasets_id[ds]},locations.source.id:{venue_id[venue]}\",\n",
    "                \"page\":page_number\n",
    "            }\n",
    "            request = requests.get(base_url,params=query_param)\n",
    "\n",
    "            if request.status_code == 200:\n",
    "                request_json = request.json()\n",
    "                \n",
    "                #For each paper referencing the dataset we get the title (with a little transformation to remove \",\" and \"\\n\" inside of them), doi and publication year\n",
    "                for res in request_json[\"results\"]:\n",
    "                    title = res[\"title\"]\n",
    "                    title = title.replace(\",\",\"\")\n",
    "                    title = title.replace(\"\\n\",\"\")\n",
    "                    \n",
    "                    fulltext_url = res[\"open_access\"][\"oa_url\"]\n",
    "                    #Remove review paper\n",
    "                    if \"review\" in title.lower():\n",
    "                        continue\n",
    "\n",
    "                    doi = res[\"doi\"]\n",
    "                    if doi is not None:\n",
    "                        doi = doi[16:] #Remove the https://doi.org/\n",
    "                        paper_referencing[ds].append((title,doi,res[\"publication_year\"],res[\"abstract_inverted_index\"],fulltext_url))\n",
    "\n",
    "                #If the results field is empty that mean we are at the last page so we can continue to the next dataset\n",
    "                #otherwise we need to go to next page of the current dataset\n",
    "                if not request_json[\"results\"]:\n",
    "                    next_page = False\n",
    "                else:\n",
    "                    page_number += 1\n",
    "            else:\n",
    "                next_page = False\n",
    "            "
   ]
  },
  {
   "cell_type": "code",
   "execution_count": 28,
   "metadata": {},
   "outputs": [
    {
     "name": "stdout",
     "output_type": "stream",
     "text": [
      "Number of citations for ACDC: 120\n",
      "Number of citations for LA: 10\n",
      "Number of citations for MSCMRSeg: 0\n",
      "Number of citations for M&Ms: 34\n",
      "Number of citations for PROMISE12: 29\n",
      "Number of citations for Medical Decathlon: 4\n",
      "Number of citations for I2CVB: 13\n",
      "Number of citations for BRATS: 494\n",
      "Number of citations for Synapse: 0\n"
     ]
    }
   ],
   "source": [
    "for d in paper_referencing:\n",
    "    print(f\"Number of citations for {d}: {len(paper_referencing[d])}\")"
   ]
  },
  {
   "attachments": {},
   "cell_type": "markdown",
   "metadata": {},
   "source": [
    "# Try to filter out wrong references\n",
    "This part of the notebook is to obtained a more accurate list of paper to only keep paper that are actually using the dataset and not only referencing the paper for another reason.\n",
    "\n",
    "To do that we will:\n",
    "1. Search for the dataset name in the abstract, making the hypothesis that if authors put the name of a dataset inside an abstract they must be using it.\n",
    "2. Look for the name of the dataset in Table of the fulltext, again if the dataset name is in a Table it should be used (especially if we removed review papers)\n",
    "3. Classify the figure in the fulltext to detect the organ of the cited dataset. (does not confirm at 100% that the actual dataset is really used and not another one focusing on the same organ)\n",
    "\n",
    "If none of the above operation validate the citations, the paper is removed from the list. Otherwise, we can keep it.  "
   ]
  },
  {
   "attachments": {},
   "cell_type": "markdown",
   "metadata": {},
   "source": [
    "##  1. Check abstract for dataset's name"
   ]
  },
  {
   "attachments": {},
   "cell_type": "markdown",
   "metadata": {},
   "source": [
    "We will now query OpenAlex again for everypaper and search for the dataset name inside the \"abstract_inverted_index\" field of the API if it's present."
   ]
  },
  {
   "cell_type": "code",
   "execution_count": 29,
   "metadata": {},
   "outputs": [],
   "source": [
    "\"\"\"\n",
    "Reconstruct and transform the abstract of a paper using abstract_inverted_index field. We will removed non alpha numeric caracters and lower every word.\n",
    "\"\"\"\n",
    "def reconstruct_abstract(paper):\n",
    "    # Maximum size of the abstract, if the paper abstarct is longer it will be truncated\n",
    "    abstract = np.full(2500,\"\",dtype=object)\n",
    "    # The \"abstract_inverted_index\" field is a dictionnary with word as key and locations of this word in the abstract\n",
    "    # So we fill the abstarct variable above at the index of the word to reconstruct the abstract\n",
    "    if paper[3]:\n",
    "        for w in paper[3]:\n",
    "            for indices in paper[3][w]:\n",
    "                if indices < 2500:\n",
    "                    abstract[indices] = ''.join(filter(str.isalnum, w)).lower()\n",
    "        # Remove empty location mostly due to a shorter abstract \n",
    "        abstract = abstract[abstract != \"\"]\n",
    "        #Convert array to string\n",
    "    str_abstract = ' '.join(abstract)\n",
    "    return str_abstract"
   ]
  },
  {
   "cell_type": "code",
   "execution_count": 13,
   "metadata": {},
   "outputs": [],
   "source": [
    "paper_using_abstract = {dataset:[] for dataset in paper_referencing}\n",
    "for dataset in paper_referencing:\n",
    "    for paper in paper_referencing[dataset]:\n",
    "        abstract = reconstruct_abstract(paper)\n",
    "        if dataset.lower() in abstract:\n",
    "            paper_using_abstract[dataset].append(paper[:3])\n",
    "            confirmed_papers.append(paper[1])"
   ]
  },
  {
   "cell_type": "code",
   "execution_count": 30,
   "metadata": {},
   "outputs": [
    {
     "name": "stdout",
     "output_type": "stream",
     "text": [
      "Number of citations for ACDC: 21\n",
      "Number of citations for LA: 10\n",
      "Number of citations for MSCMRSeg: 0\n",
      "Number of citations for M&Ms: 0\n",
      "Number of citations for PROMISE12: 3\n",
      "Number of citations for Medical Decathlon: 0\n",
      "Number of citations for I2CVB: 1\n",
      "Number of citations for BRATS: 266\n",
      "Number of citations for Synapse: 0\n"
     ]
    }
   ],
   "source": [
    "for d in paper_using_abstract:\n",
    "    print(f\"Number of citations for {d}: {len(paper_using_abstract[d])}\")"
   ]
  },
  {
   "attachments": {},
   "cell_type": "markdown",
   "metadata": {},
   "source": [
    "### Download paper's fulltexts"
   ]
  },
  {
   "cell_type": "code",
   "execution_count": null,
   "metadata": {},
   "outputs": [],
   "source": [
    "downloaded_doi = []"
   ]
  },
  {
   "cell_type": "code",
   "execution_count": 64,
   "metadata": {},
   "outputs": [
    {
     "name": "stdout",
     "output_type": "stream",
     "text": [
      "ACDC\n"
     ]
    },
    {
     "name": "stderr",
     "output_type": "stream",
     "text": [
      " 32%|███▏      | 38/120 [00:38<04:21,  3.19s/it]Xref table not zero-indexed. ID numbers for objects will be corrected.\n",
      " 68%|██████▊   | 81/120 [02:14<01:35,  2.44s/it]Xref table not zero-indexed. ID numbers for objects will be corrected.\n",
      "100%|██████████| 120/120 [03:53<00:00,  1.95s/it]\n"
     ]
    },
    {
     "name": "stdout",
     "output_type": "stream",
     "text": [
      "LA\n"
     ]
    },
    {
     "name": "stderr",
     "output_type": "stream",
     "text": [
      "100%|██████████| 10/10 [00:04<00:00,  2.01it/s]\n"
     ]
    },
    {
     "name": "stdout",
     "output_type": "stream",
     "text": [
      "MSCMRSeg\n"
     ]
    },
    {
     "name": "stderr",
     "output_type": "stream",
     "text": [
      "0it [00:00, ?it/s]\n"
     ]
    },
    {
     "name": "stdout",
     "output_type": "stream",
     "text": [
      "M&Ms\n"
     ]
    },
    {
     "name": "stderr",
     "output_type": "stream",
     "text": [
      " 50%|█████     | 17/34 [00:10<00:08,  2.05it/s]Xref table not zero-indexed. ID numbers for objects will be corrected.\n",
      "100%|██████████| 34/34 [00:38<00:00,  1.13s/it]\n"
     ]
    },
    {
     "name": "stdout",
     "output_type": "stream",
     "text": [
      "PROMISE12\n"
     ]
    },
    {
     "name": "stderr",
     "output_type": "stream",
     "text": [
      " 45%|████▍     | 13/29 [00:22<00:38,  2.40s/it]Xref table not zero-indexed. ID numbers for objects will be corrected.\n",
      "100%|██████████| 29/29 [00:39<00:00,  1.35s/it]\n"
     ]
    },
    {
     "name": "stdout",
     "output_type": "stream",
     "text": [
      "Medical Decathlon\n"
     ]
    },
    {
     "name": "stderr",
     "output_type": "stream",
     "text": [
      "100%|██████████| 4/4 [00:00<00:00, 32078.81it/s]\n"
     ]
    },
    {
     "name": "stdout",
     "output_type": "stream",
     "text": [
      "I2CVB\n"
     ]
    },
    {
     "name": "stderr",
     "output_type": "stream",
     "text": [
      "100%|██████████| 13/13 [00:10<00:00,  1.28it/s]\n"
     ]
    },
    {
     "name": "stdout",
     "output_type": "stream",
     "text": [
      "BRATS\n"
     ]
    },
    {
     "name": "stderr",
     "output_type": "stream",
     "text": [
      " 14%|█▍        | 69/494 [02:16<12:21,  1.74s/it]Xref table not zero-indexed. ID numbers for objects will be corrected.\n",
      " 34%|███▎      | 166/494 [04:35<16:39,  3.05s/it]Xref table not zero-indexed. ID numbers for objects will be corrected.\n",
      " 40%|███▉      | 197/494 [05:10<10:16,  2.08s/it]Xref table not zero-indexed. ID numbers for objects will be corrected.\n",
      " 44%|████▍     | 219/494 [05:32<06:30,  1.42s/it]Xref table not zero-indexed. ID numbers for objects will be corrected.\n",
      " 63%|██████▎   | 311/494 [07:00<02:43,  1.12it/s]Xref table not zero-indexed. ID numbers for objects will be corrected.\n",
      " 65%|██████▍   | 320/494 [07:10<03:00,  1.04s/it]Xref table not zero-indexed. ID numbers for objects will be corrected.\n",
      " 65%|██████▌   | 323/494 [07:10<02:13,  1.28it/s]Xref table not zero-indexed. ID numbers for objects will be corrected.\n",
      " 66%|██████▌   | 324/494 [07:11<02:02,  1.39it/s]Xref table not zero-indexed. ID numbers for objects will be corrected.\n",
      "100%|██████████| 494/494 [08:44<00:00,  1.06s/it]\n"
     ]
    },
    {
     "name": "stdout",
     "output_type": "stream",
     "text": [
      "Synapse\n"
     ]
    },
    {
     "name": "stderr",
     "output_type": "stream",
     "text": [
      "0it [00:00, ?it/s]\n"
     ]
    }
   ],
   "source": [
    "for dataset in paper_referencing:\n",
    "    print(dataset)\n",
    "    for paper in tqdm(paper_referencing[dataset]):\n",
    "        doi = paper[1]\n",
    "        fulltext_url = paper[4]\n",
    "        if not fulltext_url:\n",
    "            continue\n",
    "        if not paper in paper_using_abstract[dataset]:\n",
    "            #Check that paper hasn't been downloaded before (for another dataset), otherwise try to download it\n",
    "            file_path = f\"../../results/papers_fulltext/downloaded_pdf/{paper[0].replace('/','')}.pdf\"\n",
    "            if doi not in downloaded_doi:\n",
    "                try:\n",
    "                    r_fulltext = requests.get(fulltext_url,allow_redirects=True,timeout=10)\n",
    "                    pdf_content = r_fulltext.content\n",
    "                    if r_fulltext.status_code == 200:\n",
    "                        open(file_path,\"wb\").write(r_fulltext.content)\n",
    "                        downloaded_doi.append(doi)\n",
    "                    else:\n",
    "                        continue\n",
    "                except requests.exceptions.RequestException as ce:\n",
    "                    continue\n",
    "            try:\n",
    "                #Try to read the pdf (Raise an error if the file is an invalid pdf)\n",
    "                PdfReader(file_path,strict=True)\n",
    "            except PdfReadError:\n",
    "                #If a PdfReadError is raised, the pdf is invalid and therefore removed from downloaded list\n",
    "                downloaded_doi.remove(doi)\n",
    "                continue\n"
   ]
  },
  {
   "cell_type": "code",
   "execution_count": 65,
   "metadata": {},
   "outputs": [
    {
     "name": "stdout",
     "output_type": "stream",
     "text": [
      "Number of downloaded fulltext: 286\n"
     ]
    }
   ],
   "source": [
    "print(f\"Number of downloaded fulltext: {len(downloaded_doi)}\")"
   ]
  },
  {
   "attachments": {},
   "cell_type": "markdown",
   "metadata": {},
   "source": [
    "## 2. Check tables in fulltext for dataset's name"
   ]
  },
  {
   "cell_type": "code",
   "execution_count": null,
   "metadata": {},
   "outputs": [],
   "source": [
    "#TODO using code below"
   ]
  },
  {
   "attachments": {},
   "cell_type": "markdown",
   "metadata": {},
   "source": [
    "## 3. Check for dataset's organ in figures"
   ]
  },
  {
   "cell_type": "code",
   "execution_count": null,
   "metadata": {},
   "outputs": [],
   "source": [
    "#TODO using code below"
   ]
  },
  {
   "attachments": {},
   "cell_type": "markdown",
   "metadata": {},
   "source": [
    "# Example code for download "
   ]
  },
  {
   "attachments": {},
   "cell_type": "markdown",
   "metadata": {},
   "source": [
    "# Check fulltext of paper for either figures or tables"
   ]
  },
  {
   "attachments": {},
   "cell_type": "markdown",
   "metadata": {},
   "source": [
    "## Extract images from valid pdf"
   ]
  },
  {
   "cell_type": "code",
   "execution_count": 4,
   "metadata": {},
   "outputs": [],
   "source": [
    "#get every valid pdf path\n",
    "valid_pdf_path = glob.glob(\"../../results/papers_fulltext/valid_pdf/*.pdf\")\n",
    "\n",
    "#path of folder where images will be stored\n",
    "images_path = \"../../results/papers_fulltext/images\"\n",
    "#Create this folder if it does not exist\n",
    "if not os.path.exists(images_path):\n",
    "    os.makedirs(images_path)\n",
    "\n",
    "#For each pdf file\n",
    "for file in valid_pdf_path:\n",
    "    #Open the file\n",
    "    pdf_file = fitz.open(file)\n",
    "\n",
    "    #Get the number of pages in PDF file\n",
    "    page_nums = len(pdf_file)\n",
    "\n",
    "    #Create empty list to store images information\n",
    "    images_list = []\n",
    "\n",
    "    #Extract all images information from each page\n",
    "    for page_num in range(page_nums):\n",
    "        page_content = pdf_file[page_num]\n",
    "        images_list.extend(page_content.get_images())\n",
    "\n",
    "    #If there is at least one image in the pdf\n",
    "    if len(images_list)!=0:\n",
    "        #Create a subfolder for the article, this way we easily know from which paper the images is coming from\n",
    "        if not os.path.exists(os.path.join(images_path, os.path.basename(file.replace(\".pdf\",\"\")))):\n",
    "            os.makedirs(os.path.join(images_path, os.path.basename(file.replace(\".pdf\",\"\"))))\n",
    "\n",
    "        #Save all the extracted images\n",
    "        for i, img in enumerate(images_list, start=1):\n",
    "            #Extract the image object number\n",
    "            xref = img[0]\n",
    "            #Extract image\n",
    "            base_image = pdf_file.extract_image(xref)\n",
    "            #Store image bytes\n",
    "            image_bytes = base_image['image']\n",
    "            #Store image extension\n",
    "            image_ext = base_image['ext']\n",
    "            #Generate image file name\n",
    "            image_name = str(i) + '.' + image_ext\n",
    "            #Save image\n",
    "            with open(os.path.join(images_path, os.path.basename(file.replace(\".pdf\",\"\")),image_name) , 'wb') as image_file:\n",
    "                image_file.write(image_bytes)\n",
    "                image_file.close()\n",
    "\n"
   ]
  },
  {
   "attachments": {},
   "cell_type": "markdown",
   "metadata": {},
   "source": [
    "## Extract tables from valid PDF"
   ]
  },
  {
   "cell_type": "code",
   "execution_count": 11,
   "metadata": {},
   "outputs": [],
   "source": [
    "valid_pdf_path = glob.glob(\"../../results/papers_fulltext/valid_pdf/*.pdf\")\n",
    "for pdf in valid_pdf_path:\n",
    "    tables = camelot.read_pdf(pdf,\"all\",flavor=\"stream\",suppress_stdout=True)\n",
    "    for t in tables:\n",
    "        t_str = t.df.to_string()\n",
    "        if \"ACDC\" in t_str:\n",
    "            print(\"ACDC IN\",pdf)\n",
    "            break"
   ]
  },
  {
   "cell_type": "code",
   "execution_count": 29,
   "metadata": {},
   "outputs": [
    {
     "name": "stdout",
     "output_type": "stream",
     "text": [
      "ACDC IN ../../results/papers_fulltext/valid_pdf/5.pdf\n",
      "ACDC IN ../../results/papers_fulltext/valid_pdf/9.pdf\n",
      "ACDC IN ../../results/papers_fulltext/valid_pdf/6.pdf\n",
      "ACDC IN ../../results/papers_fulltext/valid_pdf/7.pdf\n",
      "ACDC IN ../../results/papers_fulltext/valid_pdf/8.pdf\n"
     ]
    }
   ],
   "source": [
    "for pdf in valid_pdf_path:\n",
    "    tables = camelot.read_pdf(pdf,\"all\",flavor=\"stream\",suppress_stdout=True)\n",
    "    for t in tables:\n",
    "        t_str = t.df.to_string()\n",
    "        if \"ACDC\" in t_str:\n",
    "            print(\"ACDC IN\",pdf)\n",
    "            break"
   ]
  }
 ],
 "metadata": {
  "kernelspec": {
   "display_name": "Python 3",
   "language": "python",
   "name": "python3"
  },
  "language_info": {
   "codemirror_mode": {
    "name": "ipython",
    "version": 3
   },
   "file_extension": ".py",
   "mimetype": "text/x-python",
   "name": "python",
   "nbconvert_exporter": "python",
   "pygments_lexer": "ipython3",
   "version": "3.10.6"
  },
  "orig_nbformat": 4
 },
 "nbformat": 4,
 "nbformat_minor": 2
}
