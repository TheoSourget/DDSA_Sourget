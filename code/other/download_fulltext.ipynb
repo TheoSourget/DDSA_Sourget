{
 "cells": [
  {
   "attachments": {},
   "cell_type": "markdown",
   "metadata": {},
   "source": [
    "# Get list of papers from venue that cites a dataset"
   ]
  },
  {
   "attachments": {},
   "cell_type": "markdown",
   "metadata": {},
   "source": [
    "## Import libs"
   ]
  },
  {
   "cell_type": "code",
   "execution_count": 81,
   "metadata": {},
   "outputs": [],
   "source": [
    "# To request OpenAlex\n",
    "import requests\n",
    "import numpy as np\n",
    "from tqdm import tqdm\n",
    "\n",
    "#Better print of dict\n",
    "from pprint import pprint\n",
    "\n",
    "\n",
    "#To load data\n",
    "import csv\n",
    "import pandas as pd\n",
    "\n",
    "#To filter invalid pdf\n",
    "from pypdf import PdfReader\n",
    "from pypdf.errors import PdfReadError\n",
    "\n",
    "#To handle files\n",
    "import glob\n",
    "import os\n",
    "\n",
    "#To extract images from pdf\n",
    "import fitz\n",
    "\n",
    "#To extract tables from pdf\n",
    "import camelot\n",
    "import ghostscript\n",
    "\n",
    "#For visualisation\n",
    "import matplotlib.pyplot as plt"
   ]
  },
  {
   "attachments": {},
   "cell_type": "markdown",
   "metadata": {},
   "source": [
    "## Load list of datasets and list of venues\n",
    "We will search for paper from venue contained in [venues.csv](../../data/venues.csv) referencing one or more of the datasets contained in [datasets.csv](../../data/datasets.csv)"
   ]
  },
  {
   "cell_type": "code",
   "execution_count": 4,
   "metadata": {},
   "outputs": [],
   "source": [
    "#Dictionnary with dataset's name as key and DOI as value\n",
    "datasets_doi = {}\n",
    "ds_reader = csv.DictReader(open('../../data/datasets.csv'))\n",
    "for ds in ds_reader:\n",
    "    datasets_doi[ds[\"name\"]] = ds[\"DOI\"]\n",
    "\n",
    "#Dictionnary with venues name as key and openalex id as value loaded from venues.csv\n",
    "venue_id = {}\n",
    "ds_reader = csv.DictReader(open('../../data/venues.csv'))\n",
    "for ds in ds_reader:\n",
    "    venue_id[ds[\"name\"]] = ds[\"openalex_id\"]"
   ]
  },
  {
   "cell_type": "code",
   "execution_count": 5,
   "metadata": {},
   "outputs": [
    {
     "name": "stdout",
     "output_type": "stream",
     "text": [
      "Datasets:\n",
      "{'ACDC': '10.1109/TMI.2018.2837502',\n",
      " 'BRATS': '10.1109/tmi.2014.2377694',\n",
      " 'I2CVB': '10.1016/j.compbiomed.2015.02.009',\n",
      " 'LA': '10.1016/j.media.2020.101832',\n",
      " 'M&Ms': '10.1109/tmi.2021.3090082',\n",
      " 'MSCMRSeg': '10.48550/arxiv.2006.12434',\n",
      " 'Medical Decathlon': '10.1038/s41467-022-30695-9',\n",
      " 'PROMISE12': '10.1016/j.media.2013.12.002',\n",
      " 'Synapse': '10.7303/syn3193805'}\n",
      "\n",
      "Venues:\n",
      "{'LNCS': 'S106296714'}\n"
     ]
    }
   ],
   "source": [
    "print(\"Datasets:\")\n",
    "pprint(datasets_doi)\n",
    "print(\"\\nVenues:\")\n",
    "pprint(venue_id)"
   ]
  },
  {
   "attachments": {},
   "cell_type": "markdown",
   "metadata": {},
   "source": [
    "## Try to convert DOI to OpenAlex ID"
   ]
  },
  {
   "cell_type": "code",
   "execution_count": 6,
   "metadata": {},
   "outputs": [
    {
     "name": "stdout",
     "output_type": "stream",
     "text": [
      "Couldn't convert DOI for Synapse into OpenAlex ID\n"
     ]
    }
   ],
   "source": [
    "\"\"\"\n",
    "Convert a DOI to OpenAlex ID used as value in some API field such as \"referenced_works\"\n",
    "@param\n",
    "    - DOI: the doi we want to convert\n",
    "@return\n",
    "    The OpenAlex ID if the DOI is in OpenAlex database, None otherwise\n",
    "\"\"\"\n",
    "def doi_to_OpenAlexId(doi):\n",
    "    base_url = f\"https://api.openalex.org/works/doi:{doi}\"\n",
    "    r = requests.get(base_url)\n",
    "    if r.status_code == 200:\n",
    "        r_json = r.json()\n",
    "        return r_json[\"id\"]\n",
    "    else:\n",
    "        return None\n",
    "\n",
    "#Dictionnary with dataset names as key and openalex id as value. We associate an openalex ID because it's the value in the \"referenced_works\" field given by the API.\n",
    "datasets_id = {}\n",
    "\n",
    "#Convert DOI to OpenAlexID\n",
    "for ds  in datasets_doi:\n",
    "    openalex_id = doi_to_OpenAlexId(datasets_doi[ds])\n",
    "    if not openalex_id:\n",
    "        print(f\"Couldn't convert DOI for {ds} into OpenAlex ID\")\n",
    "    datasets_id[ds]=openalex_id"
   ]
  },
  {
   "cell_type": "code",
   "execution_count": 7,
   "metadata": {},
   "outputs": [
    {
     "name": "stdout",
     "output_type": "stream",
     "text": [
      "{'ACDC': 'https://openalex.org/W2804047627',\n",
      " 'BRATS': 'https://openalex.org/W1641498739',\n",
      " 'I2CVB': 'https://openalex.org/W2049522781',\n",
      " 'LA': 'https://openalex.org/W3093394156',\n",
      " 'M&Ms': 'https://openalex.org/W4226199676',\n",
      " 'MSCMRSeg': 'https://openalex.org/W4312016581',\n",
      " 'Medical Decathlon': 'https://openalex.org/W3172681723',\n",
      " 'PROMISE12': 'https://openalex.org/W2106033751',\n",
      " 'Synapse': None}\n"
     ]
    }
   ],
   "source": [
    "pprint(datasets_id)"
   ]
  },
  {
   "attachments": {},
   "cell_type": "markdown",
   "metadata": {},
   "source": [
    "note: Synapse value is None meaning it's note in OpenAlex database, therefore we won't be able to find references to it."
   ]
  },
  {
   "attachments": {},
   "cell_type": "markdown",
   "metadata": {},
   "source": [
    "## Get list of papers from each venues citing at least one of the dataset"
   ]
  },
  {
   "attachments": {},
   "cell_type": "markdown",
   "metadata": {},
   "source": [
    "Query OpenAlex filtering on the dataset and the venue"
   ]
  },
  {
   "cell_type": "code",
   "execution_count": 17,
   "metadata": {},
   "outputs": [],
   "source": [
    "#Dictionnary containing with dataset as key and a list of papers referencing the dataset as value\n",
    "paper_referencing = {ds:[] for ds in datasets_id}\n",
    "\n",
    "\n",
    "for ds in datasets_id:\n",
    "    for venue in venue_id:\n",
    "        #The list of paper referencing the dataset is decomposed in multiple pages so we have to iterate with the query parameter \"page\" to get them all.\n",
    "        next_page = True\n",
    "        page_number = 1\n",
    "        while next_page:\n",
    "            #Definition of the request\n",
    "            base_url = \"https://api.openalex.org/works\"\n",
    "            query_param = {\n",
    "                \"filter\":f\"cites:{datasets_id[ds]},locations.source.id:{venue_id[venue]}\",\n",
    "                \"page\":page_number\n",
    "            }\n",
    "            request = requests.get(base_url,params=query_param)\n",
    "\n",
    "            if request.status_code == 200:\n",
    "                request_json = request.json()\n",
    "                \n",
    "                #For each paper referencing the dataset we get the title (with a little transformation to remove \",\" and \"\\n\" inside of them), doi and publication year\n",
    "                for res in request_json[\"results\"]:\n",
    "                    title = res[\"title\"]\n",
    "                    title = title.replace(\",\",\"\")\n",
    "                    title = title.replace(\"\\n\",\"\")\n",
    "                    \n",
    "                    fulltext_url = res[\"open_access\"][\"oa_url\"]\n",
    "                    #Remove review paper\n",
    "                    if \"review\" in title.lower():\n",
    "                        continue\n",
    "\n",
    "                    doi = res[\"doi\"]\n",
    "                    if doi is not None:\n",
    "                        doi = doi[16:] #Remove the https://doi.org/\n",
    "                        paper_referencing[ds].append((title,doi,res[\"publication_year\"],res[\"abstract_inverted_index\"],fulltext_url))\n",
    "\n",
    "                #If the results field is empty that mean we are at the last page so we can continue to the next dataset\n",
    "                #otherwise we need to go to next page of the current dataset\n",
    "                if not request_json[\"results\"]:\n",
    "                    next_page = False\n",
    "                else:\n",
    "                    page_number += 1\n",
    "            else:\n",
    "                next_page = False\n",
    "            "
   ]
  },
  {
   "cell_type": "code",
   "execution_count": 19,
   "metadata": {},
   "outputs": [
    {
     "name": "stdout",
     "output_type": "stream",
     "text": [
      "Number of citations for ACDC: 77\n",
      "Number of citations for LA: 12\n",
      "Number of citations for MSCMRSeg: 0\n",
      "Number of citations for M&Ms: 16\n",
      "Number of citations for PROMISE12: 24\n",
      "Number of citations for Medical Decathlon: 2\n",
      "Number of citations for I2CVB: 9\n",
      "Number of citations for BRATS: 318\n",
      "Number of citations for Synapse: 0\n"
     ]
    }
   ],
   "source": [
    "for d in paper_referencing:\n",
    "    print(f\"Number of citations for {d}: {len(paper_referencing[d])}\")"
   ]
  },
  {
   "attachments": {},
   "cell_type": "markdown",
   "metadata": {},
   "source": [
    "# Try to filter out wrong references\n",
    "This part of the notebook is to obtained a more accurate list of paper to only keep paper that are actually using the dataset and not only referencing the paper for another reason.\n",
    "\n",
    "To do that we will:\n",
    "1. Search for the dataset name in the abstract, making the hypothesis that if authors put the name of a dataset inside an abstract they must be using it.\n",
    "2. Look for the name of the dataset in Table of the fulltext, again if the dataset name is in a Table it should be used (especially if we removed review papers)\n",
    "3. Classify the figure in the fulltext to detect the organ of the cited dataset. (does not confirm at 100% that the actual dataset is really used and not another one focusing on the same organ)\n",
    "\n",
    "If none of the above operation validate the citations, the paper is removed from the list. Otherwise, we can keep it.  "
   ]
  },
  {
   "attachments": {},
   "cell_type": "markdown",
   "metadata": {},
   "source": [
    "##  1. Check abstract for dataset's name"
   ]
  },
  {
   "attachments": {},
   "cell_type": "markdown",
   "metadata": {},
   "source": [
    "We will now query OpenAlex again for everypaper and search for the dataset name inside the \"abstract_inverted_index\" field of the API if it's present."
   ]
  },
  {
   "cell_type": "code",
   "execution_count": 20,
   "metadata": {},
   "outputs": [],
   "source": [
    "\"\"\"\n",
    "Reconstruct and transform the abstract of a paper using abstract_inverted_index field. We will removed non alpha numeric caracters and lower every word.\n",
    "\"\"\"\n",
    "def reconstruct_abstract(paper):\n",
    "    # Maximum size of the abstract, if the paper abstarct is longer it will be truncated\n",
    "    abstract = np.full(2500,\"\",dtype=object)\n",
    "    # The \"abstract_inverted_index\" field is a dictionnary with word as key and locations of this word in the abstract\n",
    "    # So we fill the abstarct variable above at the index of the word to reconstruct the abstract\n",
    "    if paper[3]:\n",
    "        for w in paper[3]:\n",
    "            for indices in paper[3][w]:\n",
    "                if indices < 2500:\n",
    "                    abstract[indices] = ''.join(filter(str.isalnum, w)).lower()\n",
    "        # Remove empty location mostly due to a shorter abstract \n",
    "        abstract = abstract[abstract != \"\"]\n",
    "        #Convert array to string\n",
    "    str_abstract = ' '.join(abstract)\n",
    "    return str_abstract"
   ]
  },
  {
   "cell_type": "code",
   "execution_count": 71,
   "metadata": {},
   "outputs": [],
   "source": [
    "paper_using_abstract = {dataset:[] for dataset in paper_referencing}\n",
    "for dataset in paper_referencing:\n",
    "    for paper in paper_referencing[dataset]:\n",
    "        abstract = reconstruct_abstract(paper)\n",
    "        if dataset.lower() in abstract:\n",
    "            paper_using_abstract[dataset].append(paper[1])"
   ]
  },
  {
   "cell_type": "code",
   "execution_count": 72,
   "metadata": {},
   "outputs": [
    {
     "name": "stdout",
     "output_type": "stream",
     "text": [
      "Number of citations for ACDC: 13\n",
      "Number of citations for LA: 12\n",
      "Number of citations for MSCMRSeg: 0\n",
      "Number of citations for M&Ms: 0\n",
      "Number of citations for PROMISE12: 3\n",
      "Number of citations for Medical Decathlon: 0\n",
      "Number of citations for I2CVB: 0\n",
      "Number of citations for BRATS: 167\n",
      "Number of citations for Synapse: 0\n"
     ]
    }
   ],
   "source": [
    "for d in paper_using_abstract:\n",
    "    paper_using_abstract[d] = set(paper_using_abstract[d])\n",
    "    print(f\"Number of citations for {d}: {len(paper_using_abstract[d])}\")"
   ]
  },
  {
   "attachments": {},
   "cell_type": "markdown",
   "metadata": {},
   "source": [
    "### Download paper's fulltexts"
   ]
  },
  {
   "cell_type": "code",
   "execution_count": 23,
   "metadata": {},
   "outputs": [],
   "source": [
    "downloaded_doi = []\n",
    "title_to_doi = {}"
   ]
  },
  {
   "cell_type": "code",
   "execution_count": 24,
   "metadata": {},
   "outputs": [
    {
     "name": "stdout",
     "output_type": "stream",
     "text": [
      "ACDC\n"
     ]
    },
    {
     "name": "stderr",
     "output_type": "stream",
     "text": [
      " 39%|███▉      | 30/77 [01:08<01:17,  1.65s/it]Xref table not zero-indexed. ID numbers for objects will be corrected.\n",
      " 73%|███████▎  | 56/77 [02:05<00:45,  2.15s/it]Xref table not zero-indexed. ID numbers for objects will be corrected.\n",
      "100%|██████████| 77/77 [02:36<00:00,  2.03s/it]\n"
     ]
    },
    {
     "name": "stdout",
     "output_type": "stream",
     "text": [
      "LA\n"
     ]
    },
    {
     "name": "stderr",
     "output_type": "stream",
     "text": [
      "100%|██████████| 12/12 [00:04<00:00,  2.99it/s]\n"
     ]
    },
    {
     "name": "stdout",
     "output_type": "stream",
     "text": [
      "MSCMRSeg\n"
     ]
    },
    {
     "name": "stderr",
     "output_type": "stream",
     "text": [
      "0it [00:00, ?it/s]\n"
     ]
    },
    {
     "name": "stdout",
     "output_type": "stream",
     "text": [
      "M&Ms\n"
     ]
    },
    {
     "name": "stderr",
     "output_type": "stream",
     "text": [
      "100%|██████████| 16/16 [00:12<00:00,  1.25it/s]\n"
     ]
    },
    {
     "name": "stdout",
     "output_type": "stream",
     "text": [
      "PROMISE12\n"
     ]
    },
    {
     "name": "stderr",
     "output_type": "stream",
     "text": [
      "100%|██████████| 24/24 [00:24<00:00,  1.02s/it]\n"
     ]
    },
    {
     "name": "stdout",
     "output_type": "stream",
     "text": [
      "Medical Decathlon\n"
     ]
    },
    {
     "name": "stderr",
     "output_type": "stream",
     "text": [
      "100%|██████████| 2/2 [00:00<00:00, 21564.54it/s]\n"
     ]
    },
    {
     "name": "stdout",
     "output_type": "stream",
     "text": [
      "I2CVB\n"
     ]
    },
    {
     "name": "stderr",
     "output_type": "stream",
     "text": [
      "100%|██████████| 9/9 [00:03<00:00,  2.51it/s]\n"
     ]
    },
    {
     "name": "stdout",
     "output_type": "stream",
     "text": [
      "BRATS\n"
     ]
    },
    {
     "name": "stderr",
     "output_type": "stream",
     "text": [
      " 20%|██        | 64/318 [01:37<05:48,  1.37s/it]Xref table not zero-indexed. ID numbers for objects will be corrected.\n",
      " 45%|████▍     | 142/318 [02:50<03:54,  1.33s/it]Xref table not zero-indexed. ID numbers for objects will be corrected.\n",
      " 72%|███████▏  | 228/318 [04:05<01:14,  1.20it/s]Xref table not zero-indexed. ID numbers for objects will be corrected.\n",
      " 75%|███████▌  | 239/318 [04:12<01:02,  1.27it/s]Xref table not zero-indexed. ID numbers for objects will be corrected.\n",
      " 76%|███████▌  | 242/318 [04:13<00:46,  1.64it/s]Xref table not zero-indexed. ID numbers for objects will be corrected.\n",
      " 76%|███████▋  | 243/318 [04:13<00:42,  1.76it/s]Xref table not zero-indexed. ID numbers for objects will be corrected.\n",
      "100%|██████████| 318/318 [05:01<00:00,  1.06it/s]\n"
     ]
    },
    {
     "name": "stdout",
     "output_type": "stream",
     "text": [
      "Synapse\n"
     ]
    },
    {
     "name": "stderr",
     "output_type": "stream",
     "text": [
      "0it [00:00, ?it/s]\n"
     ]
    }
   ],
   "source": [
    "for dataset in paper_referencing:\n",
    "    print(dataset)\n",
    "    for paper in tqdm(paper_referencing[dataset]):\n",
    "        title = paper[0].replace('/','')\n",
    "        doi = paper[1]\n",
    "        fulltext_url = paper[4]\n",
    "        if title not in title_to_doi:\n",
    "            title_to_doi[title]=doi\n",
    "        if not fulltext_url:\n",
    "            continue\n",
    "        if not paper in paper_using_abstract[dataset]:\n",
    "            #Check that paper hasn't been downloaded before (for another dataset), otherwise try to download it\n",
    "            file_path = f\"../../results/papers_fulltext/downloaded_pdf/{title}.pdf\"\n",
    "            if doi not in downloaded_doi:\n",
    "                try:\n",
    "                    r_fulltext = requests.get(fulltext_url,allow_redirects=True,timeout=10)\n",
    "                    pdf_content = r_fulltext.content\n",
    "                    if r_fulltext.status_code == 200:\n",
    "                        open(file_path,\"wb\").write(r_fulltext.content)\n",
    "                        downloaded_doi.append(doi)\n",
    "                    else:\n",
    "                        continue\n",
    "                except requests.exceptions.RequestException as ce:\n",
    "                    continue\n",
    "            try:\n",
    "                #Try to read the pdf (Raise an error if the file is an invalid pdf)\n",
    "                PdfReader(file_path,strict=True)\n",
    "            except PdfReadError:\n",
    "                #If a PdfReadError is raised, the pdf is invalid and therefore removed from downloaded list\n",
    "                downloaded_doi.remove(doi)\n",
    "                continue\n"
   ]
  },
  {
   "cell_type": "code",
   "execution_count": 25,
   "metadata": {},
   "outputs": [
    {
     "name": "stdout",
     "output_type": "stream",
     "text": [
      "Number of downloaded fulltext: 190\n"
     ]
    }
   ],
   "source": [
    "print(f\"Number of downloaded fulltext: {len(downloaded_doi)}\")"
   ]
  },
  {
   "attachments": {},
   "cell_type": "markdown",
   "metadata": {},
   "source": [
    "At this point we have access to the pdf of the article. We first want to check whether the name of the dataset appears in the tables. The hypothesis is that if a dataset name appears in a table, it must be a table of results. And since we have removed the review papers from the list, this should indicate that the dataset is really used."
   ]
  },
  {
   "attachments": {},
   "cell_type": "markdown",
   "metadata": {},
   "source": [
    "## 2. Check tables in fulltext for dataset's name"
   ]
  },
  {
   "cell_type": "code",
   "execution_count": 105,
   "metadata": {},
   "outputs": [],
   "source": [
    "pdf_path = glob.glob(\"../../results/papers_fulltext/downloaded_pdf/*.pdf\")"
   ]
  },
  {
   "cell_type": "code",
   "execution_count": 44,
   "metadata": {},
   "outputs": [
    {
     "name": "stderr",
     "output_type": "stream",
     "text": [
      " 51%|█████▏    | 98/191 [08:18<03:57,  2.55s/it]  invalid pdf header: b'<!DOC'\n",
      "EOF marker not found\n",
      " 72%|███████▏  | 138/191 [09:58<02:13,  2.52s/it]Object 259 0 not defined.\n",
      "Object 307 0 not defined.\n",
      "Object 373 0 not defined.\n",
      "Object 446 0 not defined.\n",
      "Object 584 0 not defined.\n",
      " 76%|███████▌  | 145/191 [10:49<07:08,  9.32s/it]Object 230 0 not defined.\n",
      "100%|██████████| 191/191 [13:13<00:00,  4.15s/it]\n"
     ]
    }
   ],
   "source": [
    "paper_using_tables = {dataset:[] for dataset in paper_referencing}\n",
    "for pdf in tqdm(pdf_path):\n",
    "    try:\n",
    "        tables = camelot.read_pdf(pdf,\"all\",flavor=\"stream\",suppress_stdout=True)\n",
    "        title= pdf.split(\"/\")[-1].removesuffix(\".pdf\")\n",
    "        for t in tables:\n",
    "            t_str = t.df.to_string()\n",
    "            for dataset in paper_using_tables:\n",
    "                if dataset.lower() in t_str.lower():\n",
    "                    paper_using_tables[dataset].append(title_to_doi[title])\n",
    "    except:\n",
    "        continue           "
   ]
  },
  {
   "cell_type": "code",
   "execution_count": 48,
   "metadata": {},
   "outputs": [
    {
     "name": "stdout",
     "output_type": "stream",
     "text": [
      "Number of citations for ACDC: 33\n",
      "Number of citations for LA: 185\n",
      "Number of citations for MSCMRSeg: 0\n",
      "Number of citations for M&Ms: 8\n",
      "Number of citations for PROMISE12: 12\n",
      "Number of citations for Medical Decathlon: 0\n",
      "Number of citations for I2CVB: 2\n",
      "Number of citations for BRATS: 120\n",
      "Number of citations for Synapse: 5\n"
     ]
    }
   ],
   "source": [
    "for d in paper_using_tables:\n",
    "    paper_using_tables[d] = set(paper_using_tables[d])\n",
    "    print(f\"Number of citations for {d}: {len(paper_using_tables[d])}\")"
   ]
  },
  {
   "attachments": {},
   "cell_type": "markdown",
   "metadata": {},
   "source": [
    "## 3. Check for dataset's organ in figures"
   ]
  },
  {
   "cell_type": "code",
   "execution_count": 106,
   "metadata": {},
   "outputs": [],
   "source": [
    "#path of folder where images will be stored\n",
    "images_path = \"../../results/papers_fulltext/images\"\n",
    "#Create this folder if it does not exist\n",
    "if not os.path.exists(images_path):\n",
    "    os.makedirs(images_path)\n",
    "\n",
    "paper_using_figures = {dataset:[] for dataset in paper_referencing}\n",
    "#For each pdf file\n",
    "for file in pdf_path:\n",
    "    #Open the file\n",
    "    pdf_file = fitz.open(file)\n",
    "\n",
    "    #Get the number of pages in PDF file\n",
    "    page_nums = len(pdf_file)\n",
    "\n",
    "    #Create empty list to store images information\n",
    "    images_list = []\n",
    "\n",
    "    #Extract all images information from each page\n",
    "    for page_num in range(page_nums):\n",
    "        page_content = pdf_file[page_num]\n",
    "        images_list.extend(page_content.get_images())\n",
    "\n",
    "    #If there is at least one image in the pdf\n",
    "    if len(images_list)!=0:\n",
    "        #Create a subfolder for the article, this way we easily know from which paper the images is coming from\n",
    "        if not os.path.exists(os.path.join(images_path, os.path.basename(file.replace(\".pdf\",\"\")))):\n",
    "            os.makedirs(os.path.join(images_path, os.path.basename(file.replace(\".pdf\",\"\"))))\n",
    "\n",
    "        #Save all the extracted images\n",
    "        for i, img in enumerate(images_list, start=1):\n",
    "            #Extract the image object number\n",
    "            xref = img[0]\n",
    "            #Extract image\n",
    "            base_image = pdf_file.extract_image(xref)\n",
    "            #Store image bytes\n",
    "            image_bytes = base_image['image']\n",
    "            #Store image extension\n",
    "            image_ext = base_image['ext']\n",
    "            #Generate image file name\n",
    "            image_name = str(i) + '.' + image_ext\n",
    "            #Save image\n",
    "            with open(os.path.join(images_path, os.path.basename(file.replace(\".pdf\",\"\")),image_name) , 'wb') as image_file:\n",
    "                image_file.write(image_bytes)\n",
    "                image_file.close()\n",
    "             \n",
    "            #TODO APPLY MODEL"
   ]
  },
  {
   "attachments": {},
   "cell_type": "markdown",
   "metadata": {},
   "source": [
    "## 4. Combine all outcome"
   ]
  },
  {
   "cell_type": "code",
   "execution_count": 74,
   "metadata": {},
   "outputs": [],
   "source": [
    "confirmation_method = [paper_using_abstract,paper_using_tables,paper_using_figures]\n",
    "paper_confirmed = {dataset:[] for dataset in paper_referencing}\n",
    "for outcome in confirmation_method:\n",
    "    for dataset in outcome:\n",
    "        for paper in outcome[dataset]:\n",
    "            paper_confirmed[dataset].append(paper)"
   ]
  },
  {
   "attachments": {},
   "cell_type": "markdown",
   "metadata": {},
   "source": [
    "## Plot and save results "
   ]
  },
  {
   "cell_type": "code",
   "execution_count": 113,
   "metadata": {},
   "outputs": [
    {
     "data": {
      "image/png": "[encoded data removed]",
      "text/plain": [
       "<Figure size 1500x500 with 1 Axes>"
      ]
     },
     "metadata": {},
     "output_type": "display_data"
    }
   ],
   "source": [
    "X = list(paper_confirmed.keys())\n",
    "nb_ref = [len(paper_referencing[x]) for x in X]\n",
    "nb_confirmed = [len(paper_confirmed[x]) for x in X]\n",
    "nb_abstract = [len(paper_using_abstract[x]) for x in X]\n",
    "nb_tables = [len(paper_using_tables[x]) for x in X]\n",
    "nb_figures = [len(paper_using_figures[x]) for x in X]\n",
    "\n",
    "X_axis = np.arange(0,len(X)*3,3)\n",
    "\n",
    "plt.figure(figsize=(15,5))\n",
    "plt.bar(X_axis - 0.8, nb_ref, 0.4, label = 'Reference')\n",
    "plt.bar(X_axis - 0.4, nb_confirmed, 0.4, label = 'Confirmed')\n",
    "plt.bar(X_axis, nb_abstract, 0.4, label = 'Abstract')\n",
    "plt.bar(X_axis + 0.4, nb_tables, 0.4, label = 'tables')\n",
    "plt.bar(X_axis + 0.8, nb_figures, 0.4, label = 'figures')\n",
    "  \n",
    "plt.xticks(X_axis, X)\n",
    "plt.xlabel(\"Dataset\")\n",
    "plt.ylabel(\"Number of references\")\n",
    "plt.title(\"Number of references in total and confirmed by each method\")\n",
    "plt.legend()\n",
    "plt.show()\n",
    "\n",
    "# for d in paper_confirmed:\n",
    "#     print(f\"Number of confirmed citations with abstract for {d}: {len(paper_using_abstract[d])}\")\n",
    "#     print(f\"Number of confirmed citations with tables for {d}: {len(paper_using_tables[d])}\")\n",
    "#     print(f\"Number of confirmed citations with figures for {d}: {len(paper_using_figures[d])}\")\n",
    "\n",
    "#     print(f\"Number of confirmed citations for {d}: {len(paper_confirmed[d])}\\n\")"
   ]
  },
  {
   "attachments": {},
   "cell_type": "markdown",
   "metadata": {},
   "source": [
    "# Example code for download "
   ]
  },
  {
   "attachments": {},
   "cell_type": "markdown",
   "metadata": {},
   "source": [
    "# Check fulltext of paper for either figures or tables"
   ]
  },
  {
   "attachments": {},
   "cell_type": "markdown",
   "metadata": {},
   "source": [
    "## Extract images from valid pdf"
   ]
  },
  {
   "cell_type": "code",
   "execution_count": 4,
   "metadata": {},
   "outputs": [],
   "source": [
    "#get every valid pdf path\n",
    "valid_pdf_path = glob.glob(\"../../results/papers_fulltext/valid_pdf/*.pdf\")\n",
    "\n",
    "#path of folder where images will be stored\n",
    "images_path = \"../../results/papers_fulltext/images\"\n",
    "#Create this folder if it does not exist\n",
    "if not os.path.exists(images_path):\n",
    "    os.makedirs(images_path)\n",
    "\n",
    "#For each pdf file\n",
    "for file in valid_pdf_path:\n",
    "    #Open the file\n",
    "    pdf_file = fitz.open(file)\n",
    "\n",
    "    #Get the number of pages in PDF file\n",
    "    page_nums = len(pdf_file)\n",
    "\n",
    "    #Create empty list to store images information\n",
    "    images_list = []\n",
    "\n",
    "    #Extract all images information from each page\n",
    "    for page_num in range(page_nums):\n",
    "        page_content = pdf_file[page_num]\n",
    "        images_list.extend(page_content.get_images())\n",
    "\n",
    "    #If there is at least one image in the pdf\n",
    "    if len(images_list)!=0:\n",
    "        #Create a subfolder for the article, this way we easily know from which paper the images is coming from\n",
    "        if not os.path.exists(os.path.join(images_path, os.path.basename(file.replace(\".pdf\",\"\")))):\n",
    "            os.makedirs(os.path.join(images_path, os.path.basename(file.replace(\".pdf\",\"\"))))\n",
    "\n",
    "        #Save all the extracted images\n",
    "        for i, img in enumerate(images_list, start=1):\n",
    "            #Extract the image object number\n",
    "            xref = img[0]\n",
    "            #Extract image\n",
    "            base_image = pdf_file.extract_image(xref)\n",
    "            #Store image bytes\n",
    "            image_bytes = base_image['image']\n",
    "            #Store image extension\n",
    "            image_ext = base_image['ext']\n",
    "            #Generate image file name\n",
    "            image_name = str(i) + '.' + image_ext\n",
    "            #Save image\n",
    "            with open(os.path.join(images_path, os.path.basename(file.replace(\".pdf\",\"\")),image_name) , 'wb') as image_file:\n",
    "                image_file.write(image_bytes)\n",
    "                image_file.close()\n",
    "\n"
   ]
  }
 ],
 "metadata": {
  "kernelspec": {
   "display_name": "Python 3",
   "language": "python",
   "name": "python3"
  },
  "language_info": {
   "codemirror_mode": {
    "name": "ipython",
    "version": 3
   },
   "file_extension": ".py",
   "mimetype": "text/x-python",
   "name": "python",
   "nbconvert_exporter": "python",
   "pygments_lexer": "ipython3",
   "version": "3.10.6"
  },
  "orig_nbformat": 4
 },
 "nbformat": 4,
 "nbformat_minor": 2
}
