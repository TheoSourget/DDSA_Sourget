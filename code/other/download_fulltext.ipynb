{
 "cells": [
  {
   "attachments": {},
   "cell_type": "markdown",
   "metadata": {},
   "source": [
    "# Create dataset of figures in pdf"
   ]
  },
  {
   "attachments": {},
   "cell_type": "markdown",
   "metadata": {},
   "source": [
    "## Import lib"
   ]
  },
  {
   "cell_type": "code",
   "execution_count": 20,
   "metadata": {},
   "outputs": [],
   "source": [
    "#To download fulltext\n",
    "import requests\n",
    "import pandas as pd\n",
    "\n",
    "#To filter invalid pdf\n",
    "from pypdf import PdfReader\n",
    "from pypdf.errors import PdfReadError\n",
    "\n",
    "#To handle files\n",
    "import glob\n",
    "import os\n",
    "\n",
    "#To extract images from pdf\n",
    "import fitz\n"
   ]
  },
  {
   "attachments": {},
   "cell_type": "markdown",
   "metadata": {},
   "source": [
    "## Download papers full text"
   ]
  },
  {
   "cell_type": "code",
   "execution_count": 15,
   "metadata": {},
   "outputs": [],
   "source": [
    "df = pd.read_csv(\"../../results/extracted_csv/paper_openalex.csv\")\n",
    "df_2023 = df[df[\"publication_year\"] == 2023]\n",
    "df_acdc = df_2023[df_2023[\"dataset_used\"] == \"ACDC\"]"
   ]
  },
  {
   "cell_type": "code",
   "execution_count": 18,
   "metadata": {},
   "outputs": [
    {
     "name": "stdout",
     "output_type": "stream",
     "text": [
      "10.1016/b978-0-32-385773-4.00023-x\n",
      "10.1016/b978-0-32-385773-4.00025-3\n",
      "10.1016/b978-0-32-385773-4.00009-5\n",
      "https://doi.org/10.1016/b978-0-32-385773-4.00009-5\n",
      "10.1016/j.compbiomed.2022.106439\n",
      "10.1371/journal.pdig.0000159\n",
      "https://journals.plos.org/digitalhealth/article/file?id=10.1371/journal.pdig.0000159&type=printable\n",
      "10.1109/access.2023.3234241\n",
      "10.1016/j.compmedimag.2022.102174\n",
      "10.1088/1361-6560/acb19a\n",
      "https://iopscience.iop.org/article/10.1088/1361-6560/acb19a/pdf\n",
      "10.1007/s00740-022-00474-9\n",
      "10.1016/j.patcog.2023.109318\n",
      "https://doi.org/10.1016/j.patcog.2023.109318\n",
      "10.1109/access.2023.3238058\n",
      "10.1038/s41598-023-28348-y\n",
      "https://www.nature.com/articles/s41598-023-28348-y.pdf\n",
      "10.3389/fphys.2023.1027076\n",
      "https://www.frontiersin.org/articles/10.3389/fphys.2023.1027076/pdf\n",
      "10.1016/b978-0-12-821983-6.00008-4\n",
      "10.3390/bioengineering10020166\n",
      "https://www.mdpi.com/2306-5354/10/2/166/pdf?version=1674889337\n",
      "10.1016/j.media.2023.102762\n",
      "http://arxiv.org/pdf/2206.01136\n",
      "10.1016/j.bspc.2023.104631\n",
      "10.1109/wacv56688.2023.00365\n",
      "https://eprints.gla.ac.uk/282738/2/282738.pdf\n"
     ]
    }
   ],
   "source": [
    "url_base = \"https://api.openalex.org/works/https://doi.org/\"\n",
    "paper_id = 1\n",
    "for doi in df_acdc[\"DOI\"]:\n",
    "    print(doi)\n",
    "    url = url_base + doi \n",
    "    r_paper = requests.get(url)\n",
    "    if r_paper.status_code == 200:\n",
    "        r_paper_json = r_paper.json()\n",
    "        fulltext_url = r_paper_json[\"open_access\"][\"oa_url\"]\n",
    "        if fulltext_url:\n",
    "            r_fulltext = requests.get(fulltext_url,allow_redirects=True)\n",
    "            if r_fulltext.status_code == 200:\n",
    "                print(fulltext_url)\n",
    "                open(f\"../../results/papers_fulltext/{paper_id}.pdf\",\"wb\").write(r_fulltext.content)\n",
    "                paper_id += 1\n",
    "        if paper_id == 10:\n",
    "            break\n",
    "    else:\n",
    "        print(f\"Error {r_paper.status_code} for {doi}\")"
   ]
  },
  {
   "attachments": {},
   "cell_type": "markdown",
   "metadata": {},
   "source": [
    "## Remove invalid pdf obtain from previous step"
   ]
  },
  {
   "cell_type": "code",
   "execution_count": 19,
   "metadata": {},
   "outputs": [],
   "source": [
    "pdf_path = glob.glob(\"../../results/papers_fulltext/*.pdf\")\n",
    "\n",
    "if not os.path.exists(\"../../results/papers_fulltext/valid_pdf\"):\n",
    "    os.makedirs(\"../../results/papers_fulltext/valid_pdf\")\n",
    "\n",
    "if not os.path.exists(\"../../results/papers_fulltext/removed_pdf\"):\n",
    "    os.makedirs(\"../../results/papers_fulltext/removed_pdf\")\n",
    "\n",
    "for file in pdf_path:\n",
    "    try:\n",
    "        PdfReader(file,strict=True)\n",
    "        os.rename(file, file.replace(\"papers_fulltext/\",\"papers_fulltext/valid_pdf/\"))\n",
    "    except PdfReadError:\n",
    "        os.rename(file, file.replace(\"papers_fulltext/\",\"papers_fulltext/removed_pdf/\"))\n"
   ]
  },
  {
   "attachments": {},
   "cell_type": "markdown",
   "metadata": {},
   "source": [
    "## Extract images from valid pdf"
   ]
  },
  {
   "cell_type": "code",
   "execution_count": 26,
   "metadata": {},
   "outputs": [],
   "source": [
    "valid_pdf_path = glob.glob(\"../../results/papers_fulltext/valid_pdf/*.pdf\")\n",
    "images_path = \"../../results/papers_fulltext/images\"\n",
    "if not os.path.exists(images_path):\n",
    "    os.makedirs(images_path)\n",
    "for file in valid_pdf_path:\n",
    "    pdf_file = fitz.open(file)\n",
    "    #Get the number of pages in PDF file\n",
    "    page_nums = len(pdf_file)\n",
    "\n",
    "    #Create empty list to store images information\n",
    "    images_list = []\n",
    "\n",
    "    #Extract all images information from each page\n",
    "    for page_num in range(page_nums):\n",
    "        page_content = pdf_file[page_num]\n",
    "        images_list.extend(page_content.get_images())\n",
    "\n",
    "    if len(images_list)!=0:\n",
    "        if not os.path.exists(os.path.join(images_path, os.path.basename(file.replace(\".pdf\",\"\")))):\n",
    "            os.makedirs(os.path.join(images_path, os.path.basename(file.replace(\".pdf\",\"\"))))\n",
    "\n",
    "        #Save all the extracted images\n",
    "        for i, img in enumerate(images_list, start=1):\n",
    "            #Extract the image object number\n",
    "            xref = img[0]\n",
    "            #Extract image\n",
    "            base_image = pdf_file.extract_image(xref)\n",
    "            #Store image bytes\n",
    "            image_bytes = base_image['image']\n",
    "            #Store image extension\n",
    "            image_ext = base_image['ext']\n",
    "            #Generate image file name\n",
    "            image_name = str(i) + '.' + image_ext\n",
    "            #Save image\n",
    "            with open(os.path.join(images_path, os.path.basename(file.replace(\".pdf\",\"\")),image_name) , 'wb') as image_file:\n",
    "                image_file.write(image_bytes)\n",
    "                image_file.close()\n",
    "\n"
   ]
  }
 ],
 "metadata": {
  "kernelspec": {
   "display_name": "Python 3",
   "language": "python",
   "name": "python3"
  },
  "language_info": {
   "codemirror_mode": {
    "name": "ipython",
    "version": 3
   },
   "file_extension": ".py",
   "mimetype": "text/x-python",
   "name": "python",
   "nbconvert_exporter": "python",
   "pygments_lexer": "ipython3",
   "version": "3.10.6"
  },
  "orig_nbformat": 4
 },
 "nbformat": 4,
 "nbformat_minor": 2
}
