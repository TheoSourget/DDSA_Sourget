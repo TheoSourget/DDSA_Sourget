{
 "cells": [
  {
   "cell_type": "code",
   "execution_count": 48,
   "metadata": {},
   "outputs": [],
   "source": [
    "import requests\n",
    "import pandas as pd\n",
    "import matplotlib.pyplot as plt\n",
    "df = pd.read_csv(\"../../results/extracted_csv/paper_openalex.csv\")\n",
    "df_2023 = df[df[\"publication_year\"] == 2023]\n",
    "df_acdc = df_2023[df_2023[\"dataset_used\"] == \"ACDC\"]\n"
   ]
  },
  {
   "cell_type": "code",
   "execution_count": 18,
   "metadata": {},
   "outputs": [
    {
     "name": "stdout",
     "output_type": "stream",
     "text": [
      "https://doi.org/10.1016/b978-0-32-385773-4.00009-5\n",
      "https://journals.plos.org/digitalhealth/article/file?id=10.1371/journal.pdig.0000159&type=printable\n",
      "https://ieeexplore.ieee.org/ielx7/6287639/10005208/10005274.pdf\n",
      "https://iopscience.iop.org/article/10.1088/1361-6560/acb19a/pdf\n",
      "https://doi.org/10.1016/j.patcog.2023.109318\n",
      "https://ieeexplore.ieee.org/ielx7/6287639/10005208/10021322.pdf\n",
      "https://www.nature.com/articles/s41598-023-28348-y.pdf\n",
      "https://www.frontiersin.org/articles/10.3389/fphys.2023.1027076/pdf\n",
      "https://www.mdpi.com/2306-5354/10/2/166/pdf?version=1674889337\n"
     ]
    }
   ],
   "source": [
    "url_base = \"https://api.openalex.org/works/https://doi.org/\"\n",
    "paper_id = 1\n",
    "for doi in df_acdc[\"DOI\"]:\n",
    "    url = url_base + doi \n",
    "    r_paper = requests.get(url)\n",
    "    if r_paper.status_code == 200:\n",
    "        r_paper_json = r_paper.json()\n",
    "        fulltext_url = r_paper_json[\"open_access\"][\"oa_url\"]\n",
    "        if fulltext_url:\n",
    "            r_fulltext = requests.get(fulltext_url,allow_redirects=True)\n",
    "            if r_fulltext.status_code == 200:\n",
    "                print(fulltext_url)\n",
    "                open(f\"../../results/papers_fulltext/{paper_id}.pdf\",\"wb\").write(r_fulltext.content)\n",
    "                paper_id += 1\n",
    "        if paper_id == 10:\n",
    "            break\n",
    "    else:\n",
    "        print(f\"Error {r_paper.status_code} for {doi}\")"
   ]
  }
 ],
 "metadata": {
  "kernelspec": {
   "display_name": "Python 3",
   "language": "python",
   "name": "python3"
  },
  "language_info": {
   "codemirror_mode": {
    "name": "ipython",
    "version": 3
   },
   "file_extension": ".py",
   "mimetype": "text/x-python",
   "name": "python",
   "nbconvert_exporter": "python",
   "pygments_lexer": "ipython3",
   "version": "3.10.6"
  },
  "orig_nbformat": 4
 },
 "nbformat": 4,
 "nbformat_minor": 2
}
