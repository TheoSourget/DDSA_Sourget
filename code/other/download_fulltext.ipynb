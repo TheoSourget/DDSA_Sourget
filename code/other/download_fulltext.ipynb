{
 "cells": [
  {
   "attachments": {},
   "cell_type": "markdown",
   "metadata": {},
   "source": [
    "# Get list of papers from venue that cites a dataset"
   ]
  },
  {
   "attachments": {},
   "cell_type": "markdown",
   "metadata": {},
   "source": [
    "## Import libs"
   ]
  },
  {
   "cell_type": "code",
   "execution_count": 2,
   "metadata": {},
   "outputs": [],
   "source": [
    "# To request OpenAlex\n",
    "import requests\n",
    "import numpy as np\n",
    "from tqdm import tqdm\n",
    "\n",
    "#Better print of dict\n",
    "from pprint import pprint\n",
    "\n",
    "\n",
    "#To load data\n",
    "import csv\n",
    "import pandas as pd\n",
    "\n",
    "#To filter invalid pdf\n",
    "from pypdf import PdfReader\n",
    "from pypdf.errors import PdfReadError\n",
    "\n",
    "#To handle files\n",
    "import glob\n",
    "import os\n",
    "\n",
    "#To extract images from pdf\n",
    "import fitz\n",
    "\n",
    "#To extract tables from pdf\n",
    "import camelot\n",
    "import ghostscript"
   ]
  },
  {
   "attachments": {},
   "cell_type": "markdown",
   "metadata": {},
   "source": [
    "## Load list of datasets and list of venues\n",
    "We will search for paper from venue contained in [venues.csv](../../data/venues.csv) referencing one or more of the datasets contained in [datasets.csv](../../data/datasets.csv)"
   ]
  },
  {
   "cell_type": "code",
   "execution_count": 4,
   "metadata": {},
   "outputs": [],
   "source": [
    "#Dictionnary with dataset's name as key and DOI as value\n",
    "datasets_doi = {}\n",
    "ds_reader = csv.DictReader(open('../../data/datasets.csv'))\n",
    "for ds in ds_reader:\n",
    "    datasets_doi[ds[\"name\"]] = ds[\"DOI\"]\n",
    "\n",
    "#Dictionnary with venues name as key and openalex id as value loaded from venues.csv\n",
    "venue_id = {}\n",
    "ds_reader = csv.DictReader(open('../../data/venues.csv'))\n",
    "for ds in ds_reader:\n",
    "    venue_id[ds[\"name\"]] = ds[\"openalex_id\"]"
   ]
  },
  {
   "cell_type": "code",
   "execution_count": 5,
   "metadata": {},
   "outputs": [
    {
     "name": "stdout",
     "output_type": "stream",
     "text": [
      "Datasets:\n",
      "{'ACDC': '10.1109/TMI.2018.2837502',\n",
      " 'BRATS': '10.1109/tmi.2014.2377694',\n",
      " 'I2CVB': '10.1016/j.compbiomed.2015.02.009',\n",
      " 'LA': '10.1016/j.media.2020.101832',\n",
      " 'M&Ms': '10.1109/tmi.2021.3090082',\n",
      " 'MSCMRSeg': '10.48550/arxiv.2006.12434',\n",
      " 'Medical Decathlon': '10.1038/s41467-022-30695-9',\n",
      " 'PROMISE12': '10.1016/j.media.2013.12.002',\n",
      " 'Synapse': '10.7303/syn3193805'}\n",
      "\n",
      "Venues:\n",
      "{'LNCS': 'S106296714'}\n"
     ]
    }
   ],
   "source": [
    "print(\"Datasets:\")\n",
    "pprint(datasets_doi)\n",
    "print(\"\\nVenues:\")\n",
    "pprint(venue_id)"
   ]
  },
  {
   "attachments": {},
   "cell_type": "markdown",
   "metadata": {},
   "source": [
    "## Try to convert DOI to OpenAlex ID"
   ]
  },
  {
   "cell_type": "code",
   "execution_count": 6,
   "metadata": {},
   "outputs": [
    {
     "name": "stdout",
     "output_type": "stream",
     "text": [
      "Couldn't convert DOI for Synapse into OpenAlex ID\n"
     ]
    }
   ],
   "source": [
    "\"\"\"\n",
    "Convert a DOI to OpenAlex ID used as value in some API field such as \"referenced_works\"\n",
    "@param\n",
    "    - DOI: the doi we want to convert\n",
    "@return\n",
    "    The OpenAlex ID if the DOI is in OpenAlex database, None otherwise\n",
    "\"\"\"\n",
    "def doi_to_OpenAlexId(doi):\n",
    "    base_url = f\"https://api.openalex.org/works/doi:{doi}\"\n",
    "    r = requests.get(base_url)\n",
    "    if r.status_code == 200:\n",
    "        r_json = r.json()\n",
    "        return r_json[\"id\"]\n",
    "    else:\n",
    "        return None\n",
    "\n",
    "#Dictionnary with dataset names as key and openalex id as value. We associate an openalex ID because it's the value in the \"referenced_works\" field given by the API.\n",
    "datasets_id = {}\n",
    "\n",
    "#Convert DOI to OpenAlexID\n",
    "for ds  in datasets_doi:\n",
    "    openalex_id = doi_to_OpenAlexId(datasets_doi[ds])\n",
    "    if not openalex_id:\n",
    "        print(f\"Couldn't convert DOI for {ds} into OpenAlex ID\")\n",
    "    datasets_id[ds]=openalex_id"
   ]
  },
  {
   "cell_type": "code",
   "execution_count": 7,
   "metadata": {},
   "outputs": [
    {
     "name": "stdout",
     "output_type": "stream",
     "text": [
      "{'ACDC': 'https://openalex.org/W2804047627',\n",
      " 'BRATS': 'https://openalex.org/W1641498739',\n",
      " 'I2CVB': 'https://openalex.org/W2049522781',\n",
      " 'LA': 'https://openalex.org/W3093394156',\n",
      " 'M&Ms': 'https://openalex.org/W4226199676',\n",
      " 'MSCMRSeg': 'https://openalex.org/W4312016581',\n",
      " 'Medical Decathlon': 'https://openalex.org/W3172681723',\n",
      " 'PROMISE12': 'https://openalex.org/W2106033751',\n",
      " 'Synapse': None}\n"
     ]
    }
   ],
   "source": [
    "pprint(datasets_id)"
   ]
  },
  {
   "attachments": {},
   "cell_type": "markdown",
   "metadata": {},
   "source": [
    "note: Synapse value is None meaning it's note in OpenAlex database, therefore we won't be able to find references to it."
   ]
  },
  {
   "attachments": {},
   "cell_type": "markdown",
   "metadata": {},
   "source": [
    "## Get list of papers from each venues citing at least one of the dataset"
   ]
  },
  {
   "attachments": {},
   "cell_type": "markdown",
   "metadata": {},
   "source": [
    "Query OpenAlex filtering on the dataset and the venue"
   ]
  },
  {
   "cell_type": "code",
   "execution_count": 17,
   "metadata": {},
   "outputs": [],
   "source": [
    "#Dictionnary containing with dataset as key and a list of papers referencing the dataset as value\n",
    "paper_referencing = {ds:[] for ds in datasets_id}\n",
    "\n",
    "\n",
    "for ds in datasets_id:\n",
    "    for venue in venue_id:\n",
    "        #The list of paper referencing the dataset is decomposed in multiple pages so we have to iterate with the query parameter \"page\" to get them all.\n",
    "        next_page = True\n",
    "        page_number = 1\n",
    "        while next_page:\n",
    "            #Definition of the request\n",
    "            base_url = \"https://api.openalex.org/works\"\n",
    "            query_param = {\n",
    "                \"filter\":f\"cites:{datasets_id[ds]},locations.source.id:{venue_id[venue]}\",\n",
    "                \"page\":page_number\n",
    "            }\n",
    "            request = requests.get(base_url,params=query_param)\n",
    "\n",
    "            if request.status_code == 200:\n",
    "                request_json = request.json()\n",
    "                \n",
    "                #For each paper referencing the dataset we get the title (with a little transformation to remove \",\" and \"\\n\" inside of them), doi and publication year\n",
    "                for res in request_json[\"results\"]:\n",
    "                    title = res[\"title\"]\n",
    "                    title = title.replace(\",\",\"\")\n",
    "                    title = title.replace(\"\\n\",\"\")\n",
    "                    \n",
    "                    fulltext_url = res[\"open_access\"][\"oa_url\"]\n",
    "                    #Remove review paper\n",
    "                    if \"review\" in title.lower():\n",
    "                        continue\n",
    "\n",
    "                    doi = res[\"doi\"]\n",
    "                    if doi is not None:\n",
    "                        doi = doi[16:] #Remove the https://doi.org/\n",
    "                        paper_referencing[ds].append((title,doi,res[\"publication_year\"],res[\"abstract_inverted_index\"],fulltext_url))\n",
    "\n",
    "                #If the results field is empty that mean we are at the last page so we can continue to the next dataset\n",
    "                #otherwise we need to go to next page of the current dataset\n",
    "                if not request_json[\"results\"]:\n",
    "                    next_page = False\n",
    "                else:\n",
    "                    page_number += 1\n",
    "            else:\n",
    "                next_page = False\n",
    "            "
   ]
  },
  {
   "cell_type": "code",
   "execution_count": 19,
   "metadata": {},
   "outputs": [
    {
     "name": "stdout",
     "output_type": "stream",
     "text": [
      "Number of citations for ACDC: 77\n",
      "Number of citations for LA: 12\n",
      "Number of citations for MSCMRSeg: 0\n",
      "Number of citations for M&Ms: 16\n",
      "Number of citations for PROMISE12: 24\n",
      "Number of citations for Medical Decathlon: 2\n",
      "Number of citations for I2CVB: 9\n",
      "Number of citations for BRATS: 318\n",
      "Number of citations for Synapse: 0\n"
     ]
    }
   ],
   "source": [
    "for d in paper_referencing:\n",
    "    print(f\"Number of citations for {d}: {len(paper_referencing[d])}\")"
   ]
  },
  {
   "attachments": {},
   "cell_type": "markdown",
   "metadata": {},
   "source": [
    "# Try to filter out wrong references\n",
    "This part of the notebook is to obtained a more accurate list of paper to only keep paper that are actually using the dataset and not only referencing the paper for another reason.\n",
    "\n",
    "To do that we will:\n",
    "1. Search for the dataset name in the abstract, making the hypothesis that if authors put the name of a dataset inside an abstract they must be using it.\n",
    "2. Look for the name of the dataset in Table of the fulltext, again if the dataset name is in a Table it should be used (especially if we removed review papers)\n",
    "3. Classify the figure in the fulltext to detect the organ of the cited dataset. (does not confirm at 100% that the actual dataset is really used and not another one focusing on the same organ)\n",
    "\n",
    "If none of the above operation validate the citations, the paper is removed from the list. Otherwise, we can keep it.  "
   ]
  },
  {
   "attachments": {},
   "cell_type": "markdown",
   "metadata": {},
   "source": [
    "##  1. Check abstract for dataset's name"
   ]
  },
  {
   "attachments": {},
   "cell_type": "markdown",
   "metadata": {},
   "source": [
    "We will now query OpenAlex again for everypaper and search for the dataset name inside the \"abstract_inverted_index\" field of the API if it's present."
   ]
  },
  {
   "cell_type": "code",
   "execution_count": 20,
   "metadata": {},
   "outputs": [],
   "source": [
    "\"\"\"\n",
    "Reconstruct and transform the abstract of a paper using abstract_inverted_index field. We will removed non alpha numeric caracters and lower every word.\n",
    "\"\"\"\n",
    "def reconstruct_abstract(paper):\n",
    "    # Maximum size of the abstract, if the paper abstarct is longer it will be truncated\n",
    "    abstract = np.full(2500,\"\",dtype=object)\n",
    "    # The \"abstract_inverted_index\" field is a dictionnary with word as key and locations of this word in the abstract\n",
    "    # So we fill the abstarct variable above at the index of the word to reconstruct the abstract\n",
    "    if paper[3]:\n",
    "        for w in paper[3]:\n",
    "            for indices in paper[3][w]:\n",
    "                if indices < 2500:\n",
    "                    abstract[indices] = ''.join(filter(str.isalnum, w)).lower()\n",
    "        # Remove empty location mostly due to a shorter abstract \n",
    "        abstract = abstract[abstract != \"\"]\n",
    "        #Convert array to string\n",
    "    str_abstract = ' '.join(abstract)\n",
    "    return str_abstract"
   ]
  },
  {
   "cell_type": "code",
   "execution_count": 71,
   "metadata": {},
   "outputs": [],
   "source": [
    "paper_using_abstract = {dataset:[] for dataset in paper_referencing}\n",
    "for dataset in paper_referencing:\n",
    "    for paper in paper_referencing[dataset]:\n",
    "        abstract = reconstruct_abstract(paper)\n",
    "        if dataset.lower() in abstract:\n",
    "            paper_using_abstract[dataset].append(paper[1])"
   ]
  },
  {
   "cell_type": "code",
   "execution_count": 72,
   "metadata": {},
   "outputs": [
    {
     "name": "stdout",
     "output_type": "stream",
     "text": [
      "Number of citations for ACDC: 13\n",
      "Number of citations for LA: 12\n",
      "Number of citations for MSCMRSeg: 0\n",
      "Number of citations for M&Ms: 0\n",
      "Number of citations for PROMISE12: 3\n",
      "Number of citations for Medical Decathlon: 0\n",
      "Number of citations for I2CVB: 0\n",
      "Number of citations for BRATS: 167\n",
      "Number of citations for Synapse: 0\n"
     ]
    }
   ],
   "source": [
    "for d in paper_using_abstract:\n",
    "    paper_using_abstract[d] = set(paper_using_abstract[d])\n",
    "    print(f\"Number of citations for {d}: {len(paper_using_abstract[d])}\")"
   ]
  },
  {
   "attachments": {},
   "cell_type": "markdown",
   "metadata": {},
   "source": [
    "### Download paper's fulltexts"
   ]
  },
  {
   "cell_type": "code",
   "execution_count": 23,
   "metadata": {},
   "outputs": [],
   "source": [
    "downloaded_doi = []\n",
    "title_to_doi = {}"
   ]
  },
  {
   "cell_type": "code",
   "execution_count": 24,
   "metadata": {},
   "outputs": [
    {
     "name": "stdout",
     "output_type": "stream",
     "text": [
      "ACDC\n"
     ]
    },
    {
     "name": "stderr",
     "output_type": "stream",
     "text": [
      " 39%|███▉      | 30/77 [01:08<01:17,  1.65s/it]Xref table not zero-indexed. ID numbers for objects will be corrected.\n",
      " 73%|███████▎  | 56/77 [02:05<00:45,  2.15s/it]Xref table not zero-indexed. ID numbers for objects will be corrected.\n",
      "100%|██████████| 77/77 [02:36<00:00,  2.03s/it]\n"
     ]
    },
    {
     "name": "stdout",
     "output_type": "stream",
     "text": [
      "LA\n"
     ]
    },
    {
     "name": "stderr",
     "output_type": "stream",
     "text": [
      "100%|██████████| 12/12 [00:04<00:00,  2.99it/s]\n"
     ]
    },
    {
     "name": "stdout",
     "output_type": "stream",
     "text": [
      "MSCMRSeg\n"
     ]
    },
    {
     "name": "stderr",
     "output_type": "stream",
     "text": [
      "0it [00:00, ?it/s]\n"
     ]
    },
    {
     "name": "stdout",
     "output_type": "stream",
     "text": [
      "M&Ms\n"
     ]
    },
    {
     "name": "stderr",
     "output_type": "stream",
     "text": [
      "100%|██████████| 16/16 [00:12<00:00,  1.25it/s]\n"
     ]
    },
    {
     "name": "stdout",
     "output_type": "stream",
     "text": [
      "PROMISE12\n"
     ]
    },
    {
     "name": "stderr",
     "output_type": "stream",
     "text": [
      "100%|██████████| 24/24 [00:24<00:00,  1.02s/it]\n"
     ]
    },
    {
     "name": "stdout",
     "output_type": "stream",
     "text": [
      "Medical Decathlon\n"
     ]
    },
    {
     "name": "stderr",
     "output_type": "stream",
     "text": [
      "100%|██████████| 2/2 [00:00<00:00, 21564.54it/s]\n"
     ]
    },
    {
     "name": "stdout",
     "output_type": "stream",
     "text": [
      "I2CVB\n"
     ]
    },
    {
     "name": "stderr",
     "output_type": "stream",
     "text": [
      "100%|██████████| 9/9 [00:03<00:00,  2.51it/s]\n"
     ]
    },
    {
     "name": "stdout",
     "output_type": "stream",
     "text": [
      "BRATS\n"
     ]
    },
    {
     "name": "stderr",
     "output_type": "stream",
     "text": [
      " 20%|██        | 64/318 [01:37<05:48,  1.37s/it]Xref table not zero-indexed. ID numbers for objects will be corrected.\n",
      " 45%|████▍     | 142/318 [02:50<03:54,  1.33s/it]Xref table not zero-indexed. ID numbers for objects will be corrected.\n",
      " 72%|███████▏  | 228/318 [04:05<01:14,  1.20it/s]Xref table not zero-indexed. ID numbers for objects will be corrected.\n",
      " 75%|███████▌  | 239/318 [04:12<01:02,  1.27it/s]Xref table not zero-indexed. ID numbers for objects will be corrected.\n",
      " 76%|███████▌  | 242/318 [04:13<00:46,  1.64it/s]Xref table not zero-indexed. ID numbers for objects will be corrected.\n",
      " 76%|███████▋  | 243/318 [04:13<00:42,  1.76it/s]Xref table not zero-indexed. ID numbers for objects will be corrected.\n",
      "100%|██████████| 318/318 [05:01<00:00,  1.06it/s]\n"
     ]
    },
    {
     "name": "stdout",
     "output_type": "stream",
     "text": [
      "Synapse\n"
     ]
    },
    {
     "name": "stderr",
     "output_type": "stream",
     "text": [
      "0it [00:00, ?it/s]\n"
     ]
    }
   ],
   "source": [
    "for dataset in paper_referencing:\n",
    "    print(dataset)\n",
    "    for paper in tqdm(paper_referencing[dataset]):\n",
    "        title = paper[0].replace('/','')\n",
    "        doi = paper[1]\n",
    "        fulltext_url = paper[4]\n",
    "        if title not in title_to_doi:\n",
    "            title_to_doi[title]=doi\n",
    "        if not fulltext_url:\n",
    "            continue\n",
    "        if not paper in paper_using_abstract[dataset]:\n",
    "            #Check that paper hasn't been downloaded before (for another dataset), otherwise try to download it\n",
    "            file_path = f\"../../results/papers_fulltext/downloaded_pdf/{title}.pdf\"\n",
    "            if doi not in downloaded_doi:\n",
    "                try:\n",
    "                    r_fulltext = requests.get(fulltext_url,allow_redirects=True,timeout=10)\n",
    "                    pdf_content = r_fulltext.content\n",
    "                    if r_fulltext.status_code == 200:\n",
    "                        open(file_path,\"wb\").write(r_fulltext.content)\n",
    "                        downloaded_doi.append(doi)\n",
    "                    else:\n",
    "                        continue\n",
    "                except requests.exceptions.RequestException as ce:\n",
    "                    continue\n",
    "            try:\n",
    "                #Try to read the pdf (Raise an error if the file is an invalid pdf)\n",
    "                PdfReader(file_path,strict=True)\n",
    "            except PdfReadError:\n",
    "                #If a PdfReadError is raised, the pdf is invalid and therefore removed from downloaded list\n",
    "                downloaded_doi.remove(doi)\n",
    "                continue\n"
   ]
  },
  {
   "cell_type": "code",
   "execution_count": 25,
   "metadata": {},
   "outputs": [
    {
     "name": "stdout",
     "output_type": "stream",
     "text": [
      "Number of downloaded fulltext: 190\n"
     ]
    }
   ],
   "source": [
    "print(f\"Number of downloaded fulltext: {len(downloaded_doi)}\")"
   ]
  },
  {
   "attachments": {},
   "cell_type": "markdown",
   "metadata": {},
   "source": [
    "At this point we have access to the pdf of the article. We first want to check whether the name of the dataset appears in the tables. The hypothesis is that if a dataset name appears in a table, it must be a table of results. And since we have removed the review papers from the list, this should indicate that the dataset is really used."
   ]
  },
  {
   "attachments": {},
   "cell_type": "markdown",
   "metadata": {},
   "source": [
    "## 2. Check tables in fulltext for dataset's name"
   ]
  },
  {
   "cell_type": "code",
   "execution_count": 26,
   "metadata": {},
   "outputs": [],
   "source": [
    "pdf_path = glob.glob(\"../../results/papers_fulltext/downloaded_pdf/*.pdf\")"
   ]
  },
  {
   "cell_type": "code",
   "execution_count": 44,
   "metadata": {},
   "outputs": [
    {
     "name": "stderr",
     "output_type": "stream",
     "text": [
      " 51%|█████▏    | 98/191 [08:18<03:57,  2.55s/it]  invalid pdf header: b'<!DOC'\n",
      "EOF marker not found\n",
      " 72%|███████▏  | 138/191 [09:58<02:13,  2.52s/it]Object 259 0 not defined.\n",
      "Object 307 0 not defined.\n",
      "Object 373 0 not defined.\n",
      "Object 446 0 not defined.\n",
      "Object 584 0 not defined.\n",
      " 76%|███████▌  | 145/191 [10:49<07:08,  9.32s/it]Object 230 0 not defined.\n",
      "100%|██████████| 191/191 [13:13<00:00,  4.15s/it]\n"
     ]
    }
   ],
   "source": [
    "paper_using_tables = {dataset:[] for dataset in paper_referencing}\n",
    "for pdf in tqdm(pdf_path):\n",
    "    try:\n",
    "        tables = camelot.read_pdf(pdf,\"all\",flavor=\"stream\",suppress_stdout=True)\n",
    "        title= pdf.split(\"/\")[-1].removesuffix(\".pdf\")\n",
    "        for t in tables:\n",
    "            t_str = t.df.to_string()\n",
    "            for dataset in paper_using_tables:\n",
    "                if dataset.lower() in t_str.lower():\n",
    "                    paper_using_tables[dataset].append(title_to_doi[title])\n",
    "    except:\n",
    "        continue           "
   ]
  },
  {
   "cell_type": "code",
   "execution_count": 48,
   "metadata": {},
   "outputs": [
    {
     "name": "stdout",
     "output_type": "stream",
     "text": [
      "Number of citations for ACDC: 33\n",
      "Number of citations for LA: 185\n",
      "Number of citations for MSCMRSeg: 0\n",
      "Number of citations for M&Ms: 8\n",
      "Number of citations for PROMISE12: 12\n",
      "Number of citations for Medical Decathlon: 0\n",
      "Number of citations for I2CVB: 2\n",
      "Number of citations for BRATS: 120\n",
      "Number of citations for Synapse: 5\n"
     ]
    }
   ],
   "source": [
    "for d in paper_using_tables:\n",
    "    paper_using_tables[d] = set(paper_using_tables[d])\n",
    "    print(f\"Number of citations for {d}: {len(paper_using_tables[d])}\")"
   ]
  },
  {
   "cell_type": "code",
   "execution_count": 47,
   "metadata": {},
   "outputs": [
    {
     "data": {
      "text/plain": [
       "['10.1007/978-3-031-15937-4_65',\n",
       " '10.1007/978-3-030-90874-4_4',\n",
       " '10.1007/978-3-030-90874-4_4',\n",
       " '10.1007/978-3-031-08999-2_13',\n",
       " '10.1007/978-3-030-87722-4_12',\n",
       " '10.1007/978-3-030-87722-4_12',\n",
       " '10.1007/978-3-031-08999-2_41',\n",
       " '10.1007/978-3-031-08999-2_41']"
      ]
     },
     "execution_count": 47,
     "metadata": {},
     "output_type": "execute_result"
    }
   ],
   "source": [
    "paper_using_tables[\"Synapse\"]"
   ]
  },
  {
   "attachments": {},
   "cell_type": "markdown",
   "metadata": {},
   "source": [
    "## 3. Check for dataset's organ in figures"
   ]
  },
  {
   "cell_type": "code",
   "execution_count": 33,
   "metadata": {},
   "outputs": [],
   "source": [
    "#TODO using code below\n",
    "paper_using_figures = {dataset:[] for dataset in paper_referencing}\n"
   ]
  },
  {
   "attachments": {},
   "cell_type": "markdown",
   "metadata": {},
   "source": [
    "## 4. Combine all outcome"
   ]
  },
  {
   "cell_type": "code",
   "execution_count": 74,
   "metadata": {},
   "outputs": [],
   "source": [
    "confirmation_method = [paper_using_abstract,paper_using_tables,paper_using_figures]\n",
    "paper_confirmed = {dataset:[] for dataset in paper_referencing}\n",
    "for outcome in confirmation_method:\n",
    "    for dataset in outcome:\n",
    "        for paper in outcome[dataset]:\n",
    "            paper_confirmed[dataset].append(paper)"
   ]
  },
  {
   "cell_type": "code",
   "execution_count": 79,
   "metadata": {},
   "outputs": [
    {
     "name": "stdout",
     "output_type": "stream",
     "text": [
      "Number of confirmed citations with abstract for ACDC: 13\n",
      "Number of confirmed citations with tables for ACDC: 33\n",
      "Number of confirmed citations with figures for ACDC: 0\n",
      "Number of confirmed citations for ACDC: 46\n",
      "\n",
      "Number of confirmed citations with abstract for LA: 12\n",
      "Number of confirmed citations with tables for LA: 185\n",
      "Number of confirmed citations with figures for LA: 0\n",
      "Number of confirmed citations for LA: 197\n",
      "\n",
      "Number of confirmed citations with abstract for MSCMRSeg: 0\n",
      "Number of confirmed citations with tables for MSCMRSeg: 0\n",
      "Number of confirmed citations with figures for MSCMRSeg: 0\n",
      "Number of confirmed citations for MSCMRSeg: 0\n",
      "\n",
      "Number of confirmed citations with abstract for M&Ms: 0\n",
      "Number of confirmed citations with tables for M&Ms: 8\n",
      "Number of confirmed citations with figures for M&Ms: 0\n",
      "Number of confirmed citations for M&Ms: 8\n",
      "\n",
      "Number of confirmed citations with abstract for PROMISE12: 3\n",
      "Number of confirmed citations with tables for PROMISE12: 12\n",
      "Number of confirmed citations with figures for PROMISE12: 0\n",
      "Number of confirmed citations for PROMISE12: 15\n",
      "\n",
      "Number of confirmed citations with abstract for Medical Decathlon: 0\n",
      "Number of confirmed citations with tables for Medical Decathlon: 0\n",
      "Number of confirmed citations with figures for Medical Decathlon: 0\n",
      "Number of confirmed citations for Medical Decathlon: 0\n",
      "\n",
      "Number of confirmed citations with abstract for I2CVB: 0\n",
      "Number of confirmed citations with tables for I2CVB: 2\n",
      "Number of confirmed citations with figures for I2CVB: 0\n",
      "Number of confirmed citations for I2CVB: 2\n",
      "\n",
      "Number of confirmed citations with abstract for BRATS: 167\n",
      "Number of confirmed citations with tables for BRATS: 120\n",
      "Number of confirmed citations with figures for BRATS: 0\n",
      "Number of confirmed citations for BRATS: 287\n",
      "\n",
      "Number of confirmed citations with abstract for Synapse: 0\n",
      "Number of confirmed citations with tables for Synapse: 5\n",
      "Number of confirmed citations with figures for Synapse: 0\n",
      "Number of confirmed citations for Synapse: 5\n",
      "\n"
     ]
    }
   ],
   "source": [
    "for d in paper_using_tables:\n",
    "    print(f\"Number of confirmed citations with abstract for {d}: {len(paper_using_abstract[d])}\")\n",
    "    print(f\"Number of confirmed citations with tables for {d}: {len(paper_using_tables[d])}\")\n",
    "    print(f\"Number of confirmed citations with figures for {d}: {len(paper_using_figures[d])}\")\n",
    "\n",
    "    print(f\"Number of confirmed citations for {d}: {len(paper_confirmed[d])}\\n\")"
   ]
  },
  {
   "cell_type": "code",
   "execution_count": 77,
   "metadata": {},
   "outputs": [
    {
     "data": {
      "text/plain": [
       "{'ACDC': {'10.1007/978-3-030-00889-5_27',\n",
       "  '10.1007/978-3-030-00919-9_32',\n",
       "  '10.1007/978-3-030-21949-9_45',\n",
       "  '10.1007/978-3-030-32245-8_3',\n",
       "  '10.1007/978-3-030-32245-8_68',\n",
       "  '10.1007/978-3-030-32692-0_28',\n",
       "  '10.1007/978-3-030-33843-5_1',\n",
       "  '10.1007/978-3-030-50120-4_10',\n",
       "  '10.1007/978-3-030-59716-0_29',\n",
       "  '10.1007/978-3-030-59719-1_13',\n",
       "  '10.1007/978-3-030-59719-1_7',\n",
       "  '10.1007/978-3-030-59719-1_77',\n",
       "  '10.1007/978-3-030-59719-1_9',\n",
       "  '10.1007/978-3-030-59725-2_42',\n",
       "  '10.1007/978-3-030-61166-8_26',\n",
       "  '10.1007/978-3-030-78710-3_11',\n",
       "  '10.1007/978-3-030-87193-2_24',\n",
       "  '10.1007/978-3-030-87193-2_29',\n",
       "  '10.1007/978-3-030-87193-2_59',\n",
       "  '10.1007/978-3-030-87196-3_21',\n",
       "  '10.1007/978-3-030-87196-3_3',\n",
       "  '10.1007/978-3-030-87199-4_35',\n",
       "  '10.1007/978-3-030-87722-4_2',\n",
       "  '10.1007/978-3-031-16431-6_51',\n",
       "  '10.1007/978-3-031-16443-9_4',\n",
       "  '10.1007/978-3-031-16443-9_51',\n",
       "  '10.1007/978-3-031-16446-0_73',\n",
       "  '10.1007/978-3-031-16452-1_22',\n",
       "  '10.1007/978-3-031-16452-1_51',\n",
       "  '10.1007/978-3-031-16749-2_6',\n",
       "  '10.1007/978-3-031-23443-9_2',\n",
       "  '10.1007/978-3-031-23443-9_39',\n",
       "  '10.1007/978-3-031-23443-9_7'},\n",
       " 'LA': {'10.1007/978-3-030-00500-9_14',\n",
       "  '10.1007/978-3-030-00536-8_1',\n",
       "  '10.1007/978-3-030-00889-5_27',\n",
       "  '10.1007/978-3-030-00919-9_32',\n",
       "  '10.1007/978-3-030-00919-9_42',\n",
       "  '10.1007/978-3-030-00928-1_60',\n",
       "  '10.1007/978-3-030-00928-1_78',\n",
       "  '10.1007/978-3-030-00928-1_87',\n",
       "  '10.1007/978-3-030-00931-1_69',\n",
       "  '10.1007/978-3-030-00931-1_74',\n",
       "  '10.1007/978-3-030-00931-1_81',\n",
       "  '10.1007/978-3-030-00937-3_58',\n",
       "  '10.1007/978-3-030-02628-8',\n",
       "  '10.1007/978-3-030-02628-8_12',\n",
       "  '10.1007/978-3-030-04239-4_40',\n",
       "  '10.1007/978-3-030-11723-8_20',\n",
       "  '10.1007/978-3-030-11723-8_23',\n",
       "  '10.1007/978-3-030-11723-8_39',\n",
       "  '10.1007/978-3-030-11723-8_7',\n",
       "  '10.1007/978-3-030-11723-8_9',\n",
       "  '10.1007/978-3-030-11726-9_10',\n",
       "  '10.1007/978-3-030-11726-9_11',\n",
       "  '10.1007/978-3-030-11726-9_12',\n",
       "  '10.1007/978-3-030-11726-9_17',\n",
       "  '10.1007/978-3-030-11726-9_25',\n",
       "  '10.1007/978-3-030-11726-9_28',\n",
       "  '10.1007/978-3-030-11726-9_35',\n",
       "  '10.1007/978-3-030-11726-9_38',\n",
       "  '10.1007/978-3-030-11726-9_6',\n",
       "  '10.1007/978-3-030-12029-0_26',\n",
       "  '10.1007/978-3-030-17462-0_16',\n",
       "  '10.1007/978-3-030-20351-1_3',\n",
       "  '10.1007/978-3-030-20351-1_32',\n",
       "  '10.1007/978-3-030-20890-5_27',\n",
       "  '10.1007/978-3-030-21949-9_45',\n",
       "  '10.1007/978-3-030-32226-7_25',\n",
       "  '10.1007/978-3-030-32245-8_3',\n",
       "  '10.1007/978-3-030-32245-8_46',\n",
       "  '10.1007/978-3-030-32245-8_68',\n",
       "  '10.1007/978-3-030-32245-8_83',\n",
       "  '10.1007/978-3-030-32245-8_9',\n",
       "  '10.1007/978-3-030-32248-9_14',\n",
       "  '10.1007/978-3-030-32248-9_20',\n",
       "  '10.1007/978-3-030-32248-9_21',\n",
       "  '10.1007/978-3-030-32248-9_26',\n",
       "  '10.1007/978-3-030-32248-9_48',\n",
       "  '10.1007/978-3-030-32251-9_46',\n",
       "  '10.1007/978-3-030-32251-9_72',\n",
       "  '10.1007/978-3-030-32486-5_15',\n",
       "  '10.1007/978-3-030-32486-5_8',\n",
       "  '10.1007/978-3-030-32692-0_28',\n",
       "  '10.1007/978-3-030-33391-1_19',\n",
       "  '10.1007/978-3-030-33843-5_1',\n",
       "  '10.1007/978-3-030-33904-3_30',\n",
       "  '10.1007/978-3-030-33904-3_35',\n",
       "  '10.1007/978-3-030-40124-5_3',\n",
       "  '10.1007/978-3-030-46640-4_15',\n",
       "  '10.1007/978-3-030-46640-4_16',\n",
       "  '10.1007/978-3-030-46640-4_17',\n",
       "  '10.1007/978-3-030-46640-4_28',\n",
       "  '10.1007/978-3-030-46643-5_30',\n",
       "  '10.1007/978-3-030-46643-5_8',\n",
       "  '10.1007/978-3-030-47436-2_31',\n",
       "  '10.1007/978-3-030-50120-4_10',\n",
       "  '10.1007/978-3-030-50417-5_6',\n",
       "  '10.1007/978-3-030-59710-8_18',\n",
       "  '10.1007/978-3-030-59710-8_38',\n",
       "  '10.1007/978-3-030-59710-8_42',\n",
       "  '10.1007/978-3-030-59710-8_49',\n",
       "  '10.1007/978-3-030-59713-9_70',\n",
       "  '10.1007/978-3-030-59716-0_28',\n",
       "  '10.1007/978-3-030-59716-0_29',\n",
       "  '10.1007/978-3-030-59719-1_10',\n",
       "  '10.1007/978-3-030-59719-1_13',\n",
       "  '10.1007/978-3-030-59719-1_51',\n",
       "  '10.1007/978-3-030-59719-1_7',\n",
       "  '10.1007/978-3-030-59719-1_77',\n",
       "  '10.1007/978-3-030-59719-1_8',\n",
       "  '10.1007/978-3-030-59719-1_9',\n",
       "  '10.1007/978-3-030-59725-2_42',\n",
       "  '10.1007/978-3-030-60334-2_15',\n",
       "  '10.1007/978-3-030-61166-8_26',\n",
       "  '10.1007/978-3-030-65651-5_16',\n",
       "  '10.1007/978-3-030-67194-5_4',\n",
       "  '10.1007/978-3-030-68107-4_18',\n",
       "  '10.1007/978-3-030-68107-4_30',\n",
       "  '10.1007/978-3-030-72084-1_19',\n",
       "  '10.1007/978-3-030-72084-1_20',\n",
       "  '10.1007/978-3-030-72084-1_21',\n",
       "  '10.1007/978-3-030-72084-1_25',\n",
       "  '10.1007/978-3-030-72084-1_26',\n",
       "  '10.1007/978-3-030-72084-1_36',\n",
       "  '10.1007/978-3-030-72087-2_11',\n",
       "  '10.1007/978-3-030-72087-2_18',\n",
       "  '10.1007/978-3-030-72087-2_19',\n",
       "  '10.1007/978-3-030-72087-2_27',\n",
       "  '10.1007/978-3-030-72087-2_34',\n",
       "  '10.1007/978-3-030-72087-2_36',\n",
       "  '10.1007/978-3-030-72087-2_5',\n",
       "  '10.1007/978-3-030-72087-2_6',\n",
       "  '10.1007/978-3-030-78191-0_51',\n",
       "  '10.1007/978-3-030-78710-3_11',\n",
       "  '10.1007/978-3-030-87193-2_11',\n",
       "  '10.1007/978-3-030-87193-2_24',\n",
       "  '10.1007/978-3-030-87193-2_29',\n",
       "  '10.1007/978-3-030-87193-2_56',\n",
       "  '10.1007/978-3-030-87193-2_59',\n",
       "  '10.1007/978-3-030-87193-2_64',\n",
       "  '10.1007/978-3-030-87193-2_8',\n",
       "  '10.1007/978-3-030-87196-3_21',\n",
       "  '10.1007/978-3-030-87196-3_28',\n",
       "  '10.1007/978-3-030-87196-3_29',\n",
       "  '10.1007/978-3-030-87196-3_3',\n",
       "  '10.1007/978-3-030-87196-3_4',\n",
       "  '10.1007/978-3-030-87196-3_49',\n",
       "  '10.1007/978-3-030-87196-3_51',\n",
       "  '10.1007/978-3-030-87199-4_23',\n",
       "  '10.1007/978-3-030-87199-4_34',\n",
       "  '10.1007/978-3-030-87199-4_35',\n",
       "  '10.1007/978-3-030-87199-4_39',\n",
       "  '10.1007/978-3-030-87199-4_5',\n",
       "  '10.1007/978-3-030-87199-4_56',\n",
       "  '10.1007/978-3-030-87199-4_6',\n",
       "  '10.1007/978-3-030-87231-1_15',\n",
       "  '10.1007/978-3-030-87231-1_21',\n",
       "  '10.1007/978-3-030-87231-1_54',\n",
       "  '10.1007/978-3-030-87234-2_39',\n",
       "  '10.1007/978-3-030-87234-2_42',\n",
       "  '10.1007/978-3-030-87240-3_23',\n",
       "  '10.1007/978-3-030-87586-2_9',\n",
       "  '10.1007/978-3-030-87589-3_34',\n",
       "  '10.1007/978-3-030-87602-9_14',\n",
       "  '10.1007/978-3-030-87722-4_12',\n",
       "  '10.1007/978-3-030-87722-4_2',\n",
       "  '10.1007/978-3-030-87735-4_3',\n",
       "  '10.1007/978-3-030-88010-1_46',\n",
       "  '10.1007/978-3-030-89847-2_6',\n",
       "  '10.1007/978-3-030-90874-4_4',\n",
       "  '10.1007/978-3-031-08999-2_13',\n",
       "  '10.1007/978-3-031-08999-2_41',\n",
       "  '10.1007/978-3-031-09002-8_10',\n",
       "  '10.1007/978-3-031-15937-4_65',\n",
       "  '10.1007/978-3-031-16431-6_51',\n",
       "  '10.1007/978-3-031-16440-8_54',\n",
       "  '10.1007/978-3-031-16443-9_11',\n",
       "  '10.1007/978-3-031-16443-9_4',\n",
       "  '10.1007/978-3-031-16443-9_51',\n",
       "  '10.1007/978-3-031-16443-9_56',\n",
       "  '10.1007/978-3-031-16446-0_34',\n",
       "  '10.1007/978-3-031-16446-0_6',\n",
       "  '10.1007/978-3-031-16446-0_73',\n",
       "  '10.1007/978-3-031-16452-1_22',\n",
       "  '10.1007/978-3-031-16452-1_4',\n",
       "  '10.1007/978-3-031-16452-1_51',\n",
       "  '10.1007/978-3-031-16749-2_3',\n",
       "  '10.1007/978-3-031-16749-2_6',\n",
       "  '10.1007/978-3-031-16760-7_10',\n",
       "  '10.1007/978-3-031-16852-9_13',\n",
       "  '10.1007/978-3-031-16876-5_5',\n",
       "  '10.1007/978-3-031-23443-9_2',\n",
       "  '10.1007/978-3-031-23443-9_35',\n",
       "  '10.1007/978-3-031-23443-9_39',\n",
       "  '10.1007/978-3-031-23443-9_7',\n",
       "  '10.1007/978-3-031-26409-2_36',\n",
       "  '10.1007/978-3-319-23117-4_17',\n",
       "  '10.1007/978-3-319-30858-6_1',\n",
       "  '10.1007/978-3-319-46630-9_10',\n",
       "  '10.1007/978-3-319-46976-8_19',\n",
       "  '10.1007/978-3-319-47103-7_28',\n",
       "  '10.1007/978-3-319-50478-0_6',\n",
       "  '10.1007/978-3-319-55524-9_14',\n",
       "  '10.1007/978-3-319-55524-9_15',\n",
       "  '10.1007/978-3-319-55524-9_18',\n",
       "  '10.1007/978-3-319-66179-7_10',\n",
       "  '10.1007/978-3-319-66179-7_33',\n",
       "  '10.1007/978-3-319-66185-8_49',\n",
       "  '10.1007/978-3-319-67534-3_12',\n",
       "  '10.1007/978-3-319-70093-9_85',\n",
       "  '10.1007/978-3-319-75238-9_12',\n",
       "  '10.1007/978-3-319-75238-9_18',\n",
       "  '10.1007/978-3-319-75238-9_19',\n",
       "  '10.1007/978-3-319-75238-9_21',\n",
       "  '10.1007/978-3-319-75238-9_25',\n",
       "  '10.1007/978-3-319-75238-9_31',\n",
       "  '10.1007/978-3-319-75238-9_33'},\n",
       " 'MSCMRSeg': set(),\n",
       " 'M&Ms': {'10.1007/978-3-030-68107-4_18',\n",
       "  '10.1007/978-3-030-87193-2_59',\n",
       "  '10.1007/978-3-030-87196-3_29',\n",
       "  '10.1007/978-3-030-87735-4_3',\n",
       "  '10.1007/978-3-031-16440-8_54',\n",
       "  '10.1007/978-3-031-16446-0_6',\n",
       "  '10.1007/978-3-031-16452-1_51',\n",
       "  '10.1007/978-3-031-23443-9_39'},\n",
       " 'PROMISE12': {'10.1007/978-3-030-00919-9_42',\n",
       "  '10.1007/978-3-030-00928-1_87',\n",
       "  '10.1007/978-3-030-00937-3_58',\n",
       "  '10.1007/978-3-030-32486-5_15',\n",
       "  '10.1007/978-3-030-59710-8_38',\n",
       "  '10.1007/978-3-030-87193-2_29',\n",
       "  '10.1007/978-3-030-87196-3_49',\n",
       "  '10.1007/978-3-030-87199-4_23',\n",
       "  '10.1007/978-3-030-87199-4_34',\n",
       "  '10.1007/978-3-030-87199-4_5',\n",
       "  '10.1007/978-3-031-15937-4_65',\n",
       "  '10.1007/978-3-031-26409-2_36'},\n",
       " 'Medical Decathlon': set(),\n",
       " 'I2CVB': {'10.1007/978-3-030-87199-4_23', '10.1007/978-3-031-16852-9_13'},\n",
       " 'BRATS': {'10.1007/978-3-030-00500-9_14',\n",
       "  '10.1007/978-3-030-00536-8_1',\n",
       "  '10.1007/978-3-030-00928-1_60',\n",
       "  '10.1007/978-3-030-00928-1_78',\n",
       "  '10.1007/978-3-030-00931-1_69',\n",
       "  '10.1007/978-3-030-00931-1_74',\n",
       "  '10.1007/978-3-030-00931-1_81',\n",
       "  '10.1007/978-3-030-00937-3_58',\n",
       "  '10.1007/978-3-030-02628-8_12',\n",
       "  '10.1007/978-3-030-04239-4_40',\n",
       "  '10.1007/978-3-030-11723-8_20',\n",
       "  '10.1007/978-3-030-11723-8_23',\n",
       "  '10.1007/978-3-030-11723-8_39',\n",
       "  '10.1007/978-3-030-11723-8_7',\n",
       "  '10.1007/978-3-030-11723-8_9',\n",
       "  '10.1007/978-3-030-11726-9_10',\n",
       "  '10.1007/978-3-030-11726-9_11',\n",
       "  '10.1007/978-3-030-11726-9_12',\n",
       "  '10.1007/978-3-030-11726-9_17',\n",
       "  '10.1007/978-3-030-11726-9_25',\n",
       "  '10.1007/978-3-030-11726-9_28',\n",
       "  '10.1007/978-3-030-11726-9_35',\n",
       "  '10.1007/978-3-030-11726-9_38',\n",
       "  '10.1007/978-3-030-11726-9_6',\n",
       "  '10.1007/978-3-030-17462-0_16',\n",
       "  '10.1007/978-3-030-20351-1_32',\n",
       "  '10.1007/978-3-030-20890-5_27',\n",
       "  '10.1007/978-3-030-21949-9_45',\n",
       "  '10.1007/978-3-030-32226-7_25',\n",
       "  '10.1007/978-3-030-32245-8_3',\n",
       "  '10.1007/978-3-030-32245-8_46',\n",
       "  '10.1007/978-3-030-32245-8_9',\n",
       "  '10.1007/978-3-030-32248-9_14',\n",
       "  '10.1007/978-3-030-32248-9_20',\n",
       "  '10.1007/978-3-030-32248-9_21',\n",
       "  '10.1007/978-3-030-32248-9_26',\n",
       "  '10.1007/978-3-030-32248-9_48',\n",
       "  '10.1007/978-3-030-32251-9_46',\n",
       "  '10.1007/978-3-030-32486-5_8',\n",
       "  '10.1007/978-3-030-33391-1_19',\n",
       "  '10.1007/978-3-030-33904-3_30',\n",
       "  '10.1007/978-3-030-33904-3_35',\n",
       "  '10.1007/978-3-030-40124-5_3',\n",
       "  '10.1007/978-3-030-46640-4_15',\n",
       "  '10.1007/978-3-030-46640-4_16',\n",
       "  '10.1007/978-3-030-46640-4_17',\n",
       "  '10.1007/978-3-030-46640-4_28',\n",
       "  '10.1007/978-3-030-46643-5_30',\n",
       "  '10.1007/978-3-030-46643-5_8',\n",
       "  '10.1007/978-3-030-47436-2_31',\n",
       "  '10.1007/978-3-030-59710-8_18',\n",
       "  '10.1007/978-3-030-59710-8_42',\n",
       "  '10.1007/978-3-030-59710-8_49',\n",
       "  '10.1007/978-3-030-59713-9_70',\n",
       "  '10.1007/978-3-030-59716-0_28',\n",
       "  '10.1007/978-3-030-59719-1_51',\n",
       "  '10.1007/978-3-030-67194-5_4',\n",
       "  '10.1007/978-3-030-72084-1_19',\n",
       "  '10.1007/978-3-030-72084-1_20',\n",
       "  '10.1007/978-3-030-72084-1_21',\n",
       "  '10.1007/978-3-030-72084-1_25',\n",
       "  '10.1007/978-3-030-72084-1_26',\n",
       "  '10.1007/978-3-030-72084-1_36',\n",
       "  '10.1007/978-3-030-72087-2_11',\n",
       "  '10.1007/978-3-030-72087-2_18',\n",
       "  '10.1007/978-3-030-72087-2_19',\n",
       "  '10.1007/978-3-030-72087-2_27',\n",
       "  '10.1007/978-3-030-72087-2_34',\n",
       "  '10.1007/978-3-030-72087-2_36',\n",
       "  '10.1007/978-3-030-72087-2_5',\n",
       "  '10.1007/978-3-030-72087-2_6',\n",
       "  '10.1007/978-3-030-78191-0_51',\n",
       "  '10.1007/978-3-030-87193-2_11',\n",
       "  '10.1007/978-3-030-87193-2_56',\n",
       "  '10.1007/978-3-030-87193-2_64',\n",
       "  '10.1007/978-3-030-87193-2_8',\n",
       "  '10.1007/978-3-030-87196-3_4',\n",
       "  '10.1007/978-3-030-87196-3_51',\n",
       "  '10.1007/978-3-030-87199-4_5',\n",
       "  '10.1007/978-3-030-87199-4_56',\n",
       "  '10.1007/978-3-030-87231-1_15',\n",
       "  '10.1007/978-3-030-87234-2_39',\n",
       "  '10.1007/978-3-030-87234-2_42',\n",
       "  '10.1007/978-3-030-87240-3_23',\n",
       "  '10.1007/978-3-030-87589-3_34',\n",
       "  '10.1007/978-3-030-87602-9_14',\n",
       "  '10.1007/978-3-030-87722-4_12',\n",
       "  '10.1007/978-3-030-89847-2_6',\n",
       "  '10.1007/978-3-030-90874-4_4',\n",
       "  '10.1007/978-3-031-08999-2_13',\n",
       "  '10.1007/978-3-031-08999-2_41',\n",
       "  '10.1007/978-3-031-09002-8_10',\n",
       "  '10.1007/978-3-031-16443-9_11',\n",
       "  '10.1007/978-3-031-16443-9_51',\n",
       "  '10.1007/978-3-031-16443-9_56',\n",
       "  '10.1007/978-3-031-16446-0_34',\n",
       "  '10.1007/978-3-031-16446-0_73',\n",
       "  '10.1007/978-3-031-16452-1_4',\n",
       "  '10.1007/978-3-031-16749-2_3',\n",
       "  '10.1007/978-3-031-16760-7_10',\n",
       "  '10.1007/978-3-319-30858-6_1',\n",
       "  '10.1007/978-3-319-46630-9_10',\n",
       "  '10.1007/978-3-319-46976-8_19',\n",
       "  '10.1007/978-3-319-47103-7_28',\n",
       "  '10.1007/978-3-319-50478-0_6',\n",
       "  '10.1007/978-3-319-55524-9_14',\n",
       "  '10.1007/978-3-319-55524-9_15',\n",
       "  '10.1007/978-3-319-55524-9_18',\n",
       "  '10.1007/978-3-319-66179-7_10',\n",
       "  '10.1007/978-3-319-66179-7_33',\n",
       "  '10.1007/978-3-319-66185-8_49',\n",
       "  '10.1007/978-3-319-67534-3_12',\n",
       "  '10.1007/978-3-319-70093-9_85',\n",
       "  '10.1007/978-3-319-75238-9_12',\n",
       "  '10.1007/978-3-319-75238-9_18',\n",
       "  '10.1007/978-3-319-75238-9_19',\n",
       "  '10.1007/978-3-319-75238-9_21',\n",
       "  '10.1007/978-3-319-75238-9_25',\n",
       "  '10.1007/978-3-319-75238-9_31',\n",
       "  '10.1007/978-3-319-75238-9_33'},\n",
       " 'Synapse': {'10.1007/978-3-030-87722-4_12',\n",
       "  '10.1007/978-3-030-90874-4_4',\n",
       "  '10.1007/978-3-031-08999-2_13',\n",
       "  '10.1007/978-3-031-08999-2_41',\n",
       "  '10.1007/978-3-031-15937-4_65'}}"
      ]
     },
     "execution_count": 77,
     "metadata": {},
     "output_type": "execute_result"
    }
   ],
   "source": [
    "paper_using_tables"
   ]
  },
  {
   "attachments": {},
   "cell_type": "markdown",
   "metadata": {},
   "source": [
    "# Example code for download "
   ]
  },
  {
   "attachments": {},
   "cell_type": "markdown",
   "metadata": {},
   "source": [
    "# Check fulltext of paper for either figures or tables"
   ]
  },
  {
   "attachments": {},
   "cell_type": "markdown",
   "metadata": {},
   "source": [
    "## Extract images from valid pdf"
   ]
  },
  {
   "cell_type": "code",
   "execution_count": 4,
   "metadata": {},
   "outputs": [],
   "source": [
    "#get every valid pdf path\n",
    "valid_pdf_path = glob.glob(\"../../results/papers_fulltext/valid_pdf/*.pdf\")\n",
    "\n",
    "#path of folder where images will be stored\n",
    "images_path = \"../../results/papers_fulltext/images\"\n",
    "#Create this folder if it does not exist\n",
    "if not os.path.exists(images_path):\n",
    "    os.makedirs(images_path)\n",
    "\n",
    "#For each pdf file\n",
    "for file in valid_pdf_path:\n",
    "    #Open the file\n",
    "    pdf_file = fitz.open(file)\n",
    "\n",
    "    #Get the number of pages in PDF file\n",
    "    page_nums = len(pdf_file)\n",
    "\n",
    "    #Create empty list to store images information\n",
    "    images_list = []\n",
    "\n",
    "    #Extract all images information from each page\n",
    "    for page_num in range(page_nums):\n",
    "        page_content = pdf_file[page_num]\n",
    "        images_list.extend(page_content.get_images())\n",
    "\n",
    "    #If there is at least one image in the pdf\n",
    "    if len(images_list)!=0:\n",
    "        #Create a subfolder for the article, this way we easily know from which paper the images is coming from\n",
    "        if not os.path.exists(os.path.join(images_path, os.path.basename(file.replace(\".pdf\",\"\")))):\n",
    "            os.makedirs(os.path.join(images_path, os.path.basename(file.replace(\".pdf\",\"\"))))\n",
    "\n",
    "        #Save all the extracted images\n",
    "        for i, img in enumerate(images_list, start=1):\n",
    "            #Extract the image object number\n",
    "            xref = img[0]\n",
    "            #Extract image\n",
    "            base_image = pdf_file.extract_image(xref)\n",
    "            #Store image bytes\n",
    "            image_bytes = base_image['image']\n",
    "            #Store image extension\n",
    "            image_ext = base_image['ext']\n",
    "            #Generate image file name\n",
    "            image_name = str(i) + '.' + image_ext\n",
    "            #Save image\n",
    "            with open(os.path.join(images_path, os.path.basename(file.replace(\".pdf\",\"\")),image_name) , 'wb') as image_file:\n",
    "                image_file.write(image_bytes)\n",
    "                image_file.close()\n",
    "\n"
   ]
  },
  {
   "attachments": {},
   "cell_type": "markdown",
   "metadata": {},
   "source": [
    "## Extract tables from valid PDF"
   ]
  },
  {
   "cell_type": "code",
   "execution_count": 11,
   "metadata": {},
   "outputs": [],
   "source": [
    "valid_pdf_path = glob.glob(\"../../results/papers_fulltext/valid_pdf/*.pdf\")\n",
    "for pdf in valid_pdf_path:\n",
    "    tables = camelot.read_pdf(pdf,\"all\",flavor=\"stream\",suppress_stdout=True)\n",
    "    for t in tables:\n",
    "        t_str = t.df.to_string()\n",
    "        if \"ACDC\" in t_str:\n",
    "            print(\"ACDC IN\",pdf)\n",
    "            break"
   ]
  },
  {
   "cell_type": "code",
   "execution_count": 29,
   "metadata": {},
   "outputs": [
    {
     "name": "stdout",
     "output_type": "stream",
     "text": [
      "ACDC IN ../../results/papers_fulltext/valid_pdf/5.pdf\n",
      "ACDC IN ../../results/papers_fulltext/valid_pdf/9.pdf\n",
      "ACDC IN ../../results/papers_fulltext/valid_pdf/6.pdf\n",
      "ACDC IN ../../results/papers_fulltext/valid_pdf/7.pdf\n",
      "ACDC IN ../../results/papers_fulltext/valid_pdf/8.pdf\n"
     ]
    }
   ],
   "source": [
    "for pdf in valid_pdf_path:\n",
    "    tables = camelot.read_pdf(pdf,\"all\",flavor=\"stream\",suppress_stdout=True)\n",
    "    for t in tables:\n",
    "        t_str = t.df.to_string()\n",
    "        if \"ACDC\" in t_str:\n",
    "            print(\"ACDC IN\",pdf)\n",
    "            break"
   ]
  }
 ],
 "metadata": {
  "kernelspec": {
   "display_name": "Python 3",
   "language": "python",
   "name": "python3"
  },
  "language_info": {
   "codemirror_mode": {
    "name": "ipython",
    "version": 3
   },
   "file_extension": ".py",
   "mimetype": "text/x-python",
   "name": "python",
   "nbconvert_exporter": "python",
   "pygments_lexer": "ipython3",
   "version": "3.10.6"
  },
  "orig_nbformat": 4
 },
 "nbformat": 4,
 "nbformat_minor": 2
}
