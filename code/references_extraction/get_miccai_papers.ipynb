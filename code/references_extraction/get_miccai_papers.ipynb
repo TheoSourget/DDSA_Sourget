{
 "cells": [
  {
   "attachments": {},
   "cell_type": "markdown",
   "metadata": {},
   "source": [
    "# Gather list of MICCAI papers\n",
    "We can't distinguish papers from MICCAI using only OpenAlex, therefore we've used the API of [dblp.org](dblp.org) to get them.\n",
    "\n",
    "We have to query an url similar to https://dblp.org/search/publ/api?q=stream%3Aconf%2Fmiccai%3A%20streamid%3Aconf%2Fmiccai%3A%20type%3AConference_and_Workshop_Papers%3A&h=1000&f=1000&format=json\n",
    "\n",
    "We iterate through f value, as we can only get 1000 papers from a query, the f parameter indicates at which paper the result starts\n"
   ]
  },
  {
   "attachments": {},
   "cell_type": "markdown",
   "metadata": {},
   "source": [
    "## Get list of papers"
   ]
  },
  {
   "cell_type": "code",
   "execution_count": 8,
   "metadata": {},
   "outputs": [
    {
     "data": {
      "text/plain": [
       "{'@score': '3',\n",
       " '@id': '5453552',\n",
       " 'info': {'authors': {'author': [{'@pid': '77/3463',\n",
       "     'text': 'F. Javier Sánchez Castro'},\n",
       "    {'@pid': '56/4465', 'text': 'Claudio Pollo'},\n",
       "    {'@pid': '45/3514', 'text': 'Reto Meuli'},\n",
       "    {'@pid': '79/3481', 'text': 'Philippe Maeder'},\n",
       "    {'@pid': '53/6044', 'text': 'Meritxell Bach Cuadra'},\n",
       "    {'@pid': '85/711', 'text': 'Olivier Cuisenaire'},\n",
       "    {'@pid': '91/71', 'text': 'Jean-Guy Villemure'},\n",
       "    {'@pid': 't/JeanPhilippeThiran', 'text': 'Jean-Philippe Thiran'}]},\n",
       "  'title': 'Cross Validation of Experts Versus Registration Methods for Target Localization in Deep Brain Stimulation.',\n",
       "  'venue': 'MICCAI',\n",
       "  'pages': '417-424',\n",
       "  'year': '2005',\n",
       "  'type': 'Conference and Workshop Papers',\n",
       "  'access': 'open',\n",
       "  'key': 'conf/miccai/CastroPMMCCVT05',\n",
       "  'doi': '10.1007/11566465_52',\n",
       "  'ee': 'https://doi.org/10.1007/11566465_52',\n",
       "  'url': 'https://dblp.org/rec/conf/miccai/CastroPMMCCVT05'},\n",
       " 'url': 'URL#5453552'}"
      ]
     },
     "execution_count": 8,
     "metadata": {},
     "output_type": "execute_result"
    }
   ],
   "source": [
    "paper"
   ]
  },
  {
   "cell_type": "code",
   "execution_count": 11,
   "metadata": {},
   "outputs": [],
   "source": [
    "import requests\n",
    "indice_paper = 0\n",
    "nextPage = True\n",
    "#Dictionnary with doi as key and title as value\n",
    "lst_paper = {}\n",
    "while nextPage:\n",
    "    request_url = f\"https://dblp.org/search/publ/api?q=stream%3Aconf%2Fmiccai%3A%20streamid%3Aconf%2Fmiccai%3A%20type%3AConference_and_Workshop_Papers%3A&h=1000&f={indice_paper}&format=json\"\n",
    "    request = requests.get(request_url)\n",
    "    if request.status_code == 200:\n",
    "        r_json = request.json()\n",
    "        if r_json[\"result\"][\"hits\"][\"@sent\"] != '0':\n",
    "            for paper in r_json[\"result\"][\"hits\"][\"hit\"]:\n",
    "                if \"doi\" not in paper[\"info\"] or \"title\" not in paper[\"info\"] or int(paper[\"info\"][\"year\"]) < 2013 or paper[\"info\"][\"venue\"] != \"MICCAI\":\n",
    "                    continue\n",
    "                title = paper[\"info\"][\"title\"]\n",
    "                title = title.replace(\",\",\"\")\n",
    "                title = title.replace(\"\\n\",\"\")\n",
    "                year = paper[\"info\"][\"year\"]\n",
    "                venue = paper[\"info\"][\"venue\"]\n",
    "                doi = paper[\"info\"][\"doi\"]\n",
    "                lst_paper[doi] = title\n",
    "            indice_paper += 1000\n",
    "        else:\n",
    "            nextPage = False\n",
    "        \n",
    "            "
   ]
  },
  {
   "attachments": {},
   "cell_type": "markdown",
   "metadata": {},
   "source": [
    "## Save it in a csv"
   ]
  },
  {
   "cell_type": "code",
   "execution_count": 12,
   "metadata": {},
   "outputs": [],
   "source": [
    "import csv\n",
    "with open('../../data/miccai_papers.csv','w') as f:\n",
    "    f.write(\"doi,title\")\n",
    "    for k in lst_paper:\n",
    "        f.write(f\"\\n{k},{lst_paper[k]}\")"
   ]
  }
 ],
 "metadata": {
  "kernelspec": {
   "display_name": "Python 3",
   "language": "python",
   "name": "python3"
  },
  "language_info": {
   "codemirror_mode": {
    "name": "ipython",
    "version": 3
   },
   "file_extension": ".py",
   "mimetype": "text/x-python",
   "name": "python",
   "nbconvert_exporter": "python",
   "pygments_lexer": "ipython3",
   "version": "3.10.6"
  },
  "orig_nbformat": 4
 },
 "nbformat": 4,
 "nbformat_minor": 2
}
