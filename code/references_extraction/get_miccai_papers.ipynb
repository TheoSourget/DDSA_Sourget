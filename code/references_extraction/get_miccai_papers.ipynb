{
 "cells": [
  {
   "attachments": {},
   "cell_type": "markdown",
   "metadata": {},
   "source": [
    "# Gather list of MICCAI papers\n",
    "We can't distinguish papers from MICCAI using only OpenAlex, therefore we've used the API of [dblp.org](dblp.org) to get them.\n",
    "\n",
    "We have to query an url similar to https://dblp.org/search/publ/api?q=stream%3Aconf%2Fmiccai%3A%20streamid%3Aconf%2Fmiccai%3A%20type%3AConference_and_Workshop_Papers%3A&h=1000&f=1000&format=json\n",
    "\n",
    "We iterate through f value, as we can only get 1000 papers from a query, the f parameter indicates at which paper the result starts\n"
   ]
  },
  {
   "attachments": {},
   "cell_type": "markdown",
   "metadata": {},
   "source": [
    "## Get list of papers"
   ]
  },
  {
   "cell_type": "code",
   "execution_count": 11,
   "metadata": {},
   "outputs": [],
   "source": [
    "import requests\n",
    "indice_paper = 0\n",
    "nextPage = True\n",
    "#Dictionnary with doi as key and title as value\n",
    "lst_paper = {}\n",
    "while nextPage:\n",
    "    request_url = f\"https://dblp.org/search/publ/api?q=stream%3Aconf%2Fmiccai%3A%20streamid%3Aconf%2Fmiccai%3A%20type%3AConference_and_Workshop_Papers%3A&h=1000&f={indice_paper}&format=json\"\n",
    "    request = requests.get(request_url)\n",
    "    if request.status_code == 200:\n",
    "        r_json = request.json()\n",
    "        if r_json[\"result\"][\"hits\"][\"@sent\"] != '0':\n",
    "            for paper in r_json[\"result\"][\"hits\"][\"hit\"]:\n",
    "                if \"doi\" not in paper[\"info\"] or \"title\" not in paper[\"info\"] or int(paper[\"info\"][\"year\"]) < 2013 or paper[\"info\"][\"venue\"] != \"MICCAI\":\n",
    "                    continue\n",
    "                title = paper[\"info\"][\"title\"]\n",
    "                title = title.replace(\",\",\"\")\n",
    "                title = title.replace(\"\\n\",\"\")\n",
    "                year = paper[\"info\"][\"year\"]\n",
    "                venue = paper[\"info\"][\"venue\"]\n",
    "                doi = paper[\"info\"][\"doi\"]\n",
    "                lst_paper[doi] = title\n",
    "            indice_paper += 1000\n",
    "        else:\n",
    "            nextPage = False\n",
    "        \n",
    "            "
   ]
  },
  {
   "attachments": {},
   "cell_type": "markdown",
   "metadata": {},
   "source": [
    "## Save it in a csv\n",
    "So we don't need to query again the API"
   ]
  },
  {
   "cell_type": "code",
   "execution_count": 1,
   "metadata": {},
   "outputs": [
    {
     "ename": "NameError",
     "evalue": "name 'lst_paper' is not defined",
     "output_type": "error",
     "traceback": [
      "\u001b[0;31m---------------------------------------------------------------------------\u001b[0m",
      "\u001b[0;31mNameError\u001b[0m                                 Traceback (most recent call last)",
      "\u001b[1;32m/home/theo/M2/DDSA_Sourget/code/references_extraction/get_miccai_papers.ipynb Cell 5\u001b[0m in \u001b[0;36m4\n\u001b[1;32m      <a href='vscode-notebook-cell:/home/theo/M2/DDSA_Sourget/code/references_extraction/get_miccai_papers.ipynb#W4sZmlsZQ%3D%3D?line=1'>2</a>\u001b[0m \u001b[39mwith\u001b[39;00m \u001b[39mopen\u001b[39m(\u001b[39m'\u001b[39m\u001b[39m../../data/miccai_papers.csv\u001b[39m\u001b[39m'\u001b[39m,\u001b[39m'\u001b[39m\u001b[39mw\u001b[39m\u001b[39m'\u001b[39m) \u001b[39mas\u001b[39;00m f:\n\u001b[1;32m      <a href='vscode-notebook-cell:/home/theo/M2/DDSA_Sourget/code/references_extraction/get_miccai_papers.ipynb#W4sZmlsZQ%3D%3D?line=2'>3</a>\u001b[0m     f\u001b[39m.\u001b[39mwrite(\u001b[39m\"\u001b[39m\u001b[39mdoi,title\u001b[39m\u001b[39m\"\u001b[39m)\n\u001b[0;32m----> <a href='vscode-notebook-cell:/home/theo/M2/DDSA_Sourget/code/references_extraction/get_miccai_papers.ipynb#W4sZmlsZQ%3D%3D?line=3'>4</a>\u001b[0m     \u001b[39mfor\u001b[39;00m k \u001b[39min\u001b[39;00m lst_paper:\n\u001b[1;32m      <a href='vscode-notebook-cell:/home/theo/M2/DDSA_Sourget/code/references_extraction/get_miccai_papers.ipynb#W4sZmlsZQ%3D%3D?line=4'>5</a>\u001b[0m         f\u001b[39m.\u001b[39mwrite(\u001b[39mf\u001b[39m\u001b[39m\"\u001b[39m\u001b[39m\\n\u001b[39;00m\u001b[39m{\u001b[39;00mk\u001b[39m}\u001b[39;00m\u001b[39m,\u001b[39m\u001b[39m{\u001b[39;00mlst_paper[k]\u001b[39m}\u001b[39;00m\u001b[39m\"\u001b[39m)\n",
      "\u001b[0;31mNameError\u001b[0m: name 'lst_paper' is not defined"
     ]
    }
   ],
   "source": [
    "import csv\n",
    "with open('../../data/miccai_papers.csv','w') as f:\n",
    "    f.write(\"doi,title\")\n",
    "    for k in lst_paper:\n",
    "        f.write(f\"\\n{k},{lst_paper[k]}\")"
   ]
  },
  {
   "attachments": {},
   "cell_type": "markdown",
   "metadata": {},
   "source": [
    "# Request OpenAlex\n",
    "For each paper obtained above, we use its API to query OpenAlex and check if a dataset is in the references. Then we apply the wrong reference detection process"
   ]
  },
  {
   "attachments": {},
   "cell_type": "markdown",
   "metadata": {},
   "source": [
    "### Load list of papers and datasets"
   ]
  },
  {
   "cell_type": "code",
   "execution_count": 47,
   "metadata": {},
   "outputs": [
    {
     "name": "stdout",
     "output_type": "stream",
     "text": [
      "Couldn't convert DOI for Synapse into OpenAlex ID\n"
     ]
    }
   ],
   "source": [
    "import requests\n",
    "lst_paper = {}\n",
    "reader = csv.DictReader(open('../../data/miccai_papers.csv'))\n",
    "for paper in reader:\n",
    "    lst_paper[paper[\"doi\"]] = paper[\"title\"]\n",
    "\n",
    "#Dictionnary with dataset's name as key and DOI as value\n",
    "datasets_doi = {}\n",
    "ds_reader = csv.DictReader(open('../../data/datasets.csv'))\n",
    "for ds in ds_reader:\n",
    "    datasets_doi[ds[\"name\"]] = ds[\"DOI\"]\n",
    "\n",
    "\"\"\"\n",
    "Convert a DOI to OpenAlex ID used as value in some API field such as \"referenced_works\"\n",
    "@param\n",
    "    - DOI: the doi we want to convert\n",
    "@return\n",
    "    The OpenAlex ID if the DOI is in OpenAlex database, None otherwise\n",
    "\"\"\"\n",
    "def doi_to_OpenAlexId(doi):\n",
    "    base_url = f\"https://api.openalex.org/works/doi:{doi}\"\n",
    "    r = requests.get(base_url)\n",
    "    if r.status_code == 200:\n",
    "        r_json = r.json()\n",
    "        return r_json[\"id\"]\n",
    "    else:\n",
    "        return None\n",
    "\n",
    "#Dictionnary with dataset names as key and openalex id as value. We associate an openalex ID because it's the value in the \"referenced_works\" field given by the API.\n",
    "datasets_id = {}\n",
    "\n",
    "#Convert DOI to OpenAlexID\n",
    "for ds  in datasets_doi:\n",
    "    openalex_id = doi_to_OpenAlexId(datasets_doi[ds])\n",
    "    if not openalex_id:\n",
    "        print(f\"Couldn't convert DOI for {ds} into OpenAlex ID\")\n",
    "    datasets_id[ds]=openalex_id"
   ]
  },
  {
   "cell_type": "code",
   "execution_count": 4,
   "metadata": {},
   "outputs": [
    {
     "data": {
      "text/plain": [
       "{'ACDC': 'https://openalex.org/W2804047627',\n",
       " 'LA': 'https://openalex.org/W3093394156',\n",
       " 'MSCMR': 'https://openalex.org/W4312016581',\n",
       " 'M&Ms': 'https://openalex.org/W4226199676',\n",
       " 'PROMISE12': 'https://openalex.org/W2106033751',\n",
       " 'I2CVB': 'https://openalex.org/W2049522781',\n",
       " 'BRATS': 'https://openalex.org/W1641498739',\n",
       " 'Synapse': None}"
      ]
     },
     "execution_count": 4,
     "metadata": {},
     "output_type": "execute_result"
    }
   ],
   "source": [
    "datasets_id"
   ]
  },
  {
   "attachments": {},
   "cell_type": "markdown",
   "metadata": {},
   "source": [
    "### Query OpenAlex for each paper"
   ]
  },
  {
   "cell_type": "code",
   "execution_count": 54,
   "metadata": {},
   "outputs": [
    {
     "name": "stderr",
     "output_type": "stream",
     "text": [
      "100%|██████████| 3839/3839 [29:14<00:00,  2.19it/s]\n"
     ]
    }
   ],
   "source": [
    "from tqdm import tqdm\n",
    "from collections import Counter\n",
    "paper_referencing = {ds:[] for ds in datasets_id}\n",
    "errors = Counter()\n",
    "nb_pymed = 0\n",
    "for doi in tqdm(lst_paper):\n",
    "    title = lst_paper[doi]\n",
    "    request_url = f\"https://api.openalex.org/works/doi:{doi}\"\n",
    "    request = requests.get(request_url)\n",
    "    if request.status_code == 200:\n",
    "        r_json = request.json()\n",
    "        fulltext_url = r_json[\"open_access\"][\"oa_url\"]\n",
    "        pmid = None\n",
    "        #Remove review/survey paper\n",
    "        if \"review\" in title.lower() or \"survey\" in title.lower():\n",
    "            continue\n",
    "        if \"pmid\" in r_json[\"ids\"]:\n",
    "            nb_pymed += 1\n",
    "            pmid = r_json[\"ids\"][\"pmid\"]\n",
    "        for ds in paper_referencing:\n",
    "            if datasets_id[ds] in r_json[\"referenced_works\"]:\n",
    "                paper_referencing[ds].append((title,doi,r_json[\"publication_year\"],r_json[\"abstract_inverted_index\"],fulltext_url,pmid))\n",
    "    else:\n",
    "        errors[request.status_code] += 1"
   ]
  },
  {
   "cell_type": "code",
   "execution_count": 8,
   "metadata": {},
   "outputs": [
    {
     "data": {
      "text/plain": [
       "Counter({404: 1})"
      ]
     },
     "execution_count": 8,
     "metadata": {},
     "output_type": "execute_result"
    }
   ],
   "source": [
    "errors"
   ]
  },
  {
   "cell_type": "code",
   "execution_count": 9,
   "metadata": {},
   "outputs": [
    {
     "name": "stdout",
     "output_type": "stream",
     "text": [
      "Number of citations for ACDC: 40\n",
      "Number of citations for LA: 6\n",
      "Number of citations for MSCMR: 0\n",
      "Number of citations for M&Ms: 8\n",
      "Number of citations for PROMISE12: 19\n",
      "Number of citations for I2CVB: 7\n",
      "Number of citations for BRATS: 76\n",
      "Number of citations for Synapse: 0\n"
     ]
    }
   ],
   "source": [
    "for d in paper_referencing:\n",
    "    print(f\"Number of citations for {d}: {len(paper_referencing[d])}\")"
   ]
  },
  {
   "attachments": {},
   "cell_type": "markdown",
   "metadata": {},
   "source": [
    "### Try pymed library"
   ]
  },
  {
   "cell_type": "code",
   "execution_count": 55,
   "metadata": {},
   "outputs": [
    {
     "data": {
      "text/plain": [
       "896"
      ]
     },
     "execution_count": 55,
     "metadata": {},
     "output_type": "execute_result"
    }
   ],
   "source": [
    "nb_pymed"
   ]
  },
  {
   "cell_type": "code",
   "execution_count": 81,
   "metadata": {},
   "outputs": [],
   "source": [
    "from pymed import PubMed\n",
    "pubmed = PubMed(tool=\"PubMedSearcher\", email=\"theo.sourget@univ-rouen.fr\")\n",
    "end = False\n",
    "for ds in paper_referencing:\n",
    "    if end:\n",
    "        break\n",
    "    for paper in paper_referencing[ds]:\n",
    "        if end:\n",
    "            break\n",
    "        paper_pmid = paper[5]\n",
    "        if paper_pmid:\n",
    "            article = list(pubmed.query(paper_pmid.removeprefix('https://pubmed.ncbi.nlm.nih.gov/'), max_results=1))[0]\n",
    "            article_dict = article.toDict()\n",
    "            if article_dict[\"methods\"]:\n",
    "                print(article_dict[\"methods\"])\n",
    "                end = True\n",
    "         "
   ]
  },
  {
   "cell_type": "code",
   "execution_count": 84,
   "metadata": {},
   "outputs": [
    {
     "data": {
      "text/plain": [
       "{'pubmed_id': '29900427\\n19783500\\n23766935\\n25494501\\n25752327\\n11241813\\n23498985\\n20724753',\n",
       " 'title': 'Liver tissue classification in patients with hepatocellular carcinoma by fusing structured and rotationally invariant context representation.',\n",
       " 'abstract': 'This work addresses multi-class liver tissue classification from multi-parameter MRI in patients with hepatocellular carcinoma (HCC), and is among the first to do so. We propose a structured prediction framework to simultaneously classify parenchyma, blood vessels, viable tumor tissue, and necrosis, which overcomes limitations related to classifying these tissue classes individually and consecutively. A novel classification framework is introduced, based on the integration of multi-scale shape and appearance features to initiate the classification, which is iteratively refined by augmenting the feature space with both structured and rotationally invariant label context features. We study further the topic of rotationally invariant label context feature representations, and introduce a method for this purpose based on computing the energies of the spherical harmonic decompositions computed at different frequencies and radii. We test our method on full 3D multi-parameter MRI volumes from 47 patients with HCC and achieve promising results.',\n",
       " 'keywords': ['HCC',\n",
       "  'MRI',\n",
       "  'classification',\n",
       "  'rotationally invariant context features',\n",
       "  'spherical harmonics',\n",
       "  'structured prediction'],\n",
       " 'journal': 'Medical image computing and computer-assisted intervention : MICCAI ... International Conference on Medical Image Computing and Computer-Assisted Intervention',\n",
       " 'publication_date': datetime.date(2018, 6, 15),\n",
       " 'authors': [{'lastname': 'Treilhard',\n",
       "   'firstname': 'John',\n",
       "   'initials': 'J',\n",
       "   'affiliation': 'Department of Biomedical Engineering, Yale University, New Haven, CT 06520, USA.'},\n",
       "  {'lastname': 'Smolka',\n",
       "   'firstname': 'Susanne',\n",
       "   'initials': 'S',\n",
       "   'affiliation': 'Department of Radiology and Biomedical Imaging, Yale University, New Haven, CT 06520, USA.\\nCharité University Hospital, 10117 Berlin, Germany.'},\n",
       "  {'lastname': 'Staib',\n",
       "   'firstname': 'Lawrence',\n",
       "   'initials': 'L',\n",
       "   'affiliation': 'Department of Biomedical Engineering, Yale University, New Haven, CT 06520, USA.\\nDepartment of Electrical Engineering, Yale University, New Haven, CT 06520, USA.\\nDepartment of Radiology and Biomedical Imaging, Yale University, New Haven, CT 06520, USA.'},\n",
       "  {'lastname': 'Chapiro',\n",
       "   'firstname': 'Julius',\n",
       "   'initials': 'J',\n",
       "   'affiliation': 'Department of Radiology and Biomedical Imaging, Yale University, New Haven, CT 06520, USA.'},\n",
       "  {'lastname': 'Lin',\n",
       "   'firstname': 'MingDe',\n",
       "   'initials': 'M',\n",
       "   'affiliation': 'Department of Radiology and Biomedical Imaging, Yale University, New Haven, CT 06520, USA.\\nPhilips Research North America, Cambridge, MA 02141, USA.'},\n",
       "  {'lastname': 'Shakirin',\n",
       "   'firstname': 'Georgy',\n",
       "   'initials': 'G',\n",
       "   'affiliation': 'Philips Research Aachen, 52074 Aachen, Germany.'},\n",
       "  {'lastname': 'Duncan',\n",
       "   'firstname': 'James',\n",
       "   'initials': 'J',\n",
       "   'affiliation': 'Department of Biomedical Engineering, Yale University, New Haven, CT 06520, USA.\\nDepartment of Electrical Engineering, Yale University, New Haven, CT 06520, USA.\\nDepartment of Radiology and Biomedical Imaging, Yale University, New Haven, CT 06520, USA.'}],\n",
       " 'methods': None,\n",
       " 'conclusions': None,\n",
       " 'results': None,\n",
       " 'copyrights': None,\n",
       " 'doi': '10.1007/978-3-319-66179-7_10',\n",
       " 'xml': <Element 'PubmedArticle' at 0x7f6d21bf5800>}"
      ]
     },
     "execution_count": 84,
     "metadata": {},
     "output_type": "execute_result"
    }
   ],
   "source": [
    "article_dict"
   ]
  },
  {
   "cell_type": "code",
   "execution_count": 15,
   "metadata": {},
   "outputs": [],
   "source": [
    "import csv\n",
    "with open('./ref_miccai.csv','w') as f:\n",
    "    f.write(\"doi,title,dataset\")\n",
    "    for d in paper_referencing:\n",
    "        for p in paper_referencing[d]:\n",
    "            f.write(f\"\\n{p[1]},{p[0]},{d}\")"
   ]
  },
  {
   "attachments": {},
   "cell_type": "markdown",
   "metadata": {},
   "source": [
    "## Apply pipeline"
   ]
  },
  {
   "attachments": {},
   "cell_type": "markdown",
   "metadata": {},
   "source": [
    "### Abstract"
   ]
  },
  {
   "cell_type": "code",
   "execution_count": 17,
   "metadata": {},
   "outputs": [],
   "source": [
    "import numpy as np\n",
    "\"\"\"\n",
    "Reconstruct and transform the abstract of a paper using abstract_inverted_index field. We will removed non alpha numeric caracters and lower every word.\n",
    "\"\"\"\n",
    "def reconstruct_abstract(paper):\n",
    "    # Maximum size of the abstract, if the paper abstarct is longer it will be truncated\n",
    "    abstract = np.full(2500,\"\",dtype=object)\n",
    "    # The \"abstract_inverted_index\" field is a dictionnary with word as key and locations of this word in the abstract\n",
    "    # So we fill the abstarct variable above at the index of the word to reconstruct the abstract\n",
    "    if paper[3]:\n",
    "        for w in paper[3]:\n",
    "            for indices in paper[3][w]:\n",
    "                if indices < 2500:\n",
    "                    abstract[indices] = ''.join(filter(str.isalnum, w)).lower()\n",
    "        # Remove empty location mostly due to a shorter abstract \n",
    "        abstract = abstract[abstract != \"\"]\n",
    "        #Convert array to string\n",
    "    str_abstract = ' '.join(abstract)\n",
    "    return str_abstract"
   ]
  },
  {
   "cell_type": "code",
   "execution_count": 18,
   "metadata": {},
   "outputs": [],
   "source": [
    "paper_using_abstract = {dataset:[] for dataset in paper_referencing}\n",
    "for dataset in paper_referencing:\n",
    "    for paper in paper_referencing[dataset]:\n",
    "        abstract = reconstruct_abstract(paper)\n",
    "        if dataset.lower() in abstract:\n",
    "            paper_using_abstract[dataset].append(paper[1])"
   ]
  },
  {
   "cell_type": "code",
   "execution_count": 40,
   "metadata": {},
   "outputs": [
    {
     "name": "stdout",
     "output_type": "stream",
     "text": [
      "Number of citations for ACDC: 8\n",
      "Number of citations for LA: 6\n",
      "Number of citations for MSCMR: 0\n",
      "Number of citations for M&Ms: 0\n",
      "Number of citations for PROMISE12: 3\n",
      "Number of citations for I2CVB: 0\n",
      "Number of citations for BRATS: 29\n",
      "Number of citations for Synapse: 0\n"
     ]
    }
   ],
   "source": [
    "for d in paper_using_abstract:\n",
    "    paper_using_abstract[d] = set(paper_using_abstract[d])\n",
    "    print(f\"Number of citations for {d}: {len(paper_using_abstract[d])}\")"
   ]
  },
  {
   "attachments": {},
   "cell_type": "markdown",
   "metadata": {},
   "source": [
    "### Download paper's fulltexts"
   ]
  },
  {
   "cell_type": "code",
   "execution_count": 23,
   "metadata": {},
   "outputs": [],
   "source": [
    "import glob\n",
    "downloaded_doi = []\n",
    "title_to_doi = {}\n",
    "#Already downloaded pdf\n",
    "pdf_path = glob.glob(\"../../results/papers_fulltext/miccai/*.pdf\")"
   ]
  },
  {
   "cell_type": "code",
   "execution_count": 24,
   "metadata": {},
   "outputs": [
    {
     "name": "stderr",
     "output_type": "stream",
     "text": [
      "100%|██████████| 40/40 [01:42<00:00,  2.57s/it]\n",
      "100%|██████████| 6/6 [00:03<00:00,  1.50it/s]\n",
      "0it [00:00, ?it/s]\n",
      "100%|██████████| 8/8 [00:27<00:00,  3.39s/it]\n",
      " 84%|████████▍ | 16/19 [00:21<00:03,  1.10s/it]Xref table not zero-indexed. ID numbers for objects will be corrected.\n",
      " 95%|█████████▍| 18/19 [00:29<00:02,  2.09s/it]Xref table not zero-indexed. ID numbers for objects will be corrected.\n",
      "100%|██████████| 19/19 [00:33<00:00,  1.74s/it]\n",
      "100%|██████████| 7/7 [00:00<00:00, 1031.95it/s]\n",
      "100%|██████████| 76/76 [02:16<00:00,  1.80s/it]\n",
      "0it [00:00, ?it/s]\n"
     ]
    }
   ],
   "source": [
    "from pypdf import PdfReader\n",
    "from pypdf.errors import PdfReadError\n",
    "\n",
    "for dataset in paper_referencing:\n",
    "    for paper in tqdm(paper_referencing[dataset]):\n",
    "        title = paper[0].replace('/','')\n",
    "        doi = paper[1]\n",
    "        fulltext_url = paper[4]\n",
    "        file_path = f\"../../results/papers_fulltext/miccai/{title}.pdf\"\n",
    "\n",
    "        if title not in title_to_doi:\n",
    "            title_to_doi[title]=doi\n",
    "        if not fulltext_url:\n",
    "            continue\n",
    "        if file_path in pdf_path:\n",
    "            continue\n",
    "        if not paper in paper_using_abstract[dataset]:\n",
    "            #Check that paper hasn't been downloaded before (for another dataset), otherwise try to download it\n",
    "            if doi not in downloaded_doi:\n",
    "                try:\n",
    "                    r_fulltext = requests.get(fulltext_url,allow_redirects=True,timeout=10)\n",
    "                    pdf_content = r_fulltext.content\n",
    "                    if r_fulltext.status_code == 200:\n",
    "                        open(file_path,\"wb\").write(r_fulltext.content)\n",
    "                        downloaded_doi.append(doi)\n",
    "                    else:\n",
    "                        continue\n",
    "                except requests.exceptions.RequestException as ce:\n",
    "                    continue\n",
    "            try:\n",
    "                #Try to read the pdf (Raise an error if the file is an invalid pdf)\n",
    "                PdfReader(file_path,strict=True)\n",
    "            except PdfReadError:\n",
    "                #If a PdfReadError is raised, the pdf is invalid and therefore removed from downloaded list\n",
    "                downloaded_doi.remove(doi)\n",
    "                continue\n"
   ]
  },
  {
   "cell_type": "code",
   "execution_count": 25,
   "metadata": {},
   "outputs": [
    {
     "name": "stdout",
     "output_type": "stream",
     "text": [
      "Number of downloaded fulltext: 102\n"
     ]
    }
   ],
   "source": [
    "print(f\"Number of downloaded fulltext: {len(downloaded_doi)}\")"
   ]
  },
  {
   "cell_type": "code",
   "execution_count": 26,
   "metadata": {},
   "outputs": [],
   "source": [
    "pdf_path = glob.glob(\"../../results/papers_fulltext/miccai/*.pdf\")"
   ]
  },
  {
   "cell_type": "code",
   "execution_count": 27,
   "metadata": {},
   "outputs": [
    {
     "name": "stderr",
     "output_type": "stream",
     "text": [
      " 47%|████▋     | 48/102 [03:10<02:41,  2.99s/it]Object 230 0 not defined.\n",
      "100%|██████████| 102/102 [09:01<00:00,  5.31s/it]\n"
     ]
    }
   ],
   "source": [
    "import camelot\n",
    "import ghostscript\n",
    "paper_using_tables = {dataset:[] for dataset in paper_referencing}\n",
    "for pdf in tqdm(pdf_path):\n",
    "    try:\n",
    "        tables = camelot.read_pdf(pdf,\"all\",flavor=\"stream\",suppress_stdout=True)\n",
    "        title= pdf.split(\"/\")[-1].removesuffix(\".pdf\")\n",
    "        for t in tables:\n",
    "            t_str = t.df.to_string()\n",
    "            for dataset in paper_using_tables:\n",
    "                if dataset.lower() in t_str.lower():\n",
    "                    paper_using_tables[dataset].append(title_to_doi[title])\n",
    "    except:\n",
    "        continue           "
   ]
  },
  {
   "cell_type": "code",
   "execution_count": 41,
   "metadata": {},
   "outputs": [
    {
     "name": "stdout",
     "output_type": "stream",
     "text": [
      "Number of citations for ACDC: 25\n",
      "Number of citations for LA: 98\n",
      "Number of citations for MSCMR: 3\n",
      "Number of citations for M&Ms: 8\n",
      "Number of citations for PROMISE12: 12\n",
      "Number of citations for I2CVB: 1\n",
      "Number of citations for BRATS: 52\n",
      "Number of citations for Synapse: 1\n"
     ]
    }
   ],
   "source": [
    "for d in paper_using_tables:\n",
    "    paper_using_tables[d] = set(paper_using_tables[d])\n",
    "    print(f\"Number of citations for {d}: {len(paper_using_tables[d])}\")"
   ]
  },
  {
   "cell_type": "code",
   "execution_count": 85,
   "metadata": {},
   "outputs": [
    {
     "name": "stdout",
     "output_type": "stream",
     "text": [
      "Number of citations for ACDC: 33\n",
      "Number of citations for ACDC: 28\n",
      "Number of citations for LA: 104\n",
      "Number of citations for LA: 101\n",
      "Number of citations for MSCMR: 3\n",
      "Number of citations for MSCMR: 3\n",
      "Number of citations for M&Ms: 8\n",
      "Number of citations for M&Ms: 8\n",
      "Number of citations for PROMISE12: 15\n",
      "Number of citations for PROMISE12: 13\n",
      "Number of citations for I2CVB: 1\n",
      "Number of citations for I2CVB: 1\n",
      "Number of citations for BRATS: 81\n",
      "Number of citations for BRATS: 58\n",
      "Number of citations for Synapse: 1\n",
      "Number of citations for Synapse: 1\n"
     ]
    }
   ],
   "source": [
    "confirmation_method = [paper_using_abstract,paper_using_tables]\n",
    "paper_confirmed = {dataset:[] for dataset in paper_referencing}\n",
    "for outcome in confirmation_method:\n",
    "    for dataset in outcome:\n",
    "        for paper in outcome[dataset]:\n",
    "            paper_confirmed[dataset].append(paper)\n",
    "for d in paper_confirmed:\n",
    "    print(f\"Number of citations for {d}: {len(paper_confirmed[d])}\")\n",
    "    paper_confirmed[d] = set(paper_confirmed[d])\n",
    "    print(f\"Number of citations for {d}: {len(paper_confirmed[d])}\")\n"
   ]
  },
  {
   "cell_type": "code",
   "execution_count": 46,
   "metadata": {},
   "outputs": [
    {
     "data": {
      "image/png": "[encoded data removed]",
      "text/plain": [
       "<Figure size 1500x500 with 1 Axes>"
      ]
     },
     "metadata": {},
     "output_type": "display_data"
    },
    {
     "name": "stdout",
     "output_type": "stream",
     "text": [
      "Base number of citation for ACDC: 40\n",
      "Number of confirmed citations for ACDC: 33\n",
      "Number of confirmed citations with abstract for ACDC: 8\n",
      "Number of confirmed citations with tables for ACDC: 25\n",
      "\n",
      "Base number of citation for LA: 6\n",
      "Number of confirmed citations for LA: 104\n",
      "Number of confirmed citations with abstract for LA: 6\n",
      "Number of confirmed citations with tables for LA: 98\n",
      "\n",
      "Base number of citation for MSCMR: 0\n",
      "Number of confirmed citations for MSCMR: 3\n",
      "Number of confirmed citations with abstract for MSCMR: 0\n",
      "Number of confirmed citations with tables for MSCMR: 3\n",
      "\n",
      "Base number of citation for M&Ms: 8\n",
      "Number of confirmed citations for M&Ms: 8\n",
      "Number of confirmed citations with abstract for M&Ms: 0\n",
      "Number of confirmed citations with tables for M&Ms: 8\n",
      "\n",
      "Base number of citation for PROMISE12: 19\n",
      "Number of confirmed citations for PROMISE12: 15\n",
      "Number of confirmed citations with abstract for PROMISE12: 3\n",
      "Number of confirmed citations with tables for PROMISE12: 12\n",
      "\n",
      "Base number of citation for I2CVB: 7\n",
      "Number of confirmed citations for I2CVB: 1\n",
      "Number of confirmed citations with abstract for I2CVB: 0\n",
      "Number of confirmed citations with tables for I2CVB: 1\n",
      "\n",
      "Base number of citation for BRATS: 76\n",
      "Number of confirmed citations for BRATS: 81\n",
      "Number of confirmed citations with abstract for BRATS: 29\n",
      "Number of confirmed citations with tables for BRATS: 52\n",
      "\n",
      "Base number of citation for Synapse: 0\n",
      "Number of confirmed citations for Synapse: 1\n",
      "Number of confirmed citations with abstract for Synapse: 0\n",
      "Number of confirmed citations with tables for Synapse: 1\n",
      "\n"
     ]
    }
   ],
   "source": [
    "import matplotlib.pyplot as plt\n",
    "X = list(paper_confirmed.keys())\n",
    "nb_ref = [len(paper_referencing[x]) for x in X]\n",
    "nb_confirmed = [len(paper_confirmed[x]) for x in X]\n",
    "nb_abstract = [len(paper_using_abstract[x]) for x in X]\n",
    "nb_tables = [len(paper_using_tables[x]) for x in X]\n",
    "\n",
    "X_axis = np.arange(0,len(X)*3,3)\n",
    "\n",
    "plt.figure(figsize=(15,5))\n",
    "plt.bar(X_axis - 0.4, nb_ref, 0.4, label = 'Base')\n",
    "plt.bar(X_axis, nb_confirmed, 0.4, label = 'Confirmed')\n",
    "plt.bar(X_axis + 0.4, nb_abstract, 0.4, label = 'Abstract')\n",
    "plt.bar(X_axis + 0.8, nb_tables, 0.4, label = 'tables')\n",
    "  \n",
    "plt.xticks(X_axis, X)\n",
    "plt.xlabel(\"Dataset\")\n",
    "plt.ylabel(\"Number of references\")\n",
    "plt.title(\"Number of references in total and confirmed by each method\")\n",
    "plt.legend()\n",
    "plt.show()\n",
    "\n",
    "for d in paper_confirmed:\n",
    "    print(f\"Base number of citation for {d}: {len(paper_referencing[d])}\")\n",
    "    print(f\"Number of confirmed citations for {d}: {len(paper_confirmed[d])}\")\n",
    "    print(f\"Number of confirmed citations with abstract for {d}: {len(paper_using_abstract[d])}\")\n",
    "    print(f\"Number of confirmed citations with tables for {d}: {len(paper_using_tables[d])}\\n\")"
   ]
  }
 ],
 "metadata": {
  "kernelspec": {
   "display_name": "Python 3",
   "language": "python",
   "name": "python3"
  },
  "language_info": {
   "codemirror_mode": {
    "name": "ipython",
    "version": 3
   },
   "file_extension": ".py",
   "mimetype": "text/x-python",
   "name": "python",
   "nbconvert_exporter": "python",
   "pygments_lexer": "ipython3",
   "version": "3.10.6"
  },
  "orig_nbformat": 4
 },
 "nbformat": 4,
 "nbformat_minor": 2
}
