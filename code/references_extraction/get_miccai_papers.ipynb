{
 "cells": [
  {
   "attachments": {},
   "cell_type": "markdown",
   "metadata": {},
   "source": [
    "# Gather list of MICCAI papers\n",
    "We can't distinguish papers from MICCAI using only OpenAlex, therefore we've used the API of [dblp.org](dblp.org) to get them.\n",
    "\n",
    "We have to query an url similar to https://dblp.org/search/publ/api?q=stream%3Aconf%2Fmiccai%3A%20streamid%3Aconf%2Fmiccai%3A%20type%3AConference_and_Workshop_Papers%3A&h=1000&f=1000&format=json\n",
    "\n",
    "We iterate through f value, as we can only get 1000 papers from a query, the f parameter indicates at which paper the result starts\n"
   ]
  },
  {
   "attachments": {},
   "cell_type": "markdown",
   "metadata": {},
   "source": [
    "## Get list of papers"
   ]
  },
  {
   "cell_type": "code",
   "execution_count": 11,
   "metadata": {},
   "outputs": [],
   "source": [
    "import requests\n",
    "indice_paper = 0\n",
    "nextPage = True\n",
    "#Dictionnary with doi as key and title as value\n",
    "lst_paper = {}\n",
    "while nextPage:\n",
    "    request_url = f\"https://dblp.org/search/publ/api?q=stream%3Aconf%2Fmiccai%3A%20streamid%3Aconf%2Fmiccai%3A%20type%3AConference_and_Workshop_Papers%3A&h=1000&f={indice_paper}&format=json\"\n",
    "    request = requests.get(request_url)\n",
    "    if request.status_code == 200:\n",
    "        r_json = request.json()\n",
    "        if r_json[\"result\"][\"hits\"][\"@sent\"] != '0':\n",
    "            for paper in r_json[\"result\"][\"hits\"][\"hit\"]:\n",
    "                if \"doi\" not in paper[\"info\"] or \"title\" not in paper[\"info\"] or int(paper[\"info\"][\"year\"]) < 2013 or paper[\"info\"][\"venue\"] != \"MICCAI\":\n",
    "                    continue\n",
    "                title = paper[\"info\"][\"title\"]\n",
    "                title = title.replace(\",\",\"\")\n",
    "                title = title.replace(\"\\n\",\"\")\n",
    "                year = paper[\"info\"][\"year\"]\n",
    "                venue = paper[\"info\"][\"venue\"]\n",
    "                doi = paper[\"info\"][\"doi\"]\n",
    "                lst_paper[doi] = title\n",
    "            indice_paper += 1000\n",
    "        else:\n",
    "            nextPage = False\n",
    "        \n",
    "            "
   ]
  },
  {
   "attachments": {},
   "cell_type": "markdown",
   "metadata": {},
   "source": [
    "## Save it in a csv\n",
    "So we don't need to query again the API"
   ]
  },
  {
   "cell_type": "code",
   "execution_count": 12,
   "metadata": {},
   "outputs": [],
   "source": [
    "import csv\n",
    "with open('../../data/miccai_papers.csv','w') as f:\n",
    "    f.write(\"doi,title\")\n",
    "    for k in lst_paper:\n",
    "        f.write(f\"\\n{k},{lst_paper[k]}\")"
   ]
  },
  {
   "attachments": {},
   "cell_type": "markdown",
   "metadata": {},
   "source": [
    "# Request OpenAlex\n",
    "For each paper obtained above, we use its API to query OpenAlex and check if a dataset is in the references. Then we apply the wrong reference detection process"
   ]
  },
  {
   "attachments": {},
   "cell_type": "markdown",
   "metadata": {},
   "source": [
    "### Load list of papers and datasets"
   ]
  },
  {
   "cell_type": "code",
   "execution_count": 29,
   "metadata": {},
   "outputs": [
    {
     "name": "stdout",
     "output_type": "stream",
     "text": [
      "Couldn't convert DOI for Synapse into OpenAlex ID\n"
     ]
    }
   ],
   "source": [
    "lst_paper = {}\n",
    "reader = csv.DictReader(open('../../data/miccai_papers.csv'))\n",
    "for paper in reader:\n",
    "    lst_paper[paper[\"doi\"]] = paper[\"title\"]\n",
    "\n",
    "#Dictionnary with dataset's name as key and DOI as value\n",
    "datasets_doi = {}\n",
    "ds_reader = csv.DictReader(open('../../data/datasets.csv'))\n",
    "for ds in ds_reader:\n",
    "    datasets_doi[ds[\"name\"]] = ds[\"DOI\"]\n",
    "\n",
    "\"\"\"\n",
    "Convert a DOI to OpenAlex ID used as value in some API field such as \"referenced_works\"\n",
    "@param\n",
    "    - DOI: the doi we want to convert\n",
    "@return\n",
    "    The OpenAlex ID if the DOI is in OpenAlex database, None otherwise\n",
    "\"\"\"\n",
    "def doi_to_OpenAlexId(doi):\n",
    "    base_url = f\"https://api.openalex.org/works/doi:{doi}\"\n",
    "    r = requests.get(base_url)\n",
    "    if r.status_code == 200:\n",
    "        r_json = r.json()\n",
    "        return r_json[\"id\"]\n",
    "    else:\n",
    "        return None\n",
    "\n",
    "#Dictionnary with dataset names as key and openalex id as value. We associate an openalex ID because it's the value in the \"referenced_works\" field given by the API.\n",
    "datasets_id = {}\n",
    "\n",
    "#Convert DOI to OpenAlexID\n",
    "for ds  in datasets_doi:\n",
    "    openalex_id = doi_to_OpenAlexId(datasets_doi[ds])\n",
    "    if not openalex_id:\n",
    "        print(f\"Couldn't convert DOI for {ds} into OpenAlex ID\")\n",
    "    datasets_id[ds]=openalex_id"
   ]
  },
  {
   "cell_type": "code",
   "execution_count": 30,
   "metadata": {},
   "outputs": [
    {
     "data": {
      "text/plain": [
       "{'ACDC': 'https://openalex.org/W2804047627',\n",
       " 'LA': 'https://openalex.org/W3093394156',\n",
       " 'MSCMR': 'https://openalex.org/W4312016581',\n",
       " 'M&Ms': 'https://openalex.org/W4226199676',\n",
       " 'PROMISE12': 'https://openalex.org/W2106033751',\n",
       " 'I2CVB': 'https://openalex.org/W2049522781',\n",
       " 'BRATS': 'https://openalex.org/W1641498739',\n",
       " 'Synapse': None}"
      ]
     },
     "execution_count": 30,
     "metadata": {},
     "output_type": "execute_result"
    }
   ],
   "source": [
    "datasets_id"
   ]
  },
  {
   "attachments": {},
   "cell_type": "markdown",
   "metadata": {},
   "source": [
    "### Query OpenAlex for each paper"
   ]
  },
  {
   "cell_type": "code",
   "execution_count": 34,
   "metadata": {},
   "outputs": [
    {
     "name": "stderr",
     "output_type": "stream",
     "text": [
      "100%|██████████| 3839/3839 [28:28<00:00,  2.25it/s]\n"
     ]
    }
   ],
   "source": [
    "from tqdm import tqdm\n",
    "paper_referencing = {ds:[] for ds in datasets_id}\n",
    "\n",
    "for doi in tqdm(lst_paper):\n",
    "    title = lst_paper[doi]\n",
    "    request_url = f\"https://api.openalex.org/works/doi:{doi}\"\n",
    "    request = requests.get(request_url)\n",
    "    if request.status_code == 200:\n",
    "        r_json = request.json()\n",
    "        fulltext_url = r_json[\"open_access\"][\"oa_url\"]\n",
    "        \n",
    "        #Remove review/survey paper\n",
    "        if \"review\" in title.lower() or \"survey\" in title.lower():\n",
    "            continue\n",
    "\n",
    "        for ds in paper_referencing:\n",
    "            if datasets_id[ds] in r_json[\"referenced_works\"]:\n",
    "                paper_referencing[ds].append((title,doi,r_json[\"publication_year\"],r_json[\"abstract_inverted_index\"],fulltext_url))\n",
    "                #paper_referencing[ds].append(doi)"
   ]
  },
  {
   "cell_type": "code",
   "execution_count": 35,
   "metadata": {},
   "outputs": [
    {
     "name": "stdout",
     "output_type": "stream",
     "text": [
      "Number of citations for ACDC: 40\n",
      "Number of citations for LA: 6\n",
      "Number of citations for MSCMR: 0\n",
      "Number of citations for M&Ms: 8\n",
      "Number of citations for PROMISE12: 19\n",
      "Number of citations for I2CVB: 7\n",
      "Number of citations for BRATS: 76\n",
      "Number of citations for Synapse: 0\n"
     ]
    }
   ],
   "source": [
    "for d in paper_referencing:\n",
    "    print(f\"Number of citations for {d}: {len(paper_referencing[d])}\")"
   ]
  }
 ],
 "metadata": {
  "kernelspec": {
   "display_name": "Python 3",
   "language": "python",
   "name": "python3"
  },
  "language_info": {
   "codemirror_mode": {
    "name": "ipython",
    "version": 3
   },
   "file_extension": ".py",
   "mimetype": "text/x-python",
   "name": "python",
   "nbconvert_exporter": "python",
   "pygments_lexer": "ipython3",
   "version": "3.10.6"
  },
  "orig_nbformat": 4
 },
 "nbformat": 4,
 "nbformat_minor": 2
}
