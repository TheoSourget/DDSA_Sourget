{
 "cells": [
  {
   "attachments": {},
   "cell_type": "markdown",
   "metadata": {},
   "source": [
    "# Transform data exported from Dimensions.ai in our format\n",
    "\n",
    "Combine and transform the csv in data/dimension in one file following our format (name,DOI,publication_year,dataset_used).\n",
    "\n",
    "The csv in the data/dimension folder should be named like this: {dataset_name}.csv"
   ]
  },
  {
   "cell_type": "code",
   "execution_count": 4,
   "metadata": {},
   "outputs": [
    {
     "name": "stdout",
     "output_type": "stream",
     "text": [
      "LA\n",
      "Medical Decathlon\n",
      "I2CVB\n",
      "ACDC\n",
      "BRATS\n",
      "PROMISE12\n",
      "Synapse\n",
      "MSCMRSeg\n"
     ]
    }
   ],
   "source": [
    "import re\n",
    "import csv\n",
    "import glob\n",
    "\n",
    "#Get every csv exported from dimension.ai\n",
    "paths = glob.glob('../data/dimension/*.csv')\n",
    "\n",
    "\n",
    "with open('../extracted_csv/paper_dimensions.csv','w') as res_csv:\n",
    "    res_csv.write(f\"name,DOI,publication_year,dataset_used\")\n",
    "\n",
    "    for p in paths:\n",
    "        #Get the dataset name (the file should be named {dataset_name}.csv so we remove the relative part and .csv from the path to only keep the name)\n",
    "        dataset = p[18:-4] \n",
    "        print(dataset)\n",
    "        with open(p) as CSVFile:\n",
    "            #Skip the first line from the csv before the header\n",
    "            next(CSVFile)\n",
    "            csv_reader = csv.DictReader(CSVFile,quotechar='\"')\n",
    "            for line in csv_reader:\n",
    "                doi = line['DOI']\n",
    "\n",
    "                #Get the title + remove ',' and \"\\n\" from it so it doesn't break the result csv\n",
    "                title = line['Title']\n",
    "                title = title.replace(\",\",\"\")\n",
    "                title = title.replace(\"\\n\",\"\")\n",
    "\n",
    "                year = line['PubYear']\n",
    "                #As the csv from dimension.ai is not well formed we check that the info in the 'PubYear' can be a date.\n",
    "                #We check that by using the regex \\d{4} so it match with date with format YYYY, YYYY-MM and YYYYY-MM-DD\n",
    "                m = re.search(r\"\\d{4}\",year)\n",
    "                if m:\n",
    "                    # Only keep the year in case we have a YYYY-MM or YYYY-MM-DD format\n",
    "                    year = year[:4]\n",
    "                else:\n",
    "                    # If the info is not a date we put None in the csv for this field\n",
    "                    year = None\n",
    "                \n",
    "                res_csv.write(f\"\\n{title},{doi},{year},{dataset}\")"
   ]
  }
 ],
 "metadata": {
  "kernelspec": {
   "display_name": "Python 3",
   "language": "python",
   "name": "python3"
  },
  "language_info": {
   "codemirror_mode": {
    "name": "ipython",
    "version": 3
   },
   "file_extension": ".py",
   "mimetype": "text/x-python",
   "name": "python",
   "nbconvert_exporter": "python",
   "pygments_lexer": "ipython3",
   "version": "3.10.6"
  },
  "orig_nbformat": 4,
  "vscode": {
   "interpreter": {
    "hash": "916dbcbb3f70747c44a77c7bcd40155683ae19c65e1c03b4aa3499c5328201f1"
   }
  }
 },
 "nbformat": 4,
 "nbformat_minor": 2
}
