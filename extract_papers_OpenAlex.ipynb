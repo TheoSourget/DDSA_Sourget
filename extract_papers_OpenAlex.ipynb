{
 "cells": [
  {
   "attachments": {},
   "cell_type": "markdown",
   "metadata": {},
   "source": [
    "## Extract dataset used by a paper with OpenAlex API"
   ]
  },
  {
   "attachments": {},
   "cell_type": "markdown",
   "metadata": {},
   "source": [
    "Exemple of request for the paper \"Exploring Soothness...\": https://api.openalex.org/works/https://doi.org/10.1007/978-3-031-16443-9_4?select=referenced_works"
   ]
  },
  {
   "cell_type": "code",
   "execution_count": 4,
   "metadata": {},
   "outputs": [],
   "source": [
    "import requests\n",
    "\n",
    "#Dictionnary of papers with names as key and DOIs as value\n",
    "papers = {\n",
    "    \"Exploring Smoothness and Class-Separation for Semi-supervised Medical Image Segmentation\":\"10.1007/978-3-031-16443-9_4\",\n",
    "    \"MaxStyle: Adversarial Style Composition for Robust Medical Image Segmentation\":\"10.1007/978-3-031-16443-9_15\",\n",
    "    \"nnFormer: Volumetric Medical Image Segmentation via a 3D Transformer\":\"10.48550/arXiv.2109.03201\",\n",
    "    \"Swin-Unet: Unet-like Pure Transformer for Medical Image Segmentation\":\"10.1007/978-3-031-25066-8_9\",\n",
    "    \"TransUNet: Transformers Make Strong Encoders for Medical Image Segmentation\":\"10.48550/arXiv.2102.04306\"\n",
    "}\n",
    "\n",
    "#Dictionnary with dataset names as key and openalex id as value\n",
    "datasets = {\n",
    "    \"ACDC\":\"https://openalex.org/W2804047627\",\n",
    "    \"LA\":\"https://openalex.org/W3093394156\",\n",
    "    \"PROMISE12\":\"https://openalex.org/W2106033751\",\n",
    "    \"MSCMRSeg\":\"https://openalex.org/W4312016581\",\n",
    "    \"M&Ms\":\"https://openalex.org/W4226199676\",\n",
    "    \"Medical Decathlon\":\"https://openalex.org/W3172681723\",\n",
    "    \"I2CVB\":\"https://openalex.org/W2049522781\",\n",
    "    \"BRATS\":\"https://openalex.org/W1641498739\"\n",
    "}"
   ]
  },
  {
   "cell_type": "code",
   "execution_count": 5,
   "metadata": {},
   "outputs": [
    {
     "data": {
      "text/plain": [
       "{'Exploring Smoothness and Class-Separation for Semi-supervised Medical Image Segmentation': ['ACDC',\n",
       "  'LA'],\n",
       " 'MaxStyle: Adversarial Style Composition for Robust Medical Image Segmentation': ['PROMISE12',\n",
       "  'I2CVB'],\n",
       " 'nnFormer: Volumetric Medical Image Segmentation via a 3D Transformer': ['ACDC'],\n",
       " 'Swin-Unet: Unet-like Pure Transformer for Medical Image Segmentation': [],\n",
       " 'TransUNet: Transformers Make Strong Encoders for Medical Image Segmentation': []}"
      ]
     },
     "execution_count": 5,
     "metadata": {},
     "output_type": "execute_result"
    }
   ],
   "source": [
    "#Base url for the request\n",
    "base_url = \"https://api.openalex.org/works/https://doi.org/\"\n",
    "\n",
    "#To only get the field of referenced works in the response\n",
    "query_param = {\n",
    "    \"select\":\"referenced_works\"\n",
    "}\n",
    "\n",
    "\n",
    "#Will be filled with datasets found in the \"referenced works\" response of each paper\n",
    "datasets_used = {p:[] for p in papers}\n",
    "\n",
    "for paper_name in papers:\n",
    "    request_url = base_url + papers[paper_name]\n",
    "    request = requests.get(request_url, params=query_param)\n",
    "    json_response = request.json()\n",
    "    for ds in datasets:\n",
    "        if datasets[ds] in json_response['referenced_works']:\n",
    "            datasets_used[paper_name].append(ds)\n",
    "    \n",
    "datasets_used"
   ]
  },
  {
   "attachments": {},
   "cell_type": "markdown",
   "metadata": {},
   "source": [
    "## Extract papers that use a dataset with OpenAlex"
   ]
  },
  {
   "attachments": {},
   "cell_type": "markdown",
   "metadata": {},
   "source": [
    "Exemple of request for ACDC: https://api.openalex.org/works?page=2&filter=cites:W2804047627"
   ]
  },
  {
   "cell_type": "code",
   "execution_count": 11,
   "metadata": {},
   "outputs": [
    {
     "name": "stdout",
     "output_type": "stream",
     "text": [
      "nnU-Net: a self-configuring method for deep learning-based biomedical image segmentation\n",
      "Automated cardiovascular magnetic resonance image analysis with fully convolutional networks\n",
      "Deep Learning for Cardiac Image Segmentation: A Review\n",
      "Deep Learning for Segmentation Using an Open Large-Scale Dataset in 2D Echocardiography\n",
      "Multi-Scale Self-Guided Attention for Medical Image Segmentation\n",
      "State-of-the-Art Deep Learning in Cardiovascular Image Analysis\n",
      "Evaluation of algorithms for Multi-Modality Whole Heart Segmentation: An open-access grand challenge\n",
      "Learning a Probabilistic Model for Diffeomorphic Registration\n",
      "Automatic 3D Bi-Ventricular Segmentation of Cardiac Images by a Shape-Refined Multi- Task Deep Learning Approach\n",
      "Loss odyssey in medical image segmentation\n",
      "Reference ranges (“normal values”) for cardiovascular magnetic resonance (CMR) in adults and children: 2020 update\n",
      "Machine learning in cardiovascular magnetic resonance: basic concepts and applications\n",
      "Convolutional Neural Network With Shape Prior Applied to Cardiac MRI Segmentation\n",
      "Disentangled representation learning in cardiac image analysis\n",
      "Fully Automated, Quality-Controlled Cardiac Analysis From CMR\n",
      "Image-Based Cardiac Diagnosis With Machine Learning: A Review\n",
      "Multi-Centre, Multi-Vendor and Multi-Disease Cardiac Segmentation: The M&amp;Ms Challenge\n",
      "Deep co-training for semi-supervised image segmentation\n",
      "Deep Learning in Cardiology\n",
      "Challenges in diffusion MRI tractography – Lessons learned from international benchmark competitions\n",
      "Semi-supervised and Task-Driven Data Augmentation\n",
      "Survey on Deep Neural Networks in Speech and Vision Systems\n",
      "Self-Supervised Learning for Cardiac MR Image Segmentation by Anatomical Position Prediction\n",
      "A global benchmark of algorithms for segmenting the left atrium from late gadolinium-enhanced cardiac magnetic resonance imaging\n",
      "A learning-based automatic segmentation and quantification method on left ventricle in gated myocardial perfusion SPECT imaging: A feasibility study\n"
     ]
    }
   ],
   "source": [
    "req_url = \"https://api.openalex.org/works?filter=cites:W2804047627\"\n",
    "request = requests.get(req_url)\n",
    "request_json = request.json()\n",
    "for res in request_json[\"results\"]:\n",
    "    print(res[\"title\"])"
   ]
  }
 ],
 "metadata": {
  "kernelspec": {
   "display_name": "Python 3",
   "language": "python",
   "name": "python3"
  },
  "language_info": {
   "codemirror_mode": {
    "name": "ipython",
    "version": 3
   },
   "file_extension": ".py",
   "mimetype": "text/x-python",
   "name": "python",
   "nbconvert_exporter": "python",
   "pygments_lexer": "ipython3",
   "version": "3.10.6"
  },
  "orig_nbformat": 4,
  "vscode": {
   "interpreter": {
    "hash": "916dbcbb3f70747c44a77c7bcd40155683ae19c65e1c03b4aa3499c5328201f1"
   }
  }
 },
 "nbformat": 4,
 "nbformat_minor": 2
}
