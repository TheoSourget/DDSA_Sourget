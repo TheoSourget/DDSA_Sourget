{
 "cells": [
  {
   "attachments": {},
   "cell_type": "markdown",
   "metadata": {},
   "source": [
    "## Extract dataset used by a paper with OpenAlex API"
   ]
  },
  {
   "attachments": {},
   "cell_type": "markdown",
   "metadata": {},
   "source": [
    "Exemple of request for the paper \"Exploring Soothness...\":  https://api.openalex.org/works/https://doi.org/10.1007/978-3-031-16443-9_4?select=referenced_works"
   ]
  },
  {
   "cell_type": "code",
   "execution_count": 28,
   "metadata": {},
   "outputs": [],
   "source": [
    "import requests\n",
    "import numpy as np\n",
    "from pprint import pprint\n",
    "#Dictionnary of papers with names as key and DOIs as value\n",
    "papers = {\n",
    "    \"Exploring Smoothness and Class-Separation for Semi-supervised Medical Image Segmentation\":\"10.1007/978-3-031-16443-9_4\",\n",
    "    \"MaxStyle: Adversarial Style Composition for Robust Medical Image Segmentation\":\"10.1007/978-3-031-16443-9_15\",\n",
    "    \"Swin-Unet: Unet-like Pure Transformer for Medical Image Segmentation\":\"10.1007/978-3-031-25066-8_9\",\n",
    "    \"nnFormer: Volumetric Medical Image Segmentation via a 3D Transformer\":\"10.48550/arXiv.2109.03201\",\n",
    "    \"TransUNet: Transformers Make Strong Encoders for Medical Image Segmentation\":\"10.48550/arXiv.2102.04306\"\n",
    "}\n",
    "\n",
    "#Dictionnary with dataset names as key and openalex id as value. We associate an openalex ID because it's the value in the \"referenced_works\" field given by the API.\n",
    "#To save a request, I use directly the OpenAlex ID otherwise you need to make a request with the ID to get the DOI or the name.\n",
    "datasets_id = {\n",
    "    \"ACDC\":\"https://openalex.org/W2804047627\",\n",
    "    \"LA\":\"https://openalex.org/W3093394156\",\n",
    "    \"PROMISE12\":\"https://openalex.org/W2106033751\",\n",
    "    \"MSCMRSeg\":\"https://openalex.org/W4312016581\",\n",
    "    \"M&Ms\":\"https://openalex.org/W4226199676\",\n",
    "    \"Medical Decathlon\":\"https://openalex.org/W3172681723\",\n",
    "    \"I2CVB\":\"https://openalex.org/W2049522781\",\n",
    "    \"BRATS\":\"https://openalex.org/W1641498739\"\n",
    "}\n",
    "\n",
    "datasets_context = {\n",
    "    \"ACDC\":\"Cardiac\",\n",
    "    \"LA\":\"Cardiac\",\n",
    "    \"MSCMRSeg\":\"Cardiac\",\n",
    "    \"M&Ms\":\"Cardiac\",\n",
    "    \"PROMISE12\":\"Prostate\",\n",
    "    \"Medical Decathlon\":\"Prostate\",\n",
    "    \"I2CVB\":\"Prostate\",\n",
    "    \"BRATS\":\"Brain\",\n",
    "    \"Synapse\":\"Multi-organ\"\n",
    "}"
   ]
  },
  {
   "cell_type": "code",
   "execution_count": 33,
   "metadata": {},
   "outputs": [
    {
     "name": "stdout",
     "output_type": "stream",
     "text": [
      "{'Exploring Smoothness and Class-Separation for Semi-supervised Medical Image Segmentation': ['ACDC',\n",
      "                                                                                              'LA'],\n",
      " 'MaxStyle: Adversarial Style Composition for Robust Medical Image Segmentation': ['PROMISE12',\n",
      "                                                                                   'I2CVB'],\n",
      " 'Swin-Unet: Unet-like Pure Transformer for Medical Image Segmentation': [],\n",
      " 'TransUNet: Transformers Make Strong Encoders for Medical Image Segmentation': [],\n",
      " 'nnFormer: Volumetric Medical Image Segmentation via a 3D Transformer': ['ACDC']}\n"
     ]
    }
   ],
   "source": [
    "#Base url for the request\n",
    "base_url = \"https://api.openalex.org/works/https://doi.org/\"\n",
    "\n",
    "#To only get the field of referenced works in the response\n",
    "query_param = {\n",
    "    \"select\":\"referenced_works\"\n",
    "}\n",
    "\n",
    "\n",
    "#Will be filled with datasets found in the \"referenced works\" response of each paper\n",
    "datasets_used = {p:[] for p in papers}\n",
    "\n",
    "for paper_name in papers:\n",
    "    request_url = base_url + papers[paper_name]\n",
    "    request = requests.get(request_url, params=query_param)\n",
    "    json_response = request.json()\n",
    "    for ds in datasets_id:\n",
    "        if datasets_id[ds] in json_response['referenced_works']:\n",
    "            datasets_used[paper_name].append(ds)\n",
    "pprint(datasets_used)"
   ]
  },
  {
   "attachments": {},
   "cell_type": "markdown",
   "metadata": {},
   "source": [
    "## Extract papers that use a dataset with OpenAlex"
   ]
  },
  {
   "attachments": {},
   "cell_type": "markdown",
   "metadata": {},
   "source": [
    "Exemple of request for ACDC: https://api.openalex.org/works?page=2&filter=cites:W2804047627"
   ]
  },
  {
   "cell_type": "code",
   "execution_count": 30,
   "metadata": {},
   "outputs": [
    {
     "name": "stdout",
     "output_type": "stream",
     "text": [
      "{'Exploring Smoothness and Class-Separation for Semi-supervised Medical Image Segmentation': ['ACDC',\n",
      "                                                                                              'LA'],\n",
      " 'MaxStyle: Adversarial Style Composition for Robust Medical Image Segmentation': ['PROMISE12',\n",
      "                                                                                   'I2CVB'],\n",
      " 'Swin-Unet: Unet-like Pure Transformer for Medical Image Segmentation': [],\n",
      " 'TransUNet: Transformers Make Strong Encoders for Medical Image Segmentation': [],\n",
      " 'nnFormer: Volumetric Medical Image Segmentation via a 3D Transformer': []}\n"
     ]
    }
   ],
   "source": [
    "datasets_used = {p:[] for p in papers}\n",
    "for dataset in datasets_id:\n",
    "    next_page = True\n",
    "    page_number = 1\n",
    "    while next_page:\n",
    "        base_url = \"https://api.openalex.org/works\"\n",
    "        query_param = {\n",
    "            \"filter\":f\"cites:{datasets_id[dataset]}\",\n",
    "            \"page\":page_number\n",
    "        }\n",
    "        request = requests.get(base_url,params=query_param)\n",
    "        request_json = request.json()\n",
    "        \n",
    "        for res in request_json[\"results\"]:\n",
    "            if res[\"title\"] in papers:\n",
    "                datasets_used[res[\"title\"]].append(dataset)\n",
    "        if not request_json[\"results\"]:\n",
    "            next_page = False\n",
    "        else:\n",
    "            page_number += 1\n",
    "\n",
    "pprint(datasets_used)"
   ]
  },
  {
   "attachments": {},
   "cell_type": "markdown",
   "metadata": {},
   "source": [
    "## Extract Paper Task with the abstract contains in API Response"
   ]
  },
  {
   "attachments": {},
   "cell_type": "markdown",
   "metadata": {},
   "source": [
    "Exemple of request for the paper \"Exploring Soothness...\":  https://api.openalex.org/works/https://doi.org/10.1007/978-3-031-16443-9_4?select=abstract_inverted_index"
   ]
  },
  {
   "cell_type": "code",
   "execution_count": 34,
   "metadata": {},
   "outputs": [
    {
     "data": {
      "text/plain": [
       "{'Exploring Smoothness and Class-Separation for Semi-supervised Medical Image Segmentation': [],\n",
       " 'MaxStyle: Adversarial Style Composition for Robust Medical Image Segmentation': ['Cardiac',\n",
       "  'Prostate'],\n",
       " 'Swin-Unet: Unet-like Pure Transformer for Medical Image Segmentation': ['Cardiac',\n",
       "  'Multi-organ'],\n",
       " 'nnFormer: Volumetric Medical Image Segmentation via a 3D Transformer': [],\n",
       " 'TransUNet: Transformers Make Strong Encoders for Medical Image Segmentation': ['Cardiac',\n",
       "  'Multi-organ']}"
      ]
     },
     "execution_count": 34,
     "metadata": {},
     "output_type": "execute_result"
    }
   ],
   "source": [
    "#Base url for the request\n",
    "base_url = \"https://api.openalex.org/works/https://doi.org/\"\n",
    "\n",
    "#To only get the field of referenced works in the response\n",
    "query_param = {\n",
    "    \"select\":\"abstract_inverted_index\"\n",
    "}\n",
    "\n",
    "key_words = [\"Heart\",\"Cardiac\",\"Prostate\",\"Multi-organ\",\"Brain\",\"Liver\",\"Aorta\",\"Gallblader\",\"Spleen\",\"Kidney\",\"Pancreas\",\"Stomach\",\"Lung\",\"Breast\",\"Chest\",\"Skin\",\"Eye\",\"Retina\"]\n",
    "paper_theme = {p:[] for p in papers}\n",
    "\n",
    "for paper_name in papers:\n",
    "    request_url = base_url + papers[paper_name]\n",
    "    request = requests.get(request_url, params=query_param)\n",
    "    json_response = request.json()\n",
    "    abstract_words = list(json_response[\"abstract_inverted_index\"])\n",
    "    for kw in key_words:\n",
    "        if np.array([kw.upper() in w.upper() for w in abstract_words]).any():\n",
    "            paper_theme[paper_name].append(kw)\n",
    "\n",
    "paper_theme"
   ]
  },
  {
   "attachments": {},
   "cell_type": "markdown",
   "metadata": {},
   "source": [
    "## Merge the information between context obtained with abstract and context obtained with referenced datasets "
   ]
  },
  {
   "cell_type": "code",
   "execution_count": 35,
   "metadata": {},
   "outputs": [
    {
     "name": "stdout",
     "output_type": "stream",
     "text": [
      "==============================Before fusion using only abstract==============================\n",
      "{'Exploring Smoothness and Class-Separation for Semi-supervised Medical Image Segmentation': [],\n",
      " 'MaxStyle: Adversarial Style Composition for Robust Medical Image Segmentation': ['Cardiac',\n",
      "                                                                                   'Prostate'],\n",
      " 'Swin-Unet: Unet-like Pure Transformer for Medical Image Segmentation': ['Cardiac',\n",
      "                                                                          'Multi-organ'],\n",
      " 'TransUNet: Transformers Make Strong Encoders for Medical Image Segmentation': ['Cardiac',\n",
      "                                                                                 'Multi-organ'],\n",
      " 'nnFormer: Volumetric Medical Image Segmentation via a 3D Transformer': []}\n",
      "\n",
      "==============================After fusion using both abstract and referenced papers==============================\n",
      "{'Exploring Smoothness and Class-Separation for Semi-supervised Medical Image Segmentation': ['Cardiac'],\n",
      " 'MaxStyle: Adversarial Style Composition for Robust Medical Image Segmentation': ['Cardiac',\n",
      "                                                                                   'Prostate'],\n",
      " 'Swin-Unet: Unet-like Pure Transformer for Medical Image Segmentation': ['Cardiac',\n",
      "                                                                          'Multi-organ'],\n",
      " 'TransUNet: Transformers Make Strong Encoders for Medical Image Segmentation': ['Cardiac',\n",
      "                                                                                 'Multi-organ'],\n",
      " 'nnFormer: Volumetric Medical Image Segmentation via a 3D Transformer': ['Cardiac']}\n"
     ]
    }
   ],
   "source": [
    "print(\"==============================Before fusion using only abstract==============================\")\n",
    "pprint(paper_theme)\n",
    "for paper_name in papers:\n",
    "    datasets = datasets_used[paper_name]\n",
    "    for ds in datasets:\n",
    "        if datasets_context[ds] not in paper_theme[paper_name]:\n",
    "            paper_theme[paper_name].append(datasets_context[ds])\n",
    "print(\"\\n==============================After fusion using both abstract and referenced papers==============================\")\n",
    "pprint(paper_theme)"
   ]
  }
 ],
 "metadata": {
  "kernelspec": {
   "display_name": "Python 3",
   "language": "python",
   "name": "python3"
  },
  "language_info": {
   "codemirror_mode": {
    "name": "ipython",
    "version": 3
   },
   "file_extension": ".py",
   "mimetype": "text/x-python",
   "name": "python",
   "nbconvert_exporter": "python",
   "pygments_lexer": "ipython3",
   "version": "3.10.6"
  },
  "orig_nbformat": 4,
  "vscode": {
   "interpreter": {
    "hash": "916dbcbb3f70747c44a77c7bcd40155683ae19c65e1c03b4aa3499c5328201f1"
   }
  }
 },
 "nbformat": 4,
 "nbformat_minor": 2
}
