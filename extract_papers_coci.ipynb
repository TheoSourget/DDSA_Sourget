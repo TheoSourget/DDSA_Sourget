{
 "cells": [
  {
   "attachments": {},
   "cell_type": "markdown",
   "metadata": {},
   "source": [
    "# Extraction of papers referencing datasets Using OpenCitation API with CrossRef database"
   ]
  },
  {
   "attachments": {},
   "cell_type": "markdown",
   "metadata": {},
   "source": [
    "## How does this file work ?\n",
    "\n",
    "1. First, we get the DOI of the datasets we want to query using datasets.csv file\n",
    "2. For each dataset, make a get request to https://opencitations.net/index/coci/api/v1/citations/{DOI_of_the_dataset}\n",
    "3. From the API response, get the DOI and year of the paper that cites the dataset\n",
    "4. Export the result in paper_coci.csv"
   ]
  },
  {
   "attachments": {},
   "cell_type": "markdown",
   "metadata": {},
   "source": [
    "Get data from datasets.csv"
   ]
  },
  {
   "cell_type": "code",
   "execution_count": 1,
   "metadata": {},
   "outputs": [
    {
     "name": "stdout",
     "output_type": "stream",
     "text": [
      "{'ACDC': '10.1109/TMI.2018.2837502',\n",
      " 'BRATS': '10.1109/tmi.2014.2377694',\n",
      " 'I2CVB': '10.1016/j.compbiomed.2015.02.009',\n",
      " 'LA': '10.1016/j.media.2020.101832',\n",
      " 'M&Ms': '10.1109/tmi.2021.3090082',\n",
      " 'MSCMRSeg': '10.48550/arxiv.2006.12434',\n",
      " 'Medical Decathlon': '10.1038/s41467-022-30695-9',\n",
      " 'PROMISE12': '10.1016/j.media.2013.12.002',\n",
      " 'Synapse': '10.7303/syn3193805'}\n"
     ]
    }
   ],
   "source": [
    "import requests\n",
    "import numpy as np\n",
    "from pprint import pprint\n",
    "import csv\n",
    "\n",
    "#Dictionnary with dataset's name as key and DOI as value\n",
    "datasets_DOI = {}\n",
    "\n",
    "ds_reader = csv.DictReader(open('./data/datasets.csv'))\n",
    "for ds in ds_reader:\n",
    "    datasets_DOI[ds[\"name\"]] = ds[\"DOI\"]\n",
    "\n",
    "pprint(datasets_DOI)\n"
   ]
  },
  {
   "attachments": {},
   "cell_type": "markdown",
   "metadata": {},
   "source": [
    "Request the OpenCitation API"
   ]
  },
  {
   "cell_type": "code",
   "execution_count": 4,
   "metadata": {},
   "outputs": [
    {
     "name": "stdout",
     "output_type": "stream",
     "text": [
      "ERROR 500 for dataset ACDC\n",
      "ERROR 500 for dataset LA\n",
      "ERROR 500 for dataset PROMISE12\n",
      "ERROR 500 for dataset MSCMRSeg\n",
      "ERROR 500 for dataset M&Ms\n",
      "ERROR 500 for dataset Medical Decathlon\n",
      "ERROR 500 for dataset I2CVB\n",
      "ERROR 500 for dataset BRATS\n",
      "ERROR 500 for dataset Synapse\n"
     ]
    }
   ],
   "source": [
    "url_base = \"https://opencitations.net/index/coci/api/v1/citations/\"\n",
    "paper_using = {ds:[] for ds in datasets_DOI}\n",
    "\n",
    "for ds in datasets_DOI:\n",
    "    req_url = url_base + datasets_DOI[ds]\n",
    "    req = requests.get(req_url)\n",
    "    if req.status_code == 200:\n",
    "        req_json = req.json()\n",
    "        for cite in req_json:\n",
    "            doi = cite[\"citing\"]\n",
    "            year = cite[\"creation\"][:4]\n",
    "            paper_using[ds].append((doi,year))\n",
    "    else:\n",
    "        print(f\"ERROR {req.status_code} for dataset {ds}\")\n"
   ]
  },
  {
   "attachments": {},
   "cell_type": "markdown",
   "metadata": {},
   "source": [
    "Export the result in paper_coci.csv"
   ]
  },
  {
   "cell_type": "code",
   "execution_count": 3,
   "metadata": {},
   "outputs": [],
   "source": [
    "with open(\"./extracted_csv/paper_coci.csv\",\"w\") as file:\n",
    "    file.write(f\"name,DOI,publication_year,dataset_used\")\n",
    "    for ds in datasets_DOI:\n",
    "        lst_papers = paper_using[ds]\n",
    "        for pap in lst_papers:\n",
    "            file.write(f\"\\n{None},{pap[0]},{pap[1]},{ds}\")"
   ]
  }
 ],
 "metadata": {
  "kernelspec": {
   "display_name": "Python 3",
   "language": "python",
   "name": "python3"
  },
  "language_info": {
   "codemirror_mode": {
    "name": "ipython",
    "version": 3
   },
   "file_extension": ".py",
   "mimetype": "text/x-python",
   "name": "python",
   "nbconvert_exporter": "python",
   "pygments_lexer": "ipython3",
   "version": "3.10.6"
  },
  "orig_nbformat": 4,
  "vscode": {
   "interpreter": {
    "hash": "916dbcbb3f70747c44a77c7bcd40155683ae19c65e1c03b4aa3499c5328201f1"
   }
  }
 },
 "nbformat": 4,
 "nbformat_minor": 2
}
